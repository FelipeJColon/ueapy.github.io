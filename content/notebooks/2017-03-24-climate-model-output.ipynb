{
 "cells": [
  {
   "cell_type": "code",
   "execution_count": 1,
   "metadata": {
    "collapsed": true,
    "deletable": true,
    "editable": true
   },
   "outputs": [],
   "source": [
    "name = '2017-03-24-climate-model-output'\n",
    "title = 'Two ways of preparing climate model output for analysis'\n",
    "tags = 'numpy, iris'\n",
    "author = 'Denis Sergeev'"
   ]
  },
  {
   "cell_type": "code",
   "execution_count": 2,
   "metadata": {
    "collapsed": true,
    "deletable": true,
    "editable": true
   },
   "outputs": [],
   "source": [
    "from nb_tools import connect_notebook_to_post\n",
    "from IPython.core.display import HTML, Image\n",
    "\n",
    "html = connect_notebook_to_post(name, title, tags, author)"
   ]
  },
  {
   "cell_type": "markdown",
   "metadata": {
    "deletable": true,
    "editable": true
   },
   "source": [
    "Today one of the group members asked for help with reading climate model output and preparing it for data analysis."
   ]
  },
  {
   "cell_type": "markdown",
   "metadata": {},
   "source": [
    "This notebook shows a couple of ways of doing that with the help of `numpy` and `iris` Python packages."
   ]
  },
  {
   "cell_type": "markdown",
   "metadata": {},
   "source": [
    "Luckily, the model output is quite small and stored in a simple ASCII file. However, it has some properties that can be a hurdle for a programming novice."
   ]
  },
  {
   "cell_type": "markdown",
   "metadata": {
    "deletable": true,
    "editable": true
   },
   "source": [
    "### Download the data from UEA archive"
   ]
  },
  {
   "cell_type": "markdown",
   "metadata": {},
   "source": [
    "We start with downloading data from a given link. "
   ]
  },
  {
   "cell_type": "code",
   "execution_count": 3,
   "metadata": {
    "collapsed": true
   },
   "outputs": [],
   "source": [
    "URL = 'https://archive.uea.ac.uk/~jeu11bxu/tc/run1_U_60N_10hPa.dat'"
   ]
  },
  {
   "cell_type": "markdown",
   "metadata": {},
   "source": [
    "Instead of copy-pasting the contents manually, we are going to use Python's standard library and download the file, making this part of scientific analysis more [reproducible](https://www.youtube.com/playlist?list=PLYCpMb24GpOC704uO9svUrihl-HY1tTJJ)."
   ]
  },
  {
   "cell_type": "code",
   "execution_count": 4,
   "metadata": {
    "collapsed": true,
    "deletable": true,
    "editable": true
   },
   "outputs": [],
   "source": [
    "from urllib.request import urlretrieve"
   ]
  },
  {
   "cell_type": "markdown",
   "metadata": {},
   "source": [
    "To organise data and code folders, we also import `os` module."
   ]
  },
  {
   "cell_type": "code",
   "execution_count": 5,
   "metadata": {
    "collapsed": true
   },
   "outputs": [],
   "source": [
    "import os"
   ]
  },
  {
   "cell_type": "code",
   "execution_count": 6,
   "metadata": {
    "collapsed": true,
    "deletable": true,
    "editable": true
   },
   "outputs": [],
   "source": [
    "datadir = os.path.join(os.path.pardir, 'data')  # directory is one level up\n",
    "if not os.path.isdir(datadir):\n",
    "    # if the directory does not exist, create it\n",
    "    os.makedirs(datadir)\n",
    "\n",
    "# File with data\n",
    "fname = os.path.join(datadir, 'data.dat')"
   ]
  },
  {
   "cell_type": "markdown",
   "metadata": {},
   "source": [
    "Now that we have a directory to store data, we can save the model output there."
   ]
  },
  {
   "cell_type": "code",
   "execution_count": 7,
   "metadata": {
    "collapsed": false,
    "deletable": true,
    "editable": true
   },
   "outputs": [
    {
     "data": {
      "text/plain": [
       "('../data/data.dat', <http.client.HTTPMessage at 0x7f5b283a81d0>)"
      ]
     },
     "execution_count": 7,
     "metadata": {},
     "output_type": "execute_result"
    }
   ],
   "source": [
    "urlretrieve(URL, fname)"
   ]
  },
  {
   "cell_type": "markdown",
   "metadata": {},
   "source": [
    "### Read the data using `numpy`"
   ]
  },
  {
   "cell_type": "markdown",
   "metadata": {},
   "source": [
    "Since the data are purely numeric, we use `numpy` module."
   ]
  },
  {
   "cell_type": "code",
   "execution_count": 8,
   "metadata": {
    "collapsed": true,
    "deletable": true,
    "editable": true
   },
   "outputs": [],
   "source": [
    "import numpy as np"
   ]
  },
  {
   "cell_type": "code",
   "execution_count": 9,
   "metadata": {
    "collapsed": false,
    "deletable": true,
    "editable": true
   },
   "outputs": [],
   "source": [
    "data = np.genfromtxt(fname)"
   ]
  },
  {
   "cell_type": "code",
   "execution_count": 10,
   "metadata": {
    "collapsed": false,
    "deletable": true,
    "editable": true
   },
   "outputs": [
    {
     "data": {
      "text/plain": [
       "(1500, 6)"
      ]
     },
     "execution_count": 10,
     "metadata": {},
     "output_type": "execute_result"
    }
   ],
   "source": [
    "data.shape"
   ]
  },
  {
   "cell_type": "code",
   "execution_count": 11,
   "metadata": {
    "collapsed": false
   },
   "outputs": [
    {
     "data": {
      "text/plain": [
       "array([[  6.74683,   8.44815,   4.10201,   4.62099,   8.84487,  15.718  ],\n",
       "       [ 20.4013 ,  25.0052 ,  26.7049 ,  24.2583 ,  21.5956 ,  28.7007 ],\n",
       "       [ 37.33   ,  35.545  ,  33.39   ,  24.4802 ,  24.7544 ,  25.5569 ],\n",
       "       ..., \n",
       "       [ 13.3082 ,  12.9732 ,  18.6628 ,  22.5797 ,  20.8556 ,  25.2516 ],\n",
       "       [ 21.6696 ,  13.2805 ,  13.5226 ,  23.432  ,  26.1123 ,  25.6979 ],\n",
       "       [ 26.1932 ,  21.6942 ,  15.5987 ,  13.2761 ,  14.5777 ,  17.3154 ]])"
      ]
     },
     "execution_count": 11,
     "metadata": {},
     "output_type": "execute_result"
    }
   ],
   "source": [
    "data"
   ]
  },
  {
   "cell_type": "markdown",
   "metadata": {},
   "source": [
    "For some reason the data are stored in 6 columns by 1500 rows, which in total is 9000 values."
   ]
  },
  {
   "cell_type": "markdown",
   "metadata": {},
   "source": [
    "We know *a priori* that the file contains **75 years** of data written every **third** day, and the climate model's calendar is **360-day** calendar. Hence, we have 120 values per year:"
   ]
  },
  {
   "cell_type": "code",
   "execution_count": 12,
   "metadata": {
    "collapsed": false,
    "deletable": true,
    "editable": true
   },
   "outputs": [
    {
     "data": {
      "text/plain": [
       "120.0"
      ]
     },
     "execution_count": 12,
     "metadata": {},
     "output_type": "execute_result"
    }
   ],
   "source": [
    "data.shape[0] * data.shape[1] / 75"
   ]
  },
  {
   "cell_type": "markdown",
   "metadata": {},
   "source": [
    "Keeping data in $1500\\times6$ array does not seem to be useful, so we make it 1-D:"
   ]
  },
  {
   "cell_type": "code",
   "execution_count": 13,
   "metadata": {
    "collapsed": false,
    "deletable": true,
    "editable": true
   },
   "outputs": [
    {
     "data": {
      "text/plain": [
       "(9000,)"
      ]
     },
     "execution_count": 13,
     "metadata": {},
     "output_type": "execute_result"
    }
   ],
   "source": [
    "data = data.flatten()\n",
    "data.shape"
   ]
  },
  {
   "cell_type": "markdown",
   "metadata": {
    "deletable": true,
    "editable": true
   },
   "source": [
    "#### Wrap it up in a function"
   ]
  },
  {
   "cell_type": "markdown",
   "metadata": {},
   "source": [
    "To make the code above reusable, we create the following function to get data."
   ]
  },
  {
   "cell_type": "code",
   "execution_count": 14,
   "metadata": {
    "collapsed": true,
    "deletable": true,
    "editable": true
   },
   "outputs": [],
   "source": [
    "def get_model_data(url=URL, fname='climate_model_data.dat', force_download=False):\n",
    "    \"\"\"\n",
    "    Function to download climate model output from UEA server\n",
    "    \n",
    "    Parameters\n",
    "    ---------\n",
    "    url : string (optional)\n",
    "        web location of the data\n",
    "    fname : string (optional)\n",
    "        full path to save the data\n",
    "    force_download : bool (optional)\n",
    "        if True, force redownload of data\n",
    "    Returns\n",
    "    -------\n",
    "    data : numpy.ndarray\n",
    "        1-D array of data\n",
    "    \"\"\"\n",
    "    if not os.path.exists(fname) or force_download:\n",
    "        urlretrieve(URL, fname)\n",
    "        # print('Downloading...')\n",
    "    data = np.genfromtxt(fname)\n",
    "    \n",
    "    return data.flatten()"
   ]
  },
  {
   "cell_type": "code",
   "execution_count": 15,
   "metadata": {
    "collapsed": false,
    "deletable": true,
    "editable": true
   },
   "outputs": [],
   "source": [
    "data = get_model_data()"
   ]
  },
  {
   "cell_type": "markdown",
   "metadata": {},
   "source": [
    "## 1. Plain NumPy"
   ]
  },
  {
   "cell_type": "markdown",
   "metadata": {
    "deletable": true,
    "editable": true
   },
   "source": [
    "### Reshape the array to YEARS $\\times$ DAYS"
   ]
  },
  {
   "cell_type": "markdown",
   "metadata": {},
   "source": [
    "Now we transform the array into a more useful shape."
   ]
  },
  {
   "cell_type": "code",
   "execution_count": 16,
   "metadata": {
    "collapsed": true,
    "deletable": true,
    "editable": true
   },
   "outputs": [],
   "source": [
    "NDAYS = 120  # the number of 3-day periods in a 360-day year\n",
    "NYEARS = 75  # the total number of years"
   ]
  },
  {
   "cell_type": "code",
   "execution_count": 17,
   "metadata": {
    "collapsed": false,
    "deletable": true,
    "editable": true
   },
   "outputs": [
    {
     "name": "stdout",
     "output_type": "stream",
     "text": [
      "(75, 120)\n"
     ]
    }
   ],
   "source": [
    "data_yd = data.reshape((NYEARS, NDAYS))\n",
    "print(data_yd.shape)"
   ]
  },
  {
   "cell_type": "markdown",
   "metadata": {},
   "source": [
    "For example, this is a value of $u$-wind on 30 January of the last year:"
   ]
  },
  {
   "cell_type": "code",
   "execution_count": 18,
   "metadata": {
    "collapsed": false,
    "deletable": true,
    "editable": true
   },
   "outputs": [
    {
     "data": {
      "text/plain": [
       "23.914400000000001"
      ]
     },
     "execution_count": 18,
     "metadata": {},
     "output_type": "execute_result"
    }
   ],
   "source": [
    "data_yd[-1, 10]"
   ]
  },
  {
   "cell_type": "markdown",
   "metadata": {
    "deletable": true,
    "editable": true
   },
   "source": [
    "### Select only winter months"
   ]
  },
  {
   "cell_type": "markdown",
   "metadata": {},
   "source": [
    "What if we want to extract only winter data? We can't use the first winter, because it's incomplete: it only has January and February. So the first *winter* period will comprise December data from the year 1:"
   ]
  },
  {
   "cell_type": "code",
   "execution_count": 19,
   "metadata": {
    "collapsed": false
   },
   "outputs": [
    {
     "data": {
      "text/plain": [
       "array([ 15.5446,  20.6539,  16.4162,  22.0274,  30.3875,  27.8614,\n",
       "        28.5274,  32.0706,  35.9934,  34.0339])"
      ]
     },
     "execution_count": 19,
     "metadata": {},
     "output_type": "execute_result"
    }
   ],
   "source": [
    "data_yd[0, -10:]"
   ]
  },
  {
   "cell_type": "markdown",
   "metadata": {},
   "source": [
    "plus January and February data from the year 2:"
   ]
  },
  {
   "cell_type": "code",
   "execution_count": 20,
   "metadata": {
    "collapsed": false,
    "deletable": true,
    "editable": true
   },
   "outputs": [
    {
     "data": {
      "text/plain": [
       "array([  3.06054000e+01,   2.61758000e+01,   2.98059000e+01,\n",
       "         3.20111000e+01,   2.72294000e+01,   1.97748000e+01,\n",
       "         1.90082000e+01,   1.51616000e+01,   1.22748000e+01,\n",
       "         1.09608000e+01,   1.36364000e+01,   2.22356000e+01,\n",
       "         2.76375000e+01,   2.39670000e+01,   1.24344000e+01,\n",
       "         2.54243000e+00,   2.32738000e-01,  -3.17650000e-02,\n",
       "         6.82037000e-01,   4.43382000e-02])"
      ]
     },
     "execution_count": 20,
     "metadata": {},
     "output_type": "execute_result"
    }
   ],
   "source": [
    "data_yd[1, :20]"
   ]
  },
  {
   "cell_type": "markdown",
   "metadata": {},
   "source": [
    "To join them, we can use `numpy.concatentate()` function:"
   ]
  },
  {
   "cell_type": "code",
   "execution_count": 21,
   "metadata": {
    "collapsed": false
   },
   "outputs": [
    {
     "data": {
      "text/plain": [
       "array([  1.55446000e+01,   2.06539000e+01,   1.64162000e+01,\n",
       "         2.20274000e+01,   3.03875000e+01,   2.78614000e+01,\n",
       "         2.85274000e+01,   3.20706000e+01,   3.59934000e+01,\n",
       "         3.40339000e+01,   3.06054000e+01,   2.61758000e+01,\n",
       "         2.98059000e+01,   3.20111000e+01,   2.72294000e+01,\n",
       "         1.97748000e+01,   1.90082000e+01,   1.51616000e+01,\n",
       "         1.22748000e+01,   1.09608000e+01,   1.36364000e+01,\n",
       "         2.22356000e+01,   2.76375000e+01,   2.39670000e+01,\n",
       "         1.24344000e+01,   2.54243000e+00,   2.32738000e-01,\n",
       "        -3.17650000e-02,   6.82037000e-01,   4.43382000e-02])"
      ]
     },
     "execution_count": 21,
     "metadata": {},
     "output_type": "execute_result"
    }
   ],
   "source": [
    "np.concatenate([data_yd[0, -10:], data_yd[1, :20]])"
   ]
  },
  {
   "cell_type": "markdown",
   "metadata": {},
   "source": [
    "And of course we can apply the same logic to the whole dataset:"
   ]
  },
  {
   "cell_type": "code",
   "execution_count": 22,
   "metadata": {
    "collapsed": false
   },
   "outputs": [
    {
     "name": "stdout",
     "output_type": "stream",
     "text": [
      "(74, 30)\n"
     ]
    }
   ],
   "source": [
    "data_djf = np.concatenate([data_yd[:-1, -10:], data_yd[1:, :20]], axis=1)\n",
    "print(data_djf.shape)"
   ]
  },
  {
   "cell_type": "markdown",
   "metadata": {},
   "source": [
    "### Selecting years by a certain criterion"
   ]
  },
  {
   "cell_type": "markdown",
   "metadata": {},
   "source": [
    "> How to find winters when at least 20 days of constant wind direction followed by its change?"
   ]
  },
  {
   "cell_type": "markdown",
   "metadata": {},
   "source": [
    "Here we are just applying [this](http://stackoverflow.com/a/24343375/5365232) answer on Stack Overflow to our problem."
   ]
  },
  {
   "cell_type": "code",
   "execution_count": 23,
   "metadata": {
    "collapsed": true
   },
   "outputs": [],
   "source": [
    "condition = np.array([True, False, True, False, True, False])"
   ]
  },
  {
   "cell_type": "code",
   "execution_count": 24,
   "metadata": {
    "collapsed": false,
    "deletable": true,
    "editable": true,
    "scrolled": false
   },
   "outputs": [
    {
     "name": "stdout",
     "output_type": "stream",
     "text": [
      "0 27\n",
      "1 23\n",
      "5 27\n",
      "7 27\n",
      "8 20\n",
      "12 24\n",
      "14 25\n",
      "17 21\n",
      "20 23\n",
      "22 26\n",
      "24 24\n",
      "25 27\n",
      "26 21\n",
      "28 20\n",
      "29 25\n",
      "30 24\n",
      "33 29\n",
      "57 25\n",
      "61 21\n",
      "65 20\n",
      "66 29\n"
     ]
    }
   ],
   "source": [
    "for i, yr in enumerate(data_djf):\n",
    "    condition = yr > 0\n",
    "    lens_true = np.diff(np.where(np.concatenate(([condition[0]], condition[:-1] != condition[1:], [True])))[0])[::2]\n",
    "    if 20 <= lens_true.max() < 30:\n",
    "        print(i, lens_true.max())"
   ]
  },
  {
   "cell_type": "markdown",
   "metadata": {
    "deletable": true,
    "editable": true
   },
   "source": [
    "## 2. What if you want to use labelled arrays?"
   ]
  },
  {
   "cell_type": "markdown",
   "metadata": {},
   "source": [
    "In the above example `numpy`'s capabilities were probably enough. But when you have more dimensions and data are more complex, it is mostly always better to use labelled arrays and all the great functionality offered by such libraries as `xarray` or `iris`."
   ]
  },
  {
   "cell_type": "markdown",
   "metadata": {},
   "source": [
    "We show how `iris` library can be used with the same dataset. We chose `iris`, mostly because it can handle non-standard calendars, like `360-day` one."
   ]
  },
  {
   "cell_type": "markdown",
   "metadata": {},
   "source": [
    "To create an appropriate time coordinate, we will use `iris` companion package - [`cf_units`](https://github.com/SciTools/cf_units)."
   ]
  },
  {
   "cell_type": "code",
   "execution_count": 25,
   "metadata": {
    "collapsed": true,
    "deletable": true,
    "editable": true
   },
   "outputs": [],
   "source": [
    "import cf_units\n",
    "import iris"
   ]
  },
  {
   "cell_type": "code",
   "execution_count": 26,
   "metadata": {
    "collapsed": true
   },
   "outputs": [],
   "source": [
    "DAYS_PER_YEAR = 360"
   ]
  },
  {
   "cell_type": "code",
   "execution_count": 27,
   "metadata": {
    "collapsed": false,
    "deletable": true,
    "editable": true
   },
   "outputs": [],
   "source": [
    "t_unit = cf_units.Unit('days since 0001-01-01 00:00:00',\n",
    "                       calendar='360_day')"
   ]
  },
  {
   "cell_type": "code",
   "execution_count": 28,
   "metadata": {
    "collapsed": false,
    "deletable": true,
    "editable": true
   },
   "outputs": [],
   "source": [
    "t_coord = iris.coords.DimCoord(np.arange(0, DAYS_PER_YEAR * NYEARS, 3),\n",
    "                               units=t_unit,\n",
    "                               standard_name='time')"
   ]
  },
  {
   "cell_type": "markdown",
   "metadata": {},
   "source": [
    "Now we can attach the newly created time coordinate to the data themselves by creating an iris cube:"
   ]
  },
  {
   "cell_type": "code",
   "execution_count": 29,
   "metadata": {
    "collapsed": false,
    "deletable": true,
    "editable": true
   },
   "outputs": [],
   "source": [
    "cube = iris.cube.Cube(data=data,\n",
    "                      units='m/s',\n",
    "                      dim_coords_and_dims=[(t_coord, 0)])\n",
    "cube.rename('eastward_wind')"
   ]
  },
  {
   "cell_type": "code",
   "execution_count": 30,
   "metadata": {
    "collapsed": false
   },
   "outputs": [
    {
     "name": "stdout",
     "output_type": "stream",
     "text": [
      "eastward_wind / (m/s)               (time: 9000)\n",
      "     Dimension coordinates:\n",
      "          time                           x\n"
     ]
    }
   ],
   "source": [
    "print(cube)"
   ]
  },
  {
   "cell_type": "markdown",
   "metadata": {},
   "source": [
    "#### Calculate seasonal means"
   ]
  },
  {
   "cell_type": "markdown",
   "metadata": {
    "deletable": true,
    "editable": true
   },
   "source": [
    "Source: http://scitools.org.uk/iris/docs/latest/userguide/cube_statistics.html"
   ]
  },
  {
   "cell_type": "markdown",
   "metadata": {},
   "source": [
    "Since we now have a labelled aray with appropriate metadata, we can use `iris` to make statistical analysis easier and make the code more readable."
   ]
  },
  {
   "cell_type": "code",
   "execution_count": 31,
   "metadata": {
    "collapsed": true,
    "deletable": true,
    "editable": true
   },
   "outputs": [],
   "source": [
    "import iris.coord_categorisation"
   ]
  },
  {
   "cell_type": "code",
   "execution_count": 32,
   "metadata": {
    "collapsed": true,
    "deletable": true,
    "editable": true
   },
   "outputs": [],
   "source": [
    "iris.coord_categorisation.add_season(cube, 'time', name='clim_season')\n",
    "iris.coord_categorisation.add_season_year(cube, 'time',  name='season_year')"
   ]
  },
  {
   "cell_type": "code",
   "execution_count": 33,
   "metadata": {
    "collapsed": false,
    "deletable": true,
    "editable": true
   },
   "outputs": [
    {
     "name": "stdout",
     "output_type": "stream",
     "text": [
      "eastward_wind / (m/s)               (time: 9000)\n",
      "     Dimension coordinates:\n",
      "          time                           x\n",
      "     Auxiliary coordinates:\n",
      "          clim_season                    x\n",
      "          season_year                    x\n"
     ]
    }
   ],
   "source": [
    "print(cube)"
   ]
  },
  {
   "cell_type": "code",
   "execution_count": 34,
   "metadata": {
    "collapsed": false,
    "deletable": true,
    "editable": true
   },
   "outputs": [
    {
     "data": {
      "text/plain": [
       "AuxCoord(array(['djf', 'djf', 'djf', ..., 'djf', 'djf', 'djf'], \n",
       "      dtype='<U64'), standard_name=None, units=Unit('no_unit'), long_name='clim_season')"
      ]
     },
     "execution_count": 34,
     "metadata": {},
     "output_type": "execute_result"
    }
   ],
   "source": [
    "cube.coord('clim_season')"
   ]
  },
  {
   "cell_type": "code",
   "execution_count": 35,
   "metadata": {
    "collapsed": false,
    "deletable": true,
    "editable": true
   },
   "outputs": [
    {
     "name": "stdout",
     "output_type": "stream",
     "text": [
      "djf 1\n",
      "djf 1\n",
      "mam 1\n",
      "mam 1\n",
      "mam 1\n",
      "jja 1\n",
      "jja 1\n",
      "jja 1\n",
      "son 1\n",
      "son 1\n"
     ]
    }
   ],
   "source": [
    "for season, year in zip(cube.coord('clim_season')[:100:10].points,\n",
    "                        cube.coord('season_year')[:100:10].points):\n",
    "    print('{} {}'.format(season, year))"
   ]
  },
  {
   "cell_type": "code",
   "execution_count": 36,
   "metadata": {
    "collapsed": true,
    "deletable": true,
    "editable": true
   },
   "outputs": [],
   "source": [
    "annual_seasonal_mean = cube.aggregated_by(['clim_season', 'season_year'],\n",
    "                                          iris.analysis.MEAN)"
   ]
  },
  {
   "cell_type": "code",
   "execution_count": 37,
   "metadata": {
    "collapsed": false,
    "deletable": true,
    "editable": true,
    "scrolled": true
   },
   "outputs": [
    {
     "name": "stdout",
     "output_type": "stream",
     "text": [
      "eastward_wind / (m/s)               (time: 301)\n",
      "     Dimension coordinates:\n",
      "          time                           x\n",
      "     Auxiliary coordinates:\n",
      "          clim_season                    x\n",
      "          season_year                    x\n",
      "     Cell methods:\n",
      "          mean: clim_season, season_year\n"
     ]
    }
   ],
   "source": [
    "print(annual_seasonal_mean)"
   ]
  },
  {
   "cell_type": "code",
   "execution_count": 38,
   "metadata": {
    "collapsed": false
   },
   "outputs": [
    {
     "data": {
      "text/html": [
       "\n",
       "    <small>\n",
       "    <p> This post was written as an IPython (Jupyter) notebook. You can view or download it using\n",
       "    <a href=\"http://nbviewer.ipython.org/github/ueapy/ueapy.github.io/blob/src/content/notebooks/2017-03-24-climate-model-output.ipynb\">nbviewer</a>.</p>\n",
       "    "
      ],
      "text/plain": [
       "<IPython.core.display.HTML object>"
      ]
     },
     "execution_count": 38,
     "metadata": {},
     "output_type": "execute_result"
    }
   ],
   "source": [
    "HTML(html)"
   ]
  }
 ],
 "metadata": {
  "kernelspec": {
   "display_name": "Python [conda env:phd]",
   "language": "python",
   "name": "conda-env-phd-py"
  },
  "language_info": {
   "codemirror_mode": {
    "name": "ipython",
    "version": 3
   },
   "file_extension": ".py",
   "mimetype": "text/x-python",
   "name": "python",
   "nbconvert_exporter": "python",
   "pygments_lexer": "ipython3",
   "version": "3.6.0"
  }
 },
 "nbformat": 4,
 "nbformat_minor": 2
}
