{
 "cells": [
  {
   "cell_type": "code",
   "execution_count": 1,
   "metadata": {
    "collapsed": true
   },
   "outputs": [],
   "source": [
    "name = '2016-03-04-argument-parsing'\n",
    "title = 'Argument parsing'\n",
    "tags = 'argparse, command line'\n",
    "author = 'Denis Sergeev'"
   ]
  },
  {
   "cell_type": "code",
   "execution_count": 2,
   "metadata": {
    "collapsed": true
   },
   "outputs": [],
   "source": [
    "from nb_tools import connect_notebook_to_post\n",
    "from IPython.core.display import HTML\n",
    "\n",
    "html = connect_notebook_to_post(name, title, tags, author)"
   ]
  },
  {
   "cell_type": "markdown",
   "metadata": {},
   "source": [
    "## Preamble"
   ]
  },
  {
   "cell_type": "markdown",
   "metadata": {},
   "source": [
    "When you use a Python script in command line, you probably have some parameters or input variables set up in the beginning of the script. So you script can look like this:"
   ]
  },
  {
   "cell_type": "code",
   "execution_count": 3,
   "metadata": {
    "collapsed": true
   },
   "outputs": [],
   "source": [
    "# Parameters:\n",
    "a = 1\n",
    "b = '/path/to/file'\n",
    "c = True\n",
    "\n",
    "# The actual script\n",
    "# ..."
   ]
  },
  {
   "cell_type": "markdown",
   "metadata": {},
   "source": [
    "Every time you want to execute the program with a different set of parameters, you have to open the script in a text editor, change the necessary lines, save and run it again. Not very effective. "
   ]
  },
  {
   "cell_type": "markdown",
   "metadata": {},
   "source": [
    "Another way of doing this is to pass parameters as arguments of the script. You can think of it as if your script is a standard system command, such as `ls`. Without arguments it displays the contents of the current directory. It also has positional and optional arguments. If you run `ls` on a different directory that you currently are in, you would type `ls directory_name`, where `directory_name` is a positional argument, which means\n",
    "that the program knows what to do with the value. If you want to display the help text of the `ls` command, you would type `ls --help`."
   ]
  },
  {
   "cell_type": "markdown",
   "metadata": {},
   "source": [
    "To give a python script the same functionality, you can use several built-in libraries."
   ]
  },
  {
   "cell_type": "markdown",
   "metadata": {},
   "source": [
    "## Basic example: `sys.argv`"
   ]
  },
  {
   "cell_type": "markdown",
   "metadata": {},
   "source": [
    "The simplest way of passing arguments to a python script can be done with `sys.argv`. This is just a list of strings and it contains all the values passed in, separated by whitespace. The first argument is the name of the script itself. Let's have a look."
   ]
  },
  {
   "cell_type": "markdown",
   "metadata": {},
   "source": [
    "```\n",
    "# test.py contents\n",
    "import sys\n",
    "\n",
    "print('Arguments:', sys.argv[:])\n",
    "```"
   ]
  },
  {
   "cell_type": "markdown",
   "metadata": {},
   "source": [
    "```\n",
    "$ python test.py 123 blabla 1-2\n",
    "\n",
    "Arguments: ['test.py', '123', 'blabla', '1-2']\n",
    "```"
   ]
  },
  {
   "cell_type": "markdown",
   "metadata": {},
   "source": [
    "Then, the elements of `sys.argv` can be assigned to different parameters of your script. This method is not convenient, because the arguments are all strings, so you have to convert them to a required type. You also have to remember the order of the arguments. These two problems make this approach ineffective and prone to errors."
   ]
  },
  {
   "cell_type": "markdown",
   "metadata": {},
   "source": [
    "## `argparse` module"
   ]
  },
  {
   "cell_type": "markdown",
   "metadata": {},
   "source": [
    "Luckily, python has a module that makes working with arguments a lot more pleasant. The essential piece of code needed to start using `argparse` is the following:"
   ]
  },
  {
   "cell_type": "markdown",
   "metadata": {},
   "source": [
    "```\n",
    "# test2.py contents\n",
    "import argparse # import the module\n",
    "parser = argparse.ArgumentParser() # create parser instance\n",
    "parser.parse_args() # parse arguments\n",
    "```"
   ]
  },
  {
   "cell_type": "markdown",
   "metadata": {},
   "source": [
    "This short script already has a 'help' option available (not very useful at this point):"
   ]
  },
  {
   "cell_type": "markdown",
   "metadata": {},
   "source": [
    "```\n",
    "$ python test2.py --help\n",
    "\n",
    "usage: test2.py [-h]\n",
    "\n",
    "optional arguments:\n",
    "  -h, --help  show this help message and exit\n",
    "```"
   ]
  },
  {
   "cell_type": "markdown",
   "metadata": {},
   "source": [
    "### Adding argument rules"
   ]
  },
  {
   "cell_type": "markdown",
   "metadata": {},
   "source": [
    "Once you initialised the `parser`, you can add rules for different arguments. Note that unless you specify so, you can't pass *any* number of arguments, unlike in `sys.argv` case."
   ]
  },
  {
   "cell_type": "markdown",
   "metadata": {},
   "source": [
    "#### Required arguments"
   ]
  },
  {
   "cell_type": "markdown",
   "metadata": {},
   "source": [
    "Let's try to add a positional (required) argument to the script and print its value."
   ]
  },
  {
   "cell_type": "markdown",
   "metadata": {},
   "source": [
    "```\n",
    "# test2.py contents\n",
    "import argparse # import the module\n",
    "\n",
    "parser = argparse.ArgumentParser() # create parser instance\n",
    "parser.add_argument('foo')\n",
    "args = parser.parse_args() # parse arguments and store them in variable args\n",
    "\n",
    "print('This is a positional argument:', args.foo)\n",
    "```"
   ]
  },
  {
   "cell_type": "markdown",
   "metadata": {},
   "source": [
    "Run the script:"
   ]
  },
  {
   "cell_type": "markdown",
   "metadata": {},
   "source": [
    "```\n",
    "$ python test2.py 123\n",
    "\n",
    "This is a positional argument: 123\n",
    "```"
   ]
  },
  {
   "cell_type": "markdown",
   "metadata": {},
   "source": [
    "Now the script requires exactly 1 argument and raises an error if you supply it with other number of arguments."
   ]
  },
  {
   "cell_type": "markdown",
   "metadata": {},
   "source": [
    "#### Optional arguments"
   ]
  },
  {
   "cell_type": "markdown",
   "metadata": {},
   "source": [
    "You can also make rules for your script to have optional arguments. By default, an argument is considered to be optional if its flag in `parser.add_argument()` function starts with dashes (usually, 1 dash for a short name and 2 dashes for long name)."
   ]
  },
  {
   "cell_type": "markdown",
   "metadata": {},
   "source": [
    "For example:"
   ]
  },
  {
   "cell_type": "markdown",
   "metadata": {},
   "source": [
    "```\n",
    "import argparse\n",
    "parser = argparse.ArgumentParser()\n",
    "parser.add_argument('--verbose', help='print optional argument')\n",
    "args = parser.parse_args()\n",
    "if args.verbose:\n",
    "    print('The optional argument value is', args.verbose)\n",
    "```"
   ]
  },
  {
   "cell_type": "markdown",
   "metadata": {},
   "source": [
    "which gives the following output if the flag with its value is present:"
   ]
  },
  {
   "cell_type": "markdown",
   "metadata": {},
   "source": [
    "```\n",
    "$ python test.py --verbose 2\n",
    "The optional argument value is 2\n",
    "```"
   ]
  },
  {
   "cell_type": "markdown",
   "metadata": {},
   "source": [
    "But it also can be run without the flag, and that does not print out anything in this case. Note that you can also customize help messages."
   ]
  },
  {
   "cell_type": "markdown",
   "metadata": {},
   "source": [
    "### Next steps..."
   ]
  },
  {
   "cell_type": "markdown",
   "metadata": {},
   "source": [
    "This is just a quick peek at the `argparse` features, and there is much more. You can specify type of arguments, number of arguments, True/False arguments, mutually exclusive arguments, file types, default values, choices and so on. There are enough capabilities to build a sophisticated and user-friendly command-line program."
   ]
  },
  {
   "cell_type": "markdown",
   "metadata": {},
   "source": [
    "Beside the documentation [[1]](https://docs.python.org/3/library/argparse.html#module-argparse), there are several good tutorials on `argparse`, e.g. [[2]](https://docs.python.org/3/howto/argparse.html) and [[3]](https://mkaz.tech/python-argparse-cookbook.html). This post does not however intend to repeat them."
   ]
  },
  {
   "cell_type": "markdown",
   "metadata": {},
   "source": [
    "### Next steps + 1"
   ]
  },
  {
   "cell_type": "markdown",
   "metadata": {},
   "source": [
    "If `argparse`'s magic is not enough for you or you want to write beautiful command line interface on a higher level, check out such packages as click [[4]](http://click.pocoo.org/) or climax [[5]](https://github.com/miguelgrinberg/climax)."
   ]
  },
  {
   "cell_type": "markdown",
   "metadata": {},
   "source": [
    "### Resources"
   ]
  },
  {
   "cell_type": "markdown",
   "metadata": {},
   "source": [
    "###### [1] https://docs.python.org/3/library/argparse.html#module-argparse\n",
    "###### [2] https://docs.python.org/3/howto/argparse.html\n",
    "###### [3] https://mkaz.tech/python-argparse-cookbook.html\n",
    "###### [4] http://click.pocoo.org/\n",
    "###### [5] https://github.com/miguelgrinberg/climax"
   ]
  },
  {
   "cell_type": "code",
   "execution_count": 4,
   "metadata": {
    "collapsed": false
   },
   "outputs": [
    {
     "data": {
      "text/html": [
       "\n",
       "    <small>\n",
       "    <p> This post was written as an IPython (Jupyter) notebook. You can view or download it using\n",
       "    <a href=\"http://nbviewer.ipython.org/github/ueapy/ueapy.github.io/blob/src/content/notebooks/2016-03-04-argument-parsing.ipynb\">nbviewer</a>.</p>\n",
       "    "
      ],
      "text/plain": [
       "<IPython.core.display.HTML object>"
      ]
     },
     "execution_count": 4,
     "metadata": {},
     "output_type": "execute_result"
    }
   ],
   "source": [
    "HTML(html)"
   ]
  }
 ],
 "metadata": {
  "kernelspec": {
   "display_name": "Python 3",
   "language": "python",
   "name": "python3"
  },
  "language_info": {
   "codemirror_mode": {
    "name": "ipython",
    "version": 3
   },
   "file_extension": ".py",
   "mimetype": "text/x-python",
   "name": "python",
   "nbconvert_exporter": "python",
   "pygments_lexer": "ipython3",
   "version": "3.5.1"
  }
 },
 "nbformat": 4,
 "nbformat_minor": 0
}
