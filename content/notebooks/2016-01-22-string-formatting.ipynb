{
 "cells": [
  {
   "cell_type": "code",
   "execution_count": 1,
   "metadata": {
    "collapsed": true
   },
   "outputs": [],
   "source": [
    "name = '2016-01-22-string-formatting'\n",
    "title = 'Writing text files using new Python string formatting'\n",
    "tags = 'text format'\n",
    "author = 'Maria Zamyatina'"
   ]
  },
  {
   "cell_type": "code",
   "execution_count": 2,
   "metadata": {
    "collapsed": true
   },
   "outputs": [],
   "source": [
    "from nb_tools import connect_notebook_to_post\n",
    "from IPython.core.display import HTML\n",
    "\n",
    "html = connect_notebook_to_post(name, title, tags, author)"
   ]
  },
  {
   "cell_type": "markdown",
   "metadata": {},
   "source": [
    "Sometimes in order to run some programming software we need to prepare an input description file which specifies the model setup (e.g., chemical mechanism, intergration method, desired type of results, etc). If we are planning to run the model several times with different, for example, initial conditions, constracting such a file using a script could be beneficial. During our last meeting we discussed how to assemble such a file with Python, and here is what we did.\n",
    "\n",
    "Let's assume that we need to construct a file containing the following information:"
   ]
  },
  {
   "cell_type": "markdown",
   "metadata": {},
   "source": [
    "```\n",
    "{!-*- F90 -*-}\n",
    "#INITVALUES\n",
    "O3\t=7.50e+11;\n",
    "CH4\t=4.55e+13;\n",
    "CO\t=2.55e+12;\n",
    "#INLINE F90_INIT\n",
    "TSTART = 0*3600\n",
    "TEND = TSTART + 7*3600\n",
    "DT = 3600\n",
    "TEMP = 298\n",
    "#ENDINLINE\n",
    "```"
   ]
  },
  {
   "cell_type": "markdown",
   "metadata": {},
   "source": [
    "The first line of this file is a header. Since it is not going to change in our model runs, we can store it in a separate file:"
   ]
  },
  {
   "cell_type": "code",
   "execution_count": 3,
   "metadata": {
    "collapsed": false
   },
   "outputs": [],
   "source": [
    "header_text = '{!-*- F90 -*-}'\n",
    "with open('header.inp','w') as header_file:\n",
    "    header_file.write(header_text)"
   ]
  },
  {
   "cell_type": "markdown",
   "metadata": {},
   "source": [
    "The next four lines define the #INITVALUES section of the file, where the initial concentrations (actually, number densities) of chemical compounds of interest are set. If we want to change only numerical values in this section, it is logical to create a text template which would take into account the syntax of the target sortware and include some sort of 'gaps' to fill in with our initial values. One way of achieving that is to define a function that creates a multline string and has a number of arguments determining the initial concentrations of our chemical species:"
   ]
  },
  {
   "cell_type": "code",
   "execution_count": 4,
   "metadata": {
    "collapsed": false
   },
   "outputs": [],
   "source": [
    "def gen_concs_string(O3=7.50e+11, CH4=4.55e+13, CO=2.55e+12):\n",
    "    concs_string = \\\n",
    "\"\"\"\n",
    "#INITVALUES\n",
    "O3\\t={O3_nd:.2e};\n",
    "CH4\\t={CH4_nd:.2e};\n",
    "CO\\t={CO_nd:.2e};\"\"\"\\\n",
    ".format(O3_nd=O3, CH4_nd=CH4, CO_nd=CO)\n",
    "    \n",
    "    return concs_string"
   ]
  },
  {
   "cell_type": "markdown",
   "metadata": {},
   "source": [
    "For convinience we can even set default values for each of the arguments (e.g., here default ozone initial concentration is 7.5$\\cdot$10$^{11}$ molecules per cm$^{3}$).\n",
    "\n",
    "By the way, we have just used a new style of string formatting in Python! An old way of doing the same would include a '%' sign in front of the function agruments inside the string expression and a line of code starting with '%' afterwards, like this"
   ]
  },
  {
   "cell_type": "markdown",
   "metadata": {},
   "source": [
    "```\n",
    "\"\"\"\n",
    "#INITVALUES\n",
    "O3\\t=%(O3_nd).2e;\n",
    "CH4\\t=%(CH4_nd).2e;\n",
    "CO\\t=%(CO_nd).2e;\"\"\"\\\n",
    "%{\"O3\":O3_nd, \"CH4\":CH4_nd, \"CO_nd\":CO_nd}\n",
    "```"
   ]
  },
  {
   "cell_type": "markdown",
   "metadata": {},
   "source": [
    "but using a new style makes your code more readable. For more examples on differences between old and new styles of string formatting in Python follow this link: [PyFormat](https://pyformat.info/)."
   ]
  },
  {
   "cell_type": "markdown",
   "metadata": {},
   "source": [
    "Well, let's reinforce our knowledge and apply a new style of string formatting to reproduce the last section of the input file, which specifies model integration time and temperature:"
   ]
  },
  {
   "cell_type": "code",
   "execution_count": 5,
   "metadata": {
    "collapsed": false
   },
   "outputs": [],
   "source": [
    "def gen_time_str(tstart, nhours, timestep, temp):\n",
    "    time_string = \\\n",
    "\"\"\"\n",
    "#INLINE F90_INIT\n",
    "TSTART = {tstart}*{timestep}\n",
    "TEND = TSTART + {nhours}*3600\n",
    "DT = {timestep}\n",
    "TEMP = {temp}\n",
    "#ENDINLINE\"\"\"\\\n",
    ".format(tstart=tstart, nhours=nhours, timestep=timestep, temp=temp)\n",
    "    \n",
    "    return time_string"
   ]
  },
  {
   "cell_type": "markdown",
   "metadata": {},
   "source": [
    "And finally let's assemble our input description file:"
   ]
  },
  {
   "cell_type": "code",
   "execution_count": 6,
   "metadata": {
    "collapsed": false
   },
   "outputs": [],
   "source": [
    "# Read header\n",
    "with open('header.inp','r') as header_file:\n",
    "    header_text = header_file.read()\n",
    "# Use default inital concentrations and set model integration time and temperature\n",
    "concstr = gen_concs_string()\n",
    "timestr = gen_time_str(0,7,3600,298)\n",
    "# Combine all strings together\n",
    "full_str = header_text + concstr + timestr\n",
    "\n",
    "# Create function that writes a string to file\n",
    "def write_str_to_file(string, filename='model.def'):\n",
    "    with open(filename,'w') as def_file:\n",
    "        def_file.write(string)\n",
    "# Call this function with your string\n",
    "write_str_to_file(full_str)"
   ]
  },
  {
   "cell_type": "markdown",
   "metadata": {},
   "source": [
    "## Creating a file mask"
   ]
  },
  {
   "cell_type": "markdown",
   "metadata": {},
   "source": [
    "There are plenty of other ways to use a new string formatting in Python to your advantage. For example, you could use it to create file names in a loop:"
   ]
  },
  {
   "cell_type": "code",
   "execution_count": 7,
   "metadata": {
    "collapsed": true
   },
   "outputs": [],
   "source": [
    "file_mask = '+{one}hours_{two}UTC.jpg'"
   ]
  },
  {
   "cell_type": "code",
   "execution_count": 8,
   "metadata": {
    "collapsed": false
   },
   "outputs": [
    {
     "name": "stdout",
     "output_type": "stream",
     "text": [
      "+1hours_4UTC.jpg\n",
      "+2hours_5UTC.jpg\n",
      "+3hours_6UTC.jpg\n"
     ]
    }
   ],
   "source": [
    "for i, j in zip((1,2,3), (4,5,6)):\n",
    "    print(file_mask.format(one=i, two=j))"
   ]
  },
  {
   "cell_type": "code",
   "execution_count": 9,
   "metadata": {
    "collapsed": false
   },
   "outputs": [
    {
     "data": {
      "text/html": [
       "\n",
       "    <small>\n",
       "    <p> This post was written as an IPython (Jupyter) notebook. You can view or download it using\n",
       "    <a href=\"http://nbviewer.ipython.org/github/ueapy/ueapy.github.io/blob/src/content/notebooks/2016-01-22-string-formatting.ipynb\">nbviewer</a>.</p>\n",
       "    "
      ],
      "text/plain": [
       "<IPython.core.display.HTML object>"
      ]
     },
     "execution_count": 9,
     "metadata": {},
     "output_type": "execute_result"
    }
   ],
   "source": [
    "HTML(html)"
   ]
  }
 ],
 "metadata": {
  "kernelspec": {
   "display_name": "Python 3",
   "language": "python",
   "name": "python3"
  },
  "language_info": {
   "codemirror_mode": {
    "name": "ipython",
    "version": 3
   },
   "file_extension": ".py",
   "mimetype": "text/x-python",
   "name": "python",
   "nbconvert_exporter": "python",
   "pygments_lexer": "ipython3",
   "version": "3.5.1"
  }
 },
 "nbformat": 4,
 "nbformat_minor": 0
}
