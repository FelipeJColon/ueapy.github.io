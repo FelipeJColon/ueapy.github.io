{
 "cells": [
  {
   "cell_type": "code",
   "execution_count": 1,
   "metadata": {
    "collapsed": true
   },
   "outputs": [],
   "source": [
    "name = '2017-03-10-regex'\n",
    "title = 'Regular expressions and how to use them'\n",
    "tags = 'basics'\n",
    "author = 'Maria Zamyatina'"
   ]
  },
  {
   "cell_type": "code",
   "execution_count": 2,
   "metadata": {
    "collapsed": true
   },
   "outputs": [],
   "source": [
    "from nb_tools import connect_notebook_to_post\n",
    "from IPython.core.display import HTML, Image\n",
    "\n",
    "html = connect_notebook_to_post(name, title, tags, author)"
   ]
  },
  {
   "cell_type": "markdown",
   "metadata": {
    "deletable": true,
    "editable": true
   },
   "source": [
    "A regular expression (regex, RE) is a sequence of characters that define a search pattern. Usually this pattern is used by string searching algorithms for \"find\" or \"find and replace\" operations on strings. For example, search engines use regular expressions to find matches to your query as do various text editors when you, e.g., enter a search and replace dialogue.\n",
    "\n",
    "re module provides regular expression matching operations in Python. It lets you check if a particular string matches a given regular expression or if a given regular expression matches a particular string."
   ]
  },
  {
   "cell_type": "code",
   "execution_count": 3,
   "metadata": {
    "collapsed": true,
    "deletable": true,
    "editable": true
   },
   "outputs": [],
   "source": [
    "import re"
   ]
  },
  {
   "cell_type": "markdown",
   "metadata": {
    "deletable": true,
    "editable": true
   },
   "source": [
    "There are two types of characters in regular expressions, ordinary and special characters. Ordinary characters, like 'A', 'z', or '0', simply match themselves, while special characters, like '\\' or '(', either stand for classes of ordinary characters, or affect how the regular expressions around them are interpreted. In other words, special characters help you to specify how regular expressions work and what will be returned to you if you find a match.\n",
    "\n",
    "Let us learn some special characters:\n",
    "\n",
    "> '.'\n",
    "\n",
    "> (Dot.) In the default mode, this matches any character except a newline.\n",
    "\n",
    "> '*'\n",
    "\n",
    "> (Asterisk) Causes the resulting RE to match 0 or more repetitions of the preceding RE, as many repetitions as are possible.\n",
    "\n",
    "To test how these special characters work we need to create two variables, one for a string and one for a regular expression that we will try to match with a specific pattern in a string."
   ]
  },
  {
   "cell_type": "code",
   "execution_count": 4,
   "metadata": {
    "collapsed": true,
    "deletable": true,
    "editable": true
   },
   "outputs": [],
   "source": [
    "string = 'Sic Parvis Magna'\n",
    "pattern = r'.*' # any character as many times as possible"
   ]
  },
  {
   "cell_type": "markdown",
   "metadata": {
    "collapsed": true,
    "deletable": true,
    "editable": true
   },
   "source": [
    "r in r'.*' indicates that we are using Python's raw string notation, which, in short, differs from ordinary Python strings by its interpretation of the backslash character."
   ]
  },
  {
   "cell_type": "markdown",
   "metadata": {
    "deletable": true,
    "editable": true
   },
   "source": [
    "To search for a pattern in a string we will use re.search() function:\n",
    "> re.search(pattern, string, flags=0)\n",
    "\n",
    "> Scan through string looking for the first location where the regular expression pattern produces a match, and return a corresponding `MatchObject` instance. Return None if no position in the string matches the pattern."
   ]
  },
  {
   "cell_type": "code",
   "execution_count": 5,
   "metadata": {
    "collapsed": false,
    "deletable": true,
    "editable": true
   },
   "outputs": [
    {
     "data": {
      "text/plain": [
       "<_sre.SRE_Match object; span=(0, 16), match='Sic Parvis Magna'>"
      ]
     },
     "execution_count": 5,
     "metadata": {},
     "output_type": "execute_result"
    }
   ],
   "source": [
    "re.search(r'.*', string)"
   ]
  },
  {
   "cell_type": "markdown",
   "metadata": {
    "deletable": true,
    "editable": true
   },
   "source": [
    "What if we want to find only 'Magna'?"
   ]
  },
  {
   "cell_type": "code",
   "execution_count": 6,
   "metadata": {
    "collapsed": false,
    "deletable": true,
    "editable": true
   },
   "outputs": [
    {
     "data": {
      "text/plain": [
       "<_sre.SRE_Match object; span=(11, 16), match='Magna'>"
      ]
     },
     "execution_count": 6,
     "metadata": {},
     "output_type": "execute_result"
    }
   ],
   "source": [
    "pattern = r'Magna'\n",
    "re.search(pattern, string)"
   ]
  },
  {
   "cell_type": "markdown",
   "metadata": {
    "collapsed": true,
    "deletable": true,
    "editable": true
   },
   "source": [
    "What about 'magna'?"
   ]
  },
  {
   "cell_type": "code",
   "execution_count": 7,
   "metadata": {
    "collapsed": false,
    "deletable": true,
    "editable": true
   },
   "outputs": [],
   "source": [
    "pattern = r'magna'\n",
    "re.search(pattern, string)"
   ]
  },
  {
   "cell_type": "markdown",
   "metadata": {
    "deletable": true,
    "editable": true
   },
   "source": [
    "Nothing was returned because no match was found."
   ]
  },
  {
   "cell_type": "markdown",
   "metadata": {
    "deletable": true,
    "editable": true
   },
   "source": [
    "Let us change our string to something that contains numbers and assume that we need to find only those numbers."
   ]
  },
  {
   "cell_type": "code",
   "execution_count": 8,
   "metadata": {
    "collapsed": true,
    "deletable": true,
    "editable": true
   },
   "outputs": [],
   "source": [
    "string = 'Station        : Boulder, CO \\n Station Height : 1743 meters \\n Latitude       : 39.95'"
   ]
  },
  {
   "cell_type": "markdown",
   "metadata": {
    "deletable": true,
    "editable": true
   },
   "source": [
    "> \\d\n",
    "\n",
    "> Matches any decimal digit; this is equivalent to the class [0-9].\n",
    "\n",
    "> '+'\n",
    "\n",
    "> Causes the resulting RE to match 1 or more repetitions of the preceding RE."
   ]
  },
  {
   "cell_type": "code",
   "execution_count": 9,
   "metadata": {
    "collapsed": false,
    "deletable": true,
    "editable": true
   },
   "outputs": [
    {
     "data": {
      "text/plain": [
       "<_sre.SRE_Match object; span=(48, 52), match='1743'>"
      ]
     },
     "execution_count": 9,
     "metadata": {},
     "output_type": "execute_result"
    }
   ],
   "source": [
    "pattern = r'\\d+' # one or more digit\n",
    "re.search(pattern, string)"
   ]
  },
  {
   "cell_type": "markdown",
   "metadata": {
    "deletable": true,
    "editable": true
   },
   "source": [
    "Why we found only 1743, but not 1743 and 39 or 1743 and 39.95?\n",
    "\n",
    "*Answer: re.search() scans through string looking for the **first** location where the regular expression pattern produces a match [...].*"
   ]
  },
  {
   "cell_type": "markdown",
   "metadata": {
    "deletable": true,
    "editable": true
   },
   "source": [
    "Let us now try to find 39.95 for latitude.\n",
    "\n",
    "There is no special character for a float number, but we can combine existing special characters to produce a regular expression that will match only float numbers. In other words, we need to include the dot '.' character into our new regular expression. However, dot has a special meaning in Python's raw string notation (see above). To construct the right regular expression we need to add the backslash character '\\' before the dot character in order to avoid invoking its special meaning, i.e. quote or escape it."
   ]
  },
  {
   "cell_type": "code",
   "execution_count": 10,
   "metadata": {
    "collapsed": false,
    "deletable": true,
    "editable": true
   },
   "outputs": [
    {
     "data": {
      "text/plain": [
       "<_sre.SRE_Match object; span=(79, 84), match='39.95'>"
      ]
     },
     "execution_count": 10,
     "metadata": {},
     "output_type": "execute_result"
    }
   ],
   "source": [
    "re.search(r'\\d+\\.\\d+', string) # float number"
   ]
  },
  {
   "cell_type": "markdown",
   "metadata": {
    "deletable": true,
    "editable": true
   },
   "source": [
    "But how to find both numbers? For that we need to use the pipeline character '|' and `re.findall()` function since we want to get more than one result in return.\n",
    "> '|'\n",
    "\n",
    "> A|B, where A and B can be arbitrary REs, creates a regular expression that will match either A or B.\n",
    "\n",
    "> re.findall(pattern, string, flags=0)\n",
    "\n",
    "> Return all non-overlapping matches of pattern in string, as a list of strings. The string is scanned left-to-right, and matches are returned in the order found."
   ]
  },
  {
   "cell_type": "code",
   "execution_count": 11,
   "metadata": {
    "collapsed": false,
    "deletable": true,
    "editable": true
   },
   "outputs": [
    {
     "data": {
      "text/plain": [
       "['1743', '39.95']"
      ]
     },
     "execution_count": 11,
     "metadata": {},
     "output_type": "execute_result"
    }
   ],
   "source": [
    "re.findall(r'\\d+\\.\\d+|\\d+', string) # float or integer number"
   ]
  },
  {
   "cell_type": "markdown",
   "metadata": {
    "deletable": true,
    "editable": true
   },
   "source": [
    "Moving on to a more science related example. Let us assume that we have a list of chemical reaction equations and rate coefficients and we want to separate equations from rate coefficients."
   ]
  },
  {
   "cell_type": "code",
   "execution_count": 12,
   "metadata": {
    "collapsed": false,
    "deletable": true,
    "editable": true
   },
   "outputs": [
    {
     "data": {
      "text/plain": [
       "['O1D = OH + OH : 2.14e-10*H2O;', 'OH + O3 = HO2 : 1.70e-12*EXP(-940/TEMP);']"
      ]
     },
     "execution_count": 12,
     "metadata": {},
     "output_type": "execute_result"
    }
   ],
   "source": [
    "raw_data = 'O1D = OH + OH : 2.14e-10*H2O;\\nOH + O3 = HO2 : 1.70e-12*EXP(-940/TEMP);'\n",
    "raw_lines = raw_data.split('\\n')\n",
    "raw_lines"
   ]
  },
  {
   "cell_type": "markdown",
   "metadata": {
    "deletable": true,
    "editable": true
   },
   "source": [
    "When we apply re.search() function to a line in raw_lines, we will get a `MatchObject` in return. `MatchObject`s support various methods, .group() is among them.\n",
    "> group([group1, ...])\n",
    "\n",
    "> Returns one or more subgroups of the match. If there is a single argument, the result is a single string; if there are multiple arguments, the result is a tuple with one item per argument.\n",
    "\n",
    "For example,"
   ]
  },
  {
   "cell_type": "code",
   "execution_count": 13,
   "metadata": {
    "collapsed": false,
    "deletable": true,
    "editable": true
   },
   "outputs": [
    {
     "data": {
      "text/plain": [
       "'The Witcher 3'"
      ]
     },
     "execution_count": 13,
     "metadata": {},
     "output_type": "execute_result"
    }
   ],
   "source": [
    "m = re.search(r'(.*) (\\d)', 'The Witcher 3')\n",
    "m.group(0)       # entire match"
   ]
  },
  {
   "cell_type": "code",
   "execution_count": 14,
   "metadata": {
    "collapsed": false,
    "deletable": true,
    "editable": true
   },
   "outputs": [
    {
     "data": {
      "text/plain": [
       "'The Witcher'"
      ]
     },
     "execution_count": 14,
     "metadata": {},
     "output_type": "execute_result"
    }
   ],
   "source": [
    "m.group(1)       # first parenthesized subgroup"
   ]
  },
  {
   "cell_type": "code",
   "execution_count": 15,
   "metadata": {
    "collapsed": false,
    "deletable": true,
    "editable": true
   },
   "outputs": [
    {
     "data": {
      "text/plain": [
       "'3'"
      ]
     },
     "execution_count": 15,
     "metadata": {},
     "output_type": "execute_result"
    }
   ],
   "source": [
    "m.group(2)       # second parenthesized subgroup"
   ]
  },
  {
   "cell_type": "code",
   "execution_count": 16,
   "metadata": {
    "collapsed": false,
    "deletable": true,
    "editable": true
   },
   "outputs": [
    {
     "data": {
      "text/plain": [
       "('The Witcher', '3')"
      ]
     },
     "execution_count": 16,
     "metadata": {},
     "output_type": "execute_result"
    }
   ],
   "source": [
    "m.group(1, 2)    # multiple arguments give us a tuple"
   ]
  },
  {
   "cell_type": "markdown",
   "metadata": {
    "deletable": true,
    "editable": true
   },
   "source": [
    "So let us indicate that we want to return two subgroups, one for an equation and one for a rate coefficient. If we put them simply one after another in the regular expression, we do not get what we want:"
   ]
  },
  {
   "cell_type": "code",
   "execution_count": 17,
   "metadata": {
    "collapsed": false,
    "deletable": true,
    "editable": true
   },
   "outputs": [
    {
     "name": "stdout",
     "output_type": "stream",
     "text": [
      "('O1D = OH + OH : 2.14e-10*H2O;', '')\n",
      "('OH + O3 = HO2 : 1.70e-12*EXP(-940/TEMP);', '')\n"
     ]
    }
   ],
   "source": [
    "for l in raw_lines:\n",
    "    line = re.search(r'(.*)(.*)', l).group(1, 2)\n",
    "    print(line)"
   ]
  },
  {
   "cell_type": "markdown",
   "metadata": {
    "deletable": true,
    "editable": true
   },
   "source": [
    "The equation part is separated from the rate coefficient part by the double colon ':' and two whitespaces, therefore we need to put those characters between the subgroups, as well as the semicolon ';' at the end if we do not want to see it in the resulting string.\n",
    "> \\s\n",
    "\n",
    "> Matches any whitespace character, this is equivalent to the set [ \\t\\n\\r\\f\\v]."
   ]
  },
  {
   "cell_type": "code",
   "execution_count": 18,
   "metadata": {
    "collapsed": false,
    "deletable": true,
    "editable": true
   },
   "outputs": [
    {
     "name": "stdout",
     "output_type": "stream",
     "text": [
      "('O1D = OH + OH', '2.14e-10*H2O')\n",
      "('OH + O3 = HO2', '1.70e-12*EXP(-940/TEMP)')\n"
     ]
    }
   ],
   "source": [
    "for l in raw_lines:\n",
    "    line = re.search(r'(.*)\\s:\\s(.*);', l).group(1, 2)\n",
    "    print(line)"
   ]
  },
  {
   "cell_type": "markdown",
   "metadata": {
    "deletable": true,
    "editable": true
   },
   "source": [
    "Now we want to separate chemical reactants from products and store them in lists of strings without any arithmetic signs. To do that let us use `re.findall()` and a regular expression that matches letters and numbers that comprise our chemical species names:\n",
    "> \\w\n",
    "\n",
    "> Matches any alphanumeric character and the underscore; this is equivalent to the set [a-zA-Z0-9_].\n",
    "\n",
    "> '+'\n",
    "\n",
    "> Causes the resulting RE to match 1 or more repetitions of the preceding RE."
   ]
  },
  {
   "cell_type": "code",
   "execution_count": 19,
   "metadata": {
    "collapsed": true,
    "deletable": true,
    "editable": true
   },
   "outputs": [],
   "source": [
    "alphanum_pattern = r'\\w+' # any number or character as many times as possible"
   ]
  },
  {
   "cell_type": "code",
   "execution_count": 20,
   "metadata": {
    "collapsed": false,
    "deletable": true,
    "editable": true
   },
   "outputs": [
    {
     "name": "stdout",
     "output_type": "stream",
     "text": [
      "Reactants: O1D  Products:  OH + OH\n",
      "['O1D'] ['OH', 'OH']\n",
      "Reactants: OH + O3  Products:  HO2\n",
      "['OH', 'O3'] ['HO2']\n"
     ]
    }
   ],
   "source": [
    "for l in raw_lines:\n",
    "    line = re.search(r'(.*)\\s:\\s(.*);', l).group(1,2)\n",
    "    subline_reac, subline_prod = line[0].split('=') # split equation into reactants and products parts using '=' as a separator\n",
    "    print('Reactants: '+subline_reac, 'Products: '+subline_prod)\n",
    "    reac = re.findall(alphanum_pattern, subline_reac)\n",
    "    prod = re.findall(alphanum_pattern, subline_prod)\n",
    "    print(reac, prod)"
   ]
  },
  {
   "cell_type": "markdown",
   "metadata": {
    "deletable": true,
    "editable": true
   },
   "source": [
    "We finally got all pieces of information we wanted about each chemical reaction: what reactants and products are and what the corresponding rate coefficient is. The best way to store this information is to create a dictionary for each chemical reaction and append those dictionaries into a list."
   ]
  },
  {
   "cell_type": "code",
   "execution_count": 21,
   "metadata": {
    "collapsed": false,
    "deletable": true,
    "editable": true
   },
   "outputs": [
    {
     "name": "stdout",
     "output_type": "stream",
     "text": [
      "[{'reac': ['O1D'], 'prod': ['OH', 'OH'], 'coef': '2.14e-10*H2O'}, {'reac': ['OH', 'O3'], 'prod': ['HO2'], 'coef': '1.70e-12*EXP(-940/TEMP)'}]\n"
     ]
    }
   ],
   "source": [
    "eqs = []\n",
    "for l in raw_lines:\n",
    "    line = re.search(r'(.*)\\s:\\s(.*);', l).group(1,2)\n",
    "    subline_reac, subline_prod = line[0].split('=')\n",
    "    reac = re.findall(alphanum_pattern, subline_reac)\n",
    "    prod = re.findall(alphanum_pattern, subline_prod)\n",
    "    eqs.append(dict(reac=reac, prod=prod, coef=line[1]))\n",
    "print(eqs)"
   ]
  },
  {
   "cell_type": "markdown",
   "metadata": {
    "deletable": true,
    "editable": true
   },
   "source": [
    "This approach becomes pretty handy if you have thousands of reactions to work with (as I do), and there is still plenty of room for using re module. "
   ]
  },
  {
   "cell_type": "markdown",
   "metadata": {
    "deletable": true,
    "editable": true
   },
   "source": [
    "## References:\n",
    "* https://en.wikipedia.org/wiki/Regular_expression\n",
    "* https://docs.python.org/3.6/library/re.html\n",
    "* https://docs.python.org/2.0/ref/strings.html\n",
    "* http://stackoverflow.com/questions/12871066/what-exactly-is-a-raw-string-regex-and-how-can-you-use-it\n",
    "### Interactive website to play with strings and regular expressions:\n",
    "* http://pythex.org/"
   ]
  },
  {
   "cell_type": "code",
   "execution_count": 22,
   "metadata": {
    "collapsed": false
   },
   "outputs": [
    {
     "data": {
      "text/html": [
       "\n",
       "    <small>\n",
       "    <p> This post was written as an IPython (Jupyter) notebook. You can view or download it using\n",
       "    <a href=\"http://nbviewer.ipython.org/github/ueapy/ueapy.github.io/blob/src/content/notebooks/2017-03-10-regex.ipynb\">nbviewer</a>.</p>\n",
       "    "
      ],
      "text/plain": [
       "<IPython.core.display.HTML object>"
      ]
     },
     "execution_count": 22,
     "metadata": {},
     "output_type": "execute_result"
    }
   ],
   "source": [
    "HTML(html)"
   ]
  }
 ],
 "metadata": {
  "anaconda-cloud": {},
  "kernelspec": {
   "display_name": "Python [conda root]",
   "language": "python",
   "name": "conda-root-py"
  },
  "language_info": {
   "codemirror_mode": {
    "name": "ipython",
    "version": 3
   },
   "file_extension": ".py",
   "mimetype": "text/x-python",
   "name": "python",
   "nbconvert_exporter": "python",
   "pygments_lexer": "ipython3",
   "version": "3.6.0"
  }
 },
 "nbformat": 4,
 "nbformat_minor": 2
}
