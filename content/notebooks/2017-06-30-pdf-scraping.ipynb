{
 "cells": [
  {
   "cell_type": "code",
   "execution_count": 1,
   "metadata": {
    "collapsed": true
   },
   "outputs": [],
   "source": [
    "name = '2017-06-30-pdf-scraping'\n",
    "title = 'Extracting data from PDF files'\n",
    "tags = 'pdf, text processing, pandas'\n",
    "author = 'Denis Sergeev'"
   ]
  },
  {
   "cell_type": "code",
   "execution_count": 2,
   "metadata": {
    "collapsed": true
   },
   "outputs": [],
   "source": [
    "from nb_tools import connect_notebook_to_post\n",
    "from IPython.core.display import HTML, Image\n",
    "\n",
    "html = connect_notebook_to_post(name, title, tags, author)"
   ]
  },
  {
   "cell_type": "markdown",
   "metadata": {},
   "source": [
    "* Some organisations still release their data in PDF format\n",
    "* PDF was not designed as a data format. It was designed as an \"electronic paper\" format.\n",
    "* Main purpose: presenting elements exactly how creator want them to be, independent of operating system or time.\n",
    "* PDF documents are not aware what tabular data, or even words are.\n",
    "* Even when it's made using Microsoft Excel, the PDF document doesn't retain any sense of the \"cells\" that once contained the data."
   ]
  },
  {
   "cell_type": "markdown",
   "metadata": {},
   "source": [
    "**All these features make it very hard to extract text and especially tables from PDF documents**"
   ]
  },
  {
   "cell_type": "markdown",
   "metadata": {},
   "source": [
    "One possible solution: store data as [attachments](http://blogs.adobe.com/insidepdf/2010/11/pdf-file-attachments.html)."
   ]
  },
  {
   "cell_type": "markdown",
   "metadata": {},
   "source": [
    "Otherwise, you have to find a way to parse PDFs programmatically, especially if there are more than just a few of them."
   ]
  },
  {
   "cell_type": "markdown",
   "metadata": {},
   "source": [
    "Today we had a brief look at some of the most active/developed Python libraries that allow PDF text mining."
   ]
  },
  {
   "cell_type": "markdown",
   "metadata": {},
   "source": [
    "Below are the two PDF documents that will be used in this notebook:\n",
    "1. [Sea Surface Temperature and Altimeter Synergy for Improved Forecasting of Polar Lows (STARS) manual](http://polarlow.met.no/documents/stars-dat_user-manual_p2d-4_v3p1.pdf)\n",
    "1. [Moore, G. W. K., D. H. Bromwich, A. B. Wilson, I, Renfrew, and L. Bai, 2016: Arctic System Reanalysis improvements in topographically-forced winds near Greenland. Q. J. R. Meteorol. Soc., 142, 2033-2045, doi: 10.1002/qj.2798](http://polarmet.osu.edu/PMG_publications/moore_bromwich_qjrms_2016.pdf)"
   ]
  },
  {
   "cell_type": "markdown",
   "metadata": {},
   "source": [
    "Let's define paths to these files"
   ]
  },
  {
   "cell_type": "code",
   "execution_count": 3,
   "metadata": {
    "collapsed": true
   },
   "outputs": [],
   "source": [
    "stars_file = '../pdfs/stars-dat_user-manual_p2d-4_v3p1.pdf'\n",
    "moore2016_file = '../pdfs/moore_bromwich_qjrms_2016.pdf'"
   ]
  },
  {
   "cell_type": "markdown",
   "metadata": {},
   "source": [
    "## [PDFMiner](https://github.com/euske/pdfminer)"
   ]
  },
  {
   "cell_type": "markdown",
   "metadata": {},
   "source": [
    "> PDFMiner is a tool for extracting information from PDF documents. Unlike other PDF-related tools, it focuses entirely on getting and analyzing text data. PDFMiner allows one to obtain the exact location of text in a page, as well as other information such as fonts or lines."
   ]
  },
  {
   "cell_type": "markdown",
   "metadata": {},
   "source": [
    "This package is not extensively documented, but following [basic examples](https://euske.github.io/pdfminer/programming.html), you can start extracting useful information from a PDF file. "
   ]
  },
  {
   "cell_type": "markdown",
   "metadata": {},
   "source": [
    "### Simple example: extract table of contents"
   ]
  },
  {
   "cell_type": "code",
   "execution_count": 4,
   "metadata": {
    "collapsed": true
   },
   "outputs": [],
   "source": [
    "from pdfminer.pdfparser import PDFParser\n",
    "from pdfminer.pdfdocument import PDFDocument"
   ]
  },
  {
   "cell_type": "markdown",
   "metadata": {},
   "source": [
    "Open the first PDF document in as a file stream in binary mode. Then we pass the file stream object to create a `PDFParser` instance and create a `PDFDocument` accordingly."
   ]
  },
  {
   "cell_type": "code",
   "execution_count": 5,
   "metadata": {
    "collapsed": true
   },
   "outputs": [],
   "source": [
    "fp = open(stars_file, mode='rb')\n",
    "parser = PDFParser(fp)\n",
    "document = PDFDocument(parser)"
   ]
  },
  {
   "cell_type": "markdown",
   "metadata": {},
   "source": [
    "Then, if a document has a built-in table of contents, we can extract it:"
   ]
  },
  {
   "cell_type": "code",
   "execution_count": 6,
   "metadata": {},
   "outputs": [],
   "source": [
    "from pdfminer.pdfdocument import PDFNoOutlines"
   ]
  },
  {
   "cell_type": "code",
   "execution_count": 7,
   "metadata": {
    "scrolled": true
   },
   "outputs": [],
   "source": [
    "try:\n",
    "    outlines = document.get_outlines()\n",
    "except PDFNoOutlines:\n",
    "    raise Exception('No outlines found!')"
   ]
  },
  {
   "cell_type": "markdown",
   "metadata": {},
   "source": [
    "The result, `outlines`, is a generator object which contains section titles and their levels, as well as other technical info."
   ]
  },
  {
   "cell_type": "code",
   "execution_count": 8,
   "metadata": {
    "scrolled": true
   },
   "outputs": [
    {
     "name": "stdout",
     "output_type": "stream",
     "text": [
      "1 1. Introduction\n",
      "2 1.1 Purpose of this document\n",
      "2 1.2 Background\n",
      "2 1.3 Structure of this documentation\n",
      "2 1.4 Glossary\n",
      "2 1.5 Reference Documents\n",
      "1 2. STARS-DAT Data Model\n",
      "2 2.1 Format\n",
      "2 2.2 Organization\n",
      "2 2.3 Content\n"
     ]
    }
   ],
   "source": [
    "for i, (level, title, *_) in enumerate(outlines):\n",
    "    if i < 10:\n",
    "        # Print only first 10 lines\n",
    "        print (level, title)"
   ]
  },
  {
   "cell_type": "code",
   "execution_count": 9,
   "metadata": {
    "collapsed": true
   },
   "outputs": [],
   "source": [
    "fp.close()"
   ]
  },
  {
   "cell_type": "markdown",
   "metadata": {},
   "source": [
    "### Another example"
   ]
  },
  {
   "cell_type": "markdown",
   "metadata": {},
   "source": [
    "Another example of using `pdfminer` package is taken from [this gist](https://gist.github.com/jmcarp/7105045)."
   ]
  },
  {
   "cell_type": "code",
   "execution_count": 10,
   "metadata": {
    "collapsed": true
   },
   "outputs": [],
   "source": [
    "from pdfminer.pdfinterp import PDFResourceManager, PDFPageInterpreter#process_pdf\n",
    "from pdfminer.pdfpage import PDFPage\n",
    "from pdfminer.converter import TextConverter\n",
    "from pdfminer.layout import LAParams\n",
    "\n",
    "from io import StringIO"
   ]
  },
  {
   "cell_type": "code",
   "execution_count": 11,
   "metadata": {
    "collapsed": true
   },
   "outputs": [],
   "source": [
    "def pdf_to_text(pdfname, codec='utf-8'):\n",
    "    \"\"\"\n",
    "    Extract text from a PDF document\n",
    "    \"\"\"\n",
    "    # PDFMiner boilerplate\n",
    "    rsrcmgr = PDFResourceManager()\n",
    "    sio = StringIO()\n",
    "    laparams = LAParams()\n",
    "    device = TextConverter(rsrcmgr, sio, codec=codec, laparams=laparams)\n",
    "    interpreter = PDFPageInterpreter(rsrcmgr, device)\n",
    "\n",
    "    # Extract text\n",
    "    with open(pdfname, mode='rb') as fp:\n",
    "        for page in PDFPage.get_pages(fp):\n",
    "            interpreter.process_page(page)\n",
    "\n",
    "    # Get text from StringIO\n",
    "    text = sio.getvalue()\n",
    "\n",
    "    # Cleanup\n",
    "    device.close()\n",
    "    sio.close()\n",
    "\n",
    "    return text"
   ]
  },
  {
   "cell_type": "markdown",
   "metadata": {},
   "source": [
    "Let's apply it to the same PDF document:"
   ]
  },
  {
   "cell_type": "code",
   "execution_count": 12,
   "metadata": {},
   "outputs": [],
   "source": [
    "mytext = pdf_to_text(stars_file)"
   ]
  },
  {
   "cell_type": "markdown",
   "metadata": {},
   "source": [
    "And print only an excerpt from the file:"
   ]
  },
  {
   "cell_type": "code",
   "execution_count": 13,
   "metadata": {},
   "outputs": [
    {
     "name": "stdout",
     "output_type": "stream",
     "text": [
      "duct is \n",
      "included in the sea ice files. More details about the sea ice concentration product are given in \n",
      "the OSI SAF Sea Ice Product Manual [RD-10]. The file name convention for these files are \n",
      "listed in Table 4.\n",
      "\n",
      "5.6   Satellite radiometer imagery\n",
      "\n",
      "The NOAA AVHRR satellite radiometer imagery data files in STARS-DAT are from the local \n",
      "receiving station at met.no. These files are only used for tracking polar low events. There is \n",
      "one file for each satellite passage, and the files are multi-layered TIFF files, one layer for \n",
      "each channel. The AVHRR data have two fixed visible channels (0.6 and 0.9 um) and two \n",
      "fixed infrared channels (10.5 and 11.5um). There is one “flexible” channel that depends from \n",
      "the different missions. This channel is either 1.6um or 3.7um, and for some satellites there is \n",
      "a switch between the two channels so that 1.6um is used at daytime and 3.7um at nighttime.\n",
      "\n",
      "The file name convention for these files are listed in Table 4.\n",
      "\n",
      "5.7   In situ data\n",
      "\n",
      "The availabl\n"
     ]
    }
   ],
   "source": [
    "print(mytext[25000:26000])"
   ]
  },
  {
   "cell_type": "markdown",
   "metadata": {},
   "source": [
    "## [PDFPlumber](https://github.com/jsvine/pdfplumber)"
   ]
  },
  {
   "cell_type": "markdown",
   "metadata": {},
   "source": [
    "A package that builds on `PDFMiner` and enables extraction of not only text, but tables and curves from a PDF document, is PDFPlumber. Thanks to [PythonBytes](https://pythonbytes.fm) podcast for letting me know about it."
   ]
  },
  {
   "cell_type": "markdown",
   "metadata": {},
   "source": [
    "In a nutshell,\n",
    "<ul>\n",
    "<li>Plumb a PDF for detailed information about each char, rectangle, line, etc - and easily extract text and tables.</li>\n",
    "<li>Visual debugging with <code>.to_image()</code></li>\n",
    "<li>Extracting tables\n",
    "<ul>\n",
    "<li>pdfplumber's approach to table detection borrows heavily from Anssi Nurminen's master's thesis, and is inspired by Tabula. It works like this:</li>\n",
    "<li>For any given PDF page, find the lines that are (a) explicitly defined and/or (b) implied by the alignment of words on the page.</li>\n",
    "<li>Merge overlapping, or nearly-overlapping, lines.</li>\n",
    "<li>Find the intersections of all those lines.</li>\n",
    "<li>Find the most granular set of rectangles (i.e., cells) that use these intersections as their vertices.</li>\n",
    "<li>Group contiguous cells into tables.</li>\n",
    "<li>Check out the demonstrations section.</li>\n",
    "</ul></li>\n",
    "</ul>"
   ]
  },
  {
   "cell_type": "code",
   "execution_count": 14,
   "metadata": {
    "collapsed": true
   },
   "outputs": [],
   "source": [
    "import pdfplumber"
   ]
  },
  {
   "cell_type": "code",
   "execution_count": 15,
   "metadata": {
    "collapsed": true
   },
   "outputs": [],
   "source": [
    "doc = pdfplumber.open(stars_file)  # No fussing about with binary file streams!"
   ]
  },
  {
   "cell_type": "markdown",
   "metadata": {},
   "source": [
    "Select page nuber 36 from the document. It is a table containing polar low start and end locations and times."
   ]
  },
  {
   "cell_type": "code",
   "execution_count": 16,
   "metadata": {
    "collapsed": true
   },
   "outputs": [],
   "source": [
    "p0 = doc.pages[35]"
   ]
  },
  {
   "cell_type": "markdown",
   "metadata": {},
   "source": [
    "We can display it as image - very useful in Jupyter Notebook!"
   ]
  },
  {
   "cell_type": "code",
   "execution_count": 17,
   "metadata": {},
   "outputs": [
    {
     "data": {
      "image/png": "[encoded data removed]",
      "text/plain": [
       "<pdfplumber.display.PageImage at 0x7f3ef8589710>"
      ]
     },
     "execution_count": 17,
     "metadata": {},
     "output_type": "execute_result"
    }
   ],
   "source": [
    "im = p0.to_image()\n",
    "im"
   ]
  },
  {
   "cell_type": "markdown",
   "metadata": {},
   "source": [
    "Another very useful tool is the visual debugger that shows what rows and columns are selected and if they are parsed correctly"
   ]
  },
  {
   "cell_type": "code",
   "execution_count": 18,
   "metadata": {},
   "outputs": [
    {
     "data": {
      "image/png": "[encoded data removed]",
      "text/plain": [
       "<pdfplumber.display.PageImage at 0x7f3ef8589710>"
      ]
     },
     "execution_count": 18,
     "metadata": {},
     "output_type": "execute_result"
    }
   ],
   "source": [
    "im.debug_tablefinder()"
   ]
  },
  {
   "cell_type": "markdown",
   "metadata": {},
   "source": [
    "It can be seen that because there is some text before and after the table, the last column is split in half, following the text width."
   ]
  },
  {
   "cell_type": "markdown",
   "metadata": {},
   "source": [
    "One of the simplest (but not flexible) solutions is to crop the page before processing."
   ]
  },
  {
   "cell_type": "code",
   "execution_count": 19,
   "metadata": {
    "collapsed": true
   },
   "outputs": [],
   "source": [
    "cropped = p0.crop((0, 50, p0.width, p0.height-100))"
   ]
  },
  {
   "cell_type": "code",
   "execution_count": 20,
   "metadata": {},
   "outputs": [
    {
     "data": {
      "image/png": "[encoded data removed]",
      "text/plain": [
       "<pdfplumber.display.PageImage at 0x7f3ed95ff780>"
      ]
     },
     "execution_count": 20,
     "metadata": {},
     "output_type": "execute_result"
    }
   ],
   "source": [
    "cropped.to_image().debug_tablefinder()"
   ]
  },
  {
   "cell_type": "markdown",
   "metadata": {},
   "source": [
    "Now we only have the table itself, and all cells are separated correctly."
   ]
  },
  {
   "cell_type": "markdown",
   "metadata": {},
   "source": [
    "We don't even need to specify [`table_settings`](https://github.com/jsvine/pdfplumber#table-extraction-settings) to extract the table"
   ]
  },
  {
   "cell_type": "code",
   "execution_count": 21,
   "metadata": {
    "collapsed": true
   },
   "outputs": [],
   "source": [
    "table = cropped.extract_table()"
   ]
  },
  {
   "cell_type": "markdown",
   "metadata": {},
   "source": [
    "The returned result is a list of lists containing rows of string data."
   ]
  },
  {
   "cell_type": "code",
   "execution_count": 22,
   "metadata": {
    "scrolled": true
   },
   "outputs": [
    {
     "data": {
      "text/plain": [
       "[['Polar low ID', 'Start time', 'End time', 'Start position', 'End position'],\n",
       " ['1',\n",
       "  '2002-01-12 01UTC',\n",
       "  '2002-01-12 16UTC',\n",
       "  '74.54N  28.01E',\n",
       "  '72.74N   46.36E'],\n",
       " ['2',\n",
       "  '2002-01-19 01UTC',\n",
       "  '2002-01-19  06UTC',\n",
       "  '71.00N   46.07E',\n",
       "  '69.21N   49.22E']]"
      ]
     },
     "execution_count": 22,
     "metadata": {},
     "output_type": "execute_result"
    }
   ],
   "source": [
    "table[:3]  # the first three rows"
   ]
  },
  {
   "cell_type": "markdown",
   "metadata": {},
   "source": [
    "#### Converting to `DataFrame`"
   ]
  },
  {
   "cell_type": "markdown",
   "metadata": {},
   "source": [
    "We can easily convert it to `pandas.Dataframe`. For the sake of brevity, we only convert the first 10 rows here."
   ]
  },
  {
   "cell_type": "code",
   "execution_count": 23,
   "metadata": {
    "collapsed": true
   },
   "outputs": [],
   "source": [
    "import pandas as pd"
   ]
  },
  {
   "cell_type": "code",
   "execution_count": 24,
   "metadata": {
    "collapsed": true
   },
   "outputs": [],
   "source": [
    "df = pd.DataFrame(table[1:11], columns=table[0])"
   ]
  },
  {
   "cell_type": "code",
   "execution_count": 25,
   "metadata": {
    "scrolled": true
   },
   "outputs": [
    {
     "data": {
      "text/html": [
       "<div>\n",
       "<style>\n",
       "    .dataframe thead tr:only-child th {\n",
       "        text-align: right;\n",
       "    }\n",
       "\n",
       "    .dataframe thead th {\n",
       "        text-align: left;\n",
       "    }\n",
       "\n",
       "    .dataframe tbody tr th {\n",
       "        vertical-align: top;\n",
       "    }\n",
       "</style>\n",
       "<table border=\"1\" class=\"dataframe\">\n",
       "  <thead>\n",
       "    <tr style=\"text-align: right;\">\n",
       "      <th></th>\n",
       "      <th>Polar low ID</th>\n",
       "      <th>Start time</th>\n",
       "      <th>End time</th>\n",
       "      <th>Start position</th>\n",
       "      <th>End position</th>\n",
       "    </tr>\n",
       "  </thead>\n",
       "  <tbody>\n",
       "    <tr>\n",
       "      <th>0</th>\n",
       "      <td>1</td>\n",
       "      <td>2002-01-12 01UTC</td>\n",
       "      <td>2002-01-12 16UTC</td>\n",
       "      <td>74.54N  28.01E</td>\n",
       "      <td>72.74N   46.36E</td>\n",
       "    </tr>\n",
       "    <tr>\n",
       "      <th>1</th>\n",
       "      <td>2</td>\n",
       "      <td>2002-01-19 01UTC</td>\n",
       "      <td>2002-01-19  06UTC</td>\n",
       "      <td>71.00N   46.07E</td>\n",
       "      <td>69.21N   49.22E</td>\n",
       "    </tr>\n",
       "    <tr>\n",
       "      <th>2</th>\n",
       "      <td>3</td>\n",
       "      <td>2002-01-22 10UTC</td>\n",
       "      <td>2002-01-22  12UTC</td>\n",
       "      <td>74.72 N  28.06E</td>\n",
       "      <td>74.77N   25.95E</td>\n",
       "    </tr>\n",
       "    <tr>\n",
       "      <th>3</th>\n",
       "      <td>4</td>\n",
       "      <td>2002-01-23  12UTC</td>\n",
       "      <td>2002-01-23  13UTC</td>\n",
       "      <td>70.23N   16.84E</td>\n",
       "      <td>69.90N   16.04E</td>\n",
       "    </tr>\n",
       "    <tr>\n",
       "      <th>4</th>\n",
       "      <td>5</td>\n",
       "      <td>2002-01-26  03UTC</td>\n",
       "      <td>2002-01-27  08UTC</td>\n",
       "      <td>72.09N   14.99E</td>\n",
       "      <td>76.34N    5.99W</td>\n",
       "    </tr>\n",
       "    <tr>\n",
       "      <th>5</th>\n",
       "      <td>6</td>\n",
       "      <td>2002-02-19  09UTC</td>\n",
       "      <td>2002-02-19  16UTC</td>\n",
       "      <td>74.28N   35.70E</td>\n",
       "      <td>73.50N    34.50E</td>\n",
       "    </tr>\n",
       "    <tr>\n",
       "      <th>6</th>\n",
       "      <td>7</td>\n",
       "      <td>2002-02-22  00UTC</td>\n",
       "      <td>2002-02-22  08UTC</td>\n",
       "      <td>74.04N   32.80E</td>\n",
       "      <td>76.27N    31.26E</td>\n",
       "    </tr>\n",
       "    <tr>\n",
       "      <th>7</th>\n",
       "      <td>8</td>\n",
       "      <td>2002-02-22  00UTC</td>\n",
       "      <td>2002-02-22  08UTC</td>\n",
       "      <td>75.70N   30.50E</td>\n",
       "      <td>76.52N    19.21E</td>\n",
       "    </tr>\n",
       "    <tr>\n",
       "      <th>8</th>\n",
       "      <td>9</td>\n",
       "      <td>2002-02-23  10UTC</td>\n",
       "      <td>2002-02-24  02UTC</td>\n",
       "      <td>68.50N    5.70E</td>\n",
       "      <td>66.10N    11.90E</td>\n",
       "    </tr>\n",
       "    <tr>\n",
       "      <th>9</th>\n",
       "      <td>10</td>\n",
       "      <td>2002-03-01  12UTC</td>\n",
       "      <td>2002-03-02  00UTC</td>\n",
       "      <td>68.80N   10.10E</td>\n",
       "      <td>69.10N    15.06E</td>\n",
       "    </tr>\n",
       "  </tbody>\n",
       "</table>\n",
       "</div>"
      ],
      "text/plain": [
       "  Polar low ID         Start time           End time   Start position  \\\n",
       "0            1   2002-01-12 01UTC   2002-01-12 16UTC   74.54N  28.01E   \n",
       "1            2   2002-01-19 01UTC  2002-01-19  06UTC  71.00N   46.07E   \n",
       "2            3   2002-01-22 10UTC  2002-01-22  12UTC  74.72 N  28.06E   \n",
       "3            4  2002-01-23  12UTC  2002-01-23  13UTC  70.23N   16.84E   \n",
       "4            5  2002-01-26  03UTC  2002-01-27  08UTC  72.09N   14.99E   \n",
       "5            6  2002-02-19  09UTC  2002-02-19  16UTC  74.28N   35.70E   \n",
       "6            7  2002-02-22  00UTC  2002-02-22  08UTC  74.04N   32.80E   \n",
       "7            8  2002-02-22  00UTC  2002-02-22  08UTC  75.70N   30.50E   \n",
       "8            9  2002-02-23  10UTC  2002-02-24  02UTC  68.50N    5.70E   \n",
       "9           10  2002-03-01  12UTC  2002-03-02  00UTC  68.80N   10.10E   \n",
       "\n",
       "       End position  \n",
       "0   72.74N   46.36E  \n",
       "1   69.21N   49.22E  \n",
       "2   74.77N   25.95E  \n",
       "3   69.90N   16.04E  \n",
       "4   76.34N    5.99W  \n",
       "5  73.50N    34.50E  \n",
       "6  76.27N    31.26E  \n",
       "7  76.52N    19.21E  \n",
       "8  66.10N    11.90E  \n",
       "9  69.10N    15.06E  "
      ]
     },
     "execution_count": 25,
     "metadata": {},
     "output_type": "execute_result"
    }
   ],
   "source": [
    "df"
   ]
  },
  {
   "cell_type": "markdown",
   "metadata": {},
   "source": [
    "We can also convert columns with strings representing dates and times to columns of datetime-like objects."
   ]
  },
  {
   "cell_type": "code",
   "execution_count": 26,
   "metadata": {
    "scrolled": true
   },
   "outputs": [],
   "source": [
    "df[['Start time', 'End time']] = df[['Start time', 'End time']].apply(pd.to_datetime)"
   ]
  },
  {
   "cell_type": "markdown",
   "metadata": {},
   "source": [
    "Since we already have an index ('Polar low ID'), we can reset it:"
   ]
  },
  {
   "cell_type": "code",
   "execution_count": 27,
   "metadata": {
    "collapsed": true
   },
   "outputs": [],
   "source": [
    "df.set_index('Polar low ID', inplace=True)"
   ]
  },
  {
   "cell_type": "code",
   "execution_count": 28,
   "metadata": {},
   "outputs": [
    {
     "data": {
      "text/html": [
       "<div>\n",
       "<style>\n",
       "    .dataframe thead tr:only-child th {\n",
       "        text-align: right;\n",
       "    }\n",
       "\n",
       "    .dataframe thead th {\n",
       "        text-align: left;\n",
       "    }\n",
       "\n",
       "    .dataframe tbody tr th {\n",
       "        vertical-align: top;\n",
       "    }\n",
       "</style>\n",
       "<table border=\"1\" class=\"dataframe\">\n",
       "  <thead>\n",
       "    <tr style=\"text-align: right;\">\n",
       "      <th></th>\n",
       "      <th>Start time</th>\n",
       "      <th>End time</th>\n",
       "      <th>Start position</th>\n",
       "      <th>End position</th>\n",
       "    </tr>\n",
       "    <tr>\n",
       "      <th>Polar low ID</th>\n",
       "      <th></th>\n",
       "      <th></th>\n",
       "      <th></th>\n",
       "      <th></th>\n",
       "    </tr>\n",
       "  </thead>\n",
       "  <tbody>\n",
       "    <tr>\n",
       "      <th>1</th>\n",
       "      <td>2002-01-12 01:00:00</td>\n",
       "      <td>2002-01-12 16:00:00</td>\n",
       "      <td>74.54N  28.01E</td>\n",
       "      <td>72.74N   46.36E</td>\n",
       "    </tr>\n",
       "    <tr>\n",
       "      <th>2</th>\n",
       "      <td>2002-01-19 01:00:00</td>\n",
       "      <td>2002-01-19 06:00:00</td>\n",
       "      <td>71.00N   46.07E</td>\n",
       "      <td>69.21N   49.22E</td>\n",
       "    </tr>\n",
       "    <tr>\n",
       "      <th>3</th>\n",
       "      <td>2002-01-22 10:00:00</td>\n",
       "      <td>2002-01-22 12:00:00</td>\n",
       "      <td>74.72 N  28.06E</td>\n",
       "      <td>74.77N   25.95E</td>\n",
       "    </tr>\n",
       "    <tr>\n",
       "      <th>4</th>\n",
       "      <td>2002-01-23 12:00:00</td>\n",
       "      <td>2002-01-23 13:00:00</td>\n",
       "      <td>70.23N   16.84E</td>\n",
       "      <td>69.90N   16.04E</td>\n",
       "    </tr>\n",
       "    <tr>\n",
       "      <th>5</th>\n",
       "      <td>2002-01-26 03:00:00</td>\n",
       "      <td>2002-01-27 08:00:00</td>\n",
       "      <td>72.09N   14.99E</td>\n",
       "      <td>76.34N    5.99W</td>\n",
       "    </tr>\n",
       "    <tr>\n",
       "      <th>6</th>\n",
       "      <td>2002-02-19 09:00:00</td>\n",
       "      <td>2002-02-19 16:00:00</td>\n",
       "      <td>74.28N   35.70E</td>\n",
       "      <td>73.50N    34.50E</td>\n",
       "    </tr>\n",
       "    <tr>\n",
       "      <th>7</th>\n",
       "      <td>2002-02-22 00:00:00</td>\n",
       "      <td>2002-02-22 08:00:00</td>\n",
       "      <td>74.04N   32.80E</td>\n",
       "      <td>76.27N    31.26E</td>\n",
       "    </tr>\n",
       "    <tr>\n",
       "      <th>8</th>\n",
       "      <td>2002-02-22 00:00:00</td>\n",
       "      <td>2002-02-22 08:00:00</td>\n",
       "      <td>75.70N   30.50E</td>\n",
       "      <td>76.52N    19.21E</td>\n",
       "    </tr>\n",
       "    <tr>\n",
       "      <th>9</th>\n",
       "      <td>2002-02-23 10:00:00</td>\n",
       "      <td>2002-02-24 02:00:00</td>\n",
       "      <td>68.50N    5.70E</td>\n",
       "      <td>66.10N    11.90E</td>\n",
       "    </tr>\n",
       "    <tr>\n",
       "      <th>10</th>\n",
       "      <td>2002-03-01 12:00:00</td>\n",
       "      <td>2002-03-02 00:00:00</td>\n",
       "      <td>68.80N   10.10E</td>\n",
       "      <td>69.10N    15.06E</td>\n",
       "    </tr>\n",
       "  </tbody>\n",
       "</table>\n",
       "</div>"
      ],
      "text/plain": [
       "                      Start time            End time   Start position  \\\n",
       "Polar low ID                                                            \n",
       "1            2002-01-12 01:00:00 2002-01-12 16:00:00   74.54N  28.01E   \n",
       "2            2002-01-19 01:00:00 2002-01-19 06:00:00  71.00N   46.07E   \n",
       "3            2002-01-22 10:00:00 2002-01-22 12:00:00  74.72 N  28.06E   \n",
       "4            2002-01-23 12:00:00 2002-01-23 13:00:00  70.23N   16.84E   \n",
       "5            2002-01-26 03:00:00 2002-01-27 08:00:00  72.09N   14.99E   \n",
       "6            2002-02-19 09:00:00 2002-02-19 16:00:00  74.28N   35.70E   \n",
       "7            2002-02-22 00:00:00 2002-02-22 08:00:00  74.04N   32.80E   \n",
       "8            2002-02-22 00:00:00 2002-02-22 08:00:00  75.70N   30.50E   \n",
       "9            2002-02-23 10:00:00 2002-02-24 02:00:00  68.50N    5.70E   \n",
       "10           2002-03-01 12:00:00 2002-03-02 00:00:00  68.80N   10.10E   \n",
       "\n",
       "                  End position  \n",
       "Polar low ID                    \n",
       "1              72.74N   46.36E  \n",
       "2              69.21N   49.22E  \n",
       "3              74.77N   25.95E  \n",
       "4              69.90N   16.04E  \n",
       "5              76.34N    5.99W  \n",
       "6             73.50N    34.50E  \n",
       "7             76.27N    31.26E  \n",
       "8             76.52N    19.21E  \n",
       "9             66.10N    11.90E  \n",
       "10            69.10N    15.06E  "
      ]
     },
     "execution_count": 28,
     "metadata": {},
     "output_type": "execute_result"
    }
   ],
   "source": [
    "df"
   ]
  },
  {
   "cell_type": "markdown",
   "metadata": {},
   "source": [
    "We can also write a function to convert polar low positions (like \"74.54N 28.01E\") to numerical data."
   ]
  },
  {
   "cell_type": "code",
   "execution_count": 29,
   "metadata": {
    "collapsed": true
   },
   "outputs": [],
   "source": [
    "def geostr2coord(arg):\n",
    "    \"\"\"\n",
    "    Function to convert geographical coordinates in traditional notation to longitude and latitude\n",
    "    \n",
    "    [WIP]\n",
    "    \"\"\"\n",
    "    pass"
   ]
  },
  {
   "cell_type": "markdown",
   "metadata": {},
   "source": [
    "and then apply it to the relevant columns"
   ]
  },
  {
   "cell_type": "code",
   "execution_count": 30,
   "metadata": {
    "collapsed": true
   },
   "outputs": [],
   "source": [
    "for colname in ('Start position', 'End position'):\n",
    "    df[colname] = df[colname].apply(geostr2coord)"
   ]
  },
  {
   "cell_type": "markdown",
   "metadata": {},
   "source": [
    "## [Tabula-py](https://github.com/chezou/tabula-py)"
   ]
  },
  {
   "cell_type": "markdown",
   "metadata": {},
   "source": [
    "Another promising library for PDF parsing is `tabula-py`, which is actually just Python bindings to a Java library with the same name."
   ]
  },
  {
   "cell_type": "markdown",
   "metadata": {},
   "source": [
    "So the caveat is that this is not a pure Python package, and you have to install Java to make it work."
   ]
  },
  {
   "cell_type": "markdown",
   "metadata": {},
   "source": [
    "Nevertheless, let's give it a try."
   ]
  },
  {
   "cell_type": "code",
   "execution_count": 31,
   "metadata": {
    "collapsed": true
   },
   "outputs": [],
   "source": [
    "import tabula"
   ]
  },
  {
   "cell_type": "markdown",
   "metadata": {},
   "source": [
    "Read data from the page 3 of the second PDF document."
   ]
  },
  {
   "cell_type": "code",
   "execution_count": 32,
   "metadata": {
    "collapsed": true
   },
   "outputs": [],
   "source": [
    "doc = tabula.read_pdf(moore2016_file,\n",
    "                      pages=3, multiple_tables=True)"
   ]
  },
  {
   "cell_type": "code",
   "execution_count": 33,
   "metadata": {},
   "outputs": [
    {
     "data": {
      "text/html": [
       "<div>\n",
       "<style>\n",
       "    .dataframe thead tr:only-child th {\n",
       "        text-align: right;\n",
       "    }\n",
       "\n",
       "    .dataframe thead th {\n",
       "        text-align: left;\n",
       "    }\n",
       "\n",
       "    .dataframe tbody tr th {\n",
       "        vertical-align: top;\n",
       "    }\n",
       "</style>\n",
       "<table border=\"1\" class=\"dataframe\">\n",
       "  <thead>\n",
       "    <tr style=\"text-align: right;\">\n",
       "      <th></th>\n",
       "      <th>0</th>\n",
       "      <th>1</th>\n",
       "      <th>2</th>\n",
       "      <th>3</th>\n",
       "      <th>4</th>\n",
       "      <th>5</th>\n",
       "      <th>6</th>\n",
       "    </tr>\n",
       "  </thead>\n",
       "  <tbody>\n",
       "    <tr>\n",
       "      <th>0</th>\n",
       "      <td>Site</td>\n",
       "      <td>ID</td>\n",
       "      <td>Vicinity</td>\n",
       "      <td>Data</td>\n",
       "      <td>Latitude</td>\n",
       "      <td>Longitude</td>\n",
       "      <td>Elevation (m)</td>\n",
       "    </tr>\n",
       "    <tr>\n",
       "      <th>1</th>\n",
       "      <td>Ittoqqortoormiit</td>\n",
       "      <td>04339</td>\n",
       "      <td>Scoresby Sund</td>\n",
       "      <td>Surface, Upper-Air</td>\n",
       "      <td>70.48◦N</td>\n",
       "      <td>21.95◦W</td>\n",
       "      <td>65</td>\n",
       "    </tr>\n",
       "    <tr>\n",
       "      <th>2</th>\n",
       "      <td>Aputiteeq</td>\n",
       "      <td>04351</td>\n",
       "      <td>Kangerdlugssuaq Fjord</td>\n",
       "      <td>None</td>\n",
       "      <td>67.78◦N</td>\n",
       "      <td>32.30◦W</td>\n",
       "      <td>13</td>\n",
       "    </tr>\n",
       "    <tr>\n",
       "      <th>3</th>\n",
       "      <td>Tasiilaq</td>\n",
       "      <td>04360</td>\n",
       "      <td>Sermilik Fjord</td>\n",
       "      <td>Surface, Upper-Air</td>\n",
       "      <td>65.60◦N</td>\n",
       "      <td>37.63◦W</td>\n",
       "      <td>36</td>\n",
       "    </tr>\n",
       "    <tr>\n",
       "      <th>4</th>\n",
       "      <td>Ikermiit</td>\n",
       "      <td>04373</td>\n",
       "      <td>Køge Bugt Fjord</td>\n",
       "      <td>Surface</td>\n",
       "      <td>64.78◦N</td>\n",
       "      <td>40.30◦W</td>\n",
       "      <td>85</td>\n",
       "    </tr>\n",
       "    <tr>\n",
       "      <th>5</th>\n",
       "      <td>Ikermiuarsuk</td>\n",
       "      <td>04382</td>\n",
       "      <td>North of Cape Farewell</td>\n",
       "      <td>Surface</td>\n",
       "      <td>61.93◦N</td>\n",
       "      <td>42.07◦W</td>\n",
       "      <td>39</td>\n",
       "    </tr>\n",
       "    <tr>\n",
       "      <th>6</th>\n",
       "      <td>Ikerasassuaq</td>\n",
       "      <td>04390</td>\n",
       "      <td>Cape Farewell</td>\n",
       "      <td>Surface</td>\n",
       "      <td>60.03◦N</td>\n",
       "      <td>43.12◦W</td>\n",
       "      <td>88</td>\n",
       "    </tr>\n",
       "    <tr>\n",
       "      <th>7</th>\n",
       "      <td>Narsarsuaq</td>\n",
       "      <td>04270</td>\n",
       "      <td>Cape Farewell</td>\n",
       "      <td>Upper-Air</td>\n",
       "      <td>61.15◦N</td>\n",
       "      <td>45.43◦W</td>\n",
       "      <td>65</td>\n",
       "    </tr>\n",
       "  </tbody>\n",
       "</table>\n",
       "</div>"
      ],
      "text/plain": [
       "                  0      1                       2                   3  \\\n",
       "0              Site     ID                Vicinity                Data   \n",
       "1  Ittoqqortoormiit  04339           Scoresby Sund  Surface, Upper-Air   \n",
       "2         Aputiteeq  04351   Kangerdlugssuaq Fjord                None   \n",
       "3          Tasiilaq  04360          Sermilik Fjord  Surface, Upper-Air   \n",
       "4          Ikermiit  04373         Køge Bugt Fjord             Surface   \n",
       "5      Ikermiuarsuk  04382  North of Cape Farewell             Surface   \n",
       "6      Ikerasassuaq  04390           Cape Farewell             Surface   \n",
       "7        Narsarsuaq  04270           Cape Farewell           Upper-Air   \n",
       "\n",
       "          4          5              6  \n",
       "0  Latitude  Longitude  Elevation (m)  \n",
       "1   70.48◦N    21.95◦W             65  \n",
       "2   67.78◦N    32.30◦W             13  \n",
       "3   65.60◦N    37.63◦W             36  \n",
       "4   64.78◦N    40.30◦W             85  \n",
       "5   61.93◦N    42.07◦W             39  \n",
       "6   60.03◦N    43.12◦W             88  \n",
       "7   61.15◦N    45.43◦W             65  "
      ]
     },
     "execution_count": 33,
     "metadata": {},
     "output_type": "execute_result"
    }
   ],
   "source": [
    "doc[0]"
   ]
  },
  {
   "cell_type": "markdown",
   "metadata": {},
   "source": [
    "As you can see, the package conveniently converts extracted tables to `pandas.DataFrame`. "
   ]
  },
  {
   "cell_type": "markdown",
   "metadata": {},
   "source": [
    "But what about the second table?"
   ]
  },
  {
   "cell_type": "code",
   "execution_count": 34,
   "metadata": {
    "collapsed": true
   },
   "outputs": [],
   "source": [
    "doc = tabula.read_pdf(moore2016_file,\n",
    "                      pages=3, multiple_tables=True, area=(500, 0, 850, 500))"
   ]
  },
  {
   "cell_type": "markdown",
   "metadata": {},
   "source": [
    "Even with `multiple_tables=True`, it could not extract two tables from the same page. Therefore, to get the second table (at the bottom of the page), we used a \"dirty\" solution again - we cropped half of the page."
   ]
  },
  {
   "cell_type": "code",
   "execution_count": 35,
   "metadata": {
    "scrolled": true
   },
   "outputs": [
    {
     "data": {
      "text/html": [
       "<div>\n",
       "<style>\n",
       "    .dataframe thead tr:only-child th {\n",
       "        text-align: right;\n",
       "    }\n",
       "\n",
       "    .dataframe thead th {\n",
       "        text-align: left;\n",
       "    }\n",
       "\n",
       "    .dataframe tbody tr th {\n",
       "        vertical-align: top;\n",
       "    }\n",
       "</style>\n",
       "<table border=\"1\" class=\"dataframe\">\n",
       "  <thead>\n",
       "    <tr style=\"text-align: right;\">\n",
       "      <th></th>\n",
       "      <th>0</th>\n",
       "      <th>1</th>\n",
       "      <th>2</th>\n",
       "      <th>3</th>\n",
       "      <th>4</th>\n",
       "      <th>5</th>\n",
       "      <th>6</th>\n",
       "    </tr>\n",
       "  </thead>\n",
       "  <tbody>\n",
       "    <tr>\n",
       "      <th>0</th>\n",
       "      <td>Flight</td>\n",
       "      <td>Date</td>\n",
       "      <td>Science aim</td>\n",
       "      <td>Area of operation</td>\n",
       "      <td>Take-off UTC</td>\n",
       "      <td>Landing UTC</td>\n",
       "      <td>Dropsondes</td>\n",
       "    </tr>\n",
       "    <tr>\n",
       "      <th>1</th>\n",
       "      <td>B268</td>\n",
       "      <td>21 February</td>\n",
       "      <td>Easterly tip jet</td>\n",
       "      <td>Cape Farewell</td>\n",
       "      <td>1048</td>\n",
       "      <td>1627</td>\n",
       "      <td>12</td>\n",
       "    </tr>\n",
       "    <tr>\n",
       "      <th>2</th>\n",
       "      <td>B271</td>\n",
       "      <td>25 February</td>\n",
       "      <td>Polar low interacting with Greenland</td>\n",
       "      <td>Iceland Sea</td>\n",
       "      <td>1035</td>\n",
       "      <td>1625</td>\n",
       "      <td>16</td>\n",
       "    </tr>\n",
       "    <tr>\n",
       "      <th>3</th>\n",
       "      <td>B274</td>\n",
       "      <td>2 March</td>\n",
       "      <td>Barrier winds</td>\n",
       "      <td>Denmark Strait</td>\n",
       "      <td>1107</td>\n",
       "      <td>1455</td>\n",
       "      <td>9</td>\n",
       "    </tr>\n",
       "    <tr>\n",
       "      <th>4</th>\n",
       "      <td>B276</td>\n",
       "      <td>5 March</td>\n",
       "      <td>Barrier winds</td>\n",
       "      <td>Denmark Strait</td>\n",
       "      <td>1120</td>\n",
       "      <td>1706</td>\n",
       "      <td>8</td>\n",
       "    </tr>\n",
       "    <tr>\n",
       "      <th>5</th>\n",
       "      <td>B277</td>\n",
       "      <td>6 March</td>\n",
       "      <td>Barrier winds</td>\n",
       "      <td>Denmark Strait</td>\n",
       "      <td>1027</td>\n",
       "      <td>1600</td>\n",
       "      <td>17</td>\n",
       "    </tr>\n",
       "    <tr>\n",
       "      <th>6</th>\n",
       "      <td>B278</td>\n",
       "      <td>9 March</td>\n",
       "      <td>Barrier winds and air–sea interaction</td>\n",
       "      <td>Denmark Strait</td>\n",
       "      <td>1031</td>\n",
       "      <td>1511</td>\n",
       "      <td>6</td>\n",
       "    </tr>\n",
       "  </tbody>\n",
       "</table>\n",
       "</div>"
      ],
      "text/plain": [
       "        0            1                                      2  \\\n",
       "0  Flight         Date                            Science aim   \n",
       "1    B268  21 February                       Easterly tip jet   \n",
       "2    B271  25 February   Polar low interacting with Greenland   \n",
       "3    B274      2 March                          Barrier winds   \n",
       "4    B276      5 March                          Barrier winds   \n",
       "5    B277      6 March                          Barrier winds   \n",
       "6    B278      9 March  Barrier winds and air–sea interaction   \n",
       "\n",
       "                   3             4            5           6  \n",
       "0  Area of operation  Take-off UTC  Landing UTC  Dropsondes  \n",
       "1      Cape Farewell          1048         1627          12  \n",
       "2        Iceland Sea          1035         1625          16  \n",
       "3     Denmark Strait          1107         1455           9  \n",
       "4     Denmark Strait          1120         1706           8  \n",
       "5     Denmark Strait          1027         1600          17  \n",
       "6     Denmark Strait          1031         1511           6  "
      ]
     },
     "execution_count": 35,
     "metadata": {},
     "output_type": "execute_result"
    }
   ],
   "source": [
    "doc[0]"
   ]
  },
  {
   "cell_type": "markdown",
   "metadata": {},
   "source": [
    "The tables still need a bit of cleaning, including the correct column names, of course."
   ]
  },
  {
   "cell_type": "markdown",
   "metadata": {},
   "source": [
    "## Some online converters"
   ]
  },
  {
   "cell_type": "markdown",
   "metadata": {},
   "source": [
    "### PDFTables"
   ]
  },
  {
   "cell_type": "markdown",
   "metadata": {
    "collapsed": true
   },
   "source": [
    "https://pdftables.com/ - pay-per-page service focused on tabular data extraction from the folks at ScraperWiki"
   ]
  },
  {
   "cell_type": "markdown",
   "metadata": {},
   "source": [
    "API: https://github.com/pdftables/python-pdftables-api"
   ]
  },
  {
   "cell_type": "markdown",
   "metadata": {},
   "source": [
    "### PDF to XLS"
   ]
  },
  {
   "cell_type": "markdown",
   "metadata": {},
   "source": [
    "http://pdftoxls.com/"
   ]
  },
  {
   "cell_type": "markdown",
   "metadata": {},
   "source": [
    "## References"
   ]
  },
  {
   "cell_type": "markdown",
   "metadata": {},
   "source": [
    "* https://pythonbytes.fm/episodes/show/26/how-have-you-automated-your-life-or-cli-with-python\n",
    "* https://www.propublica.org/nerds/item/heart-of-nerd-darkness-why-dollars-for-docs-was-so-difficult"
   ]
  },
  {
   "cell_type": "code",
   "execution_count": 36,
   "metadata": {},
   "outputs": [
    {
     "data": {
      "text/html": [
       "\n",
       "    <small>\n",
       "    <p> This post was written as an IPython (Jupyter) notebook. You can view or download it using\n",
       "    <a href=\"http://nbviewer.ipython.org/github/ueapy/ueapy.github.io/blob/src/content/notebooks/2017-06-30-pdf-scraping.ipynb\">nbviewer</a>.</p>\n",
       "    "
      ],
      "text/plain": [
       "<IPython.core.display.HTML object>"
      ]
     },
     "execution_count": 36,
     "metadata": {},
     "output_type": "execute_result"
    }
   ],
   "source": [
    "HTML(html)"
   ]
  }
 ],
 "metadata": {
  "kernelspec": {
   "display_name": "Python [conda env:datasci]",
   "language": "python",
   "name": "conda-env-datasci-py"
  },
  "language_info": {
   "codemirror_mode": {
    "name": "ipython",
    "version": 3
   },
   "file_extension": ".py",
   "mimetype": "text/x-python",
   "name": "python",
   "nbconvert_exporter": "python",
   "pygments_lexer": "ipython3",
   "version": "3.6.1"
  }
 },
 "nbformat": 4,
 "nbformat_minor": 2
}
