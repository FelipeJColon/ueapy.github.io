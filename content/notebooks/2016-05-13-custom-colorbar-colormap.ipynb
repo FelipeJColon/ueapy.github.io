{
 "cells": [
  {
   "cell_type": "code",
   "execution_count": null,
   "metadata": {
    "collapsed": false
   },
   "outputs": [],
   "source": [
    "# Notebook styling\n",
    "from IPython.core.display import HTML\n",
    "HTML(\"<style>.container { width:100% !important; }</style>\")"
   ]
  },
  {
   "cell_type": "markdown",
   "metadata": {},
   "source": [
    "# Helping session"
   ]
  },
  {
   "cell_type": "markdown",
   "metadata": {},
   "source": [
    "## 1. Customizing colorbars and colormaps in `matplotlib`"
   ]
  },
  {
   "cell_type": "markdown",
   "metadata": {},
   "source": [
    "##### Question:\n",
    "I have a colorbar such as this:\n",
    "![](../figures/help2.JPG)\n",
    "\n",
    "How can I get a colorbar to look like this?\n",
    "\n",
    "![](../figures/help1.JPG)"
   ]
  },
  {
   "cell_type": "markdown",
   "metadata": {},
   "source": [
    "For the plot like this:\n",
    "![](../figures/help3.JPG)"
   ]
  },
  {
   "cell_type": "markdown",
   "metadata": {},
   "source": [
    "### 1.0 some necessary imports and fake data"
   ]
  },
  {
   "cell_type": "code",
   "execution_count": null,
   "metadata": {
    "collapsed": true
   },
   "outputs": [],
   "source": [
    "import matplotlib as mpl\n",
    "import matplotlib.pyplot as plt\n",
    "import numpy as np"
   ]
  },
  {
   "cell_type": "code",
   "execution_count": null,
   "metadata": {
    "collapsed": true
   },
   "outputs": [],
   "source": [
    "%matplotlib inline"
   ]
  },
  {
   "cell_type": "code",
   "execution_count": null,
   "metadata": {
    "collapsed": true
   },
   "outputs": [],
   "source": [
    "mpl.rcParams['figure.figsize'] = (13,9)"
   ]
  },
  {
   "cell_type": "code",
   "execution_count": null,
   "metadata": {
    "collapsed": false
   },
   "outputs": [],
   "source": [
    "x = np.arange(0, np.pi, 0.1)\n",
    "y = np.arange(0, 2*np.pi, 0.1)\n",
    "xx, yy = np.meshgrid(x, y)\n",
    "zz = np.clip(6*(np.cos(xx) * np.sin(yy) + np.random.rand(*xx.shape)*np.cos(yy)),0,5.5)"
   ]
  },
  {
   "cell_type": "markdown",
   "metadata": {},
   "source": [
    "### 1.1 Customizing a colorbar"
   ]
  },
  {
   "cell_type": "markdown",
   "metadata": {},
   "source": [
    "Let's check if the colormap is available here: http://matplotlib.org/examples/color/colormaps_reference.html\n",
    "\n",
    "Yes, it is available under the name 'gist_stern'"
   ]
  },
  {
   "cell_type": "code",
   "execution_count": null,
   "metadata": {
    "collapsed": false
   },
   "outputs": [],
   "source": [
    "fig = plt.figure(figsize=(18, 3))\n",
    "ax1 = fig.add_axes([0.05, 0.80, 0.9, 0.15])\n",
    "cb1 = mpl.colorbar.ColorbarBase(ax1, orientation='horizontal', cmap='viridis')"
   ]
  },
  {
   "cell_type": "code",
   "execution_count": null,
   "metadata": {
    "collapsed": false
   },
   "outputs": [],
   "source": [
    "np.linspace(0, 6, 13)"
   ]
  },
  {
   "cell_type": "code",
   "execution_count": null,
   "metadata": {
    "collapsed": false
   },
   "outputs": [],
   "source": [
    "fig = plt.figure(figsize=(18, 3))\n",
    "ax1 = fig.add_axes([0.05, 0.80, 0.9, 0.15])\n",
    "cb1 = mpl.colorbar.ColorbarBase(ax1, cmap='gist_stern_r',\n",
    "                                boundaries=np.arange(0,6.5,0.5),\n",
    "                                ticks=np.arange(0,7,1),\n",
    "                                format='%1.2f',\n",
    "                                orientation='horizontal')\n",
    "cb1.ax.tick_params(labelsize=20)"
   ]
  },
  {
   "cell_type": "code",
   "execution_count": null,
   "metadata": {
    "collapsed": false
   },
   "outputs": [],
   "source": [
    "fig, ax = plt.subplots()\n",
    "p = ax.contourf(x, y, zz, cmap='gist_stern_r', levels=np.arange(0,6.5,0.5))\n",
    "cb1 = fig.colorbar(p, ax=ax,\n",
    "                      ticks=np.arange(0,7,1),\n",
    "                      format='%1.2f',\n",
    "                      orientation='vertical',\n",
    "                      pad=0.01)\n",
    "cb1.ax.tick_params(labelsize=20)"
   ]
  },
  {
   "cell_type": "markdown",
   "metadata": {},
   "source": [
    "### 1.2 Creating your own colormap"
   ]
  },
  {
   "cell_type": "markdown",
   "metadata": {},
   "source": [
    "There are several ways to create your own or customize an existing colormap."
   ]
  },
  {
   "cell_type": "markdown",
   "metadata": {},
   "source": [
    "### 1.2.1 NEVER USE RAINBOW"
   ]
  },
  {
   "cell_type": "raw",
   "metadata": {},
   "source": [
    "import seaborn as sns\n",
    "sns.color_palette('viridis')"
   ]
  },
  {
   "cell_type": "markdown",
   "metadata": {},
   "source": [
    "### 1.2.2 Colormap from a list of colors"
   ]
  },
  {
   "cell_type": "code",
   "execution_count": null,
   "metadata": {
    "collapsed": false
   },
   "outputs": [],
   "source": [
    "cmap1 = mpl.colors.ListedColormap(['r', 'b', 'c'])\n",
    "cmap1.set_over('0.25')\n",
    "cmap1.set_under('0.75')"
   ]
  },
  {
   "cell_type": "code",
   "execution_count": null,
   "metadata": {
    "collapsed": false,
    "scrolled": false
   },
   "outputs": [],
   "source": [
    "fig, ax = plt.subplots()\n",
    "p = ax.contourf(x, y, zz, cmap=cmap1, levels=np.arange(0,6.5,0.5),extend='max')\n",
    "cb1 = fig.colorbar(p, ax=ax,\n",
    "                      ticks=np.arange(0,7,1),\n",
    "                      format='%1.2f',\n",
    "                      orientation='vertical',\n",
    "                      pad=0.01)\n",
    "cb1.ax.tick_params(labelsize=20)"
   ]
  },
  {
   "cell_type": "markdown",
   "metadata": {},
   "source": [
    "### 1.2.3 `LinearSegmentedColormap`"
   ]
  },
  {
   "cell_type": "code",
   "execution_count": null,
   "metadata": {
    "collapsed": false
   },
   "outputs": [],
   "source": [
    "c_white_trans = mpl.colors.colorConverter.to_rgba('white', alpha=0.0)\n",
    "cmap = mpl.colors.LinearSegmentedColormap.from_list('aaaa',\n",
    "                                                    ['#000077', c_white_trans, 'r', 'c'], 64)"
   ]
  },
  {
   "cell_type": "code",
   "execution_count": null,
   "metadata": {
    "collapsed": false
   },
   "outputs": [],
   "source": [
    "fig, ax = plt.subplots()\n",
    "_ = ax.contourf(x, y, xx[:,::-1], cmap='viridis')\n",
    "p = ax.contourf(x, y, zz, cmap=cmap, levels=np.arange(0,6.5,0.5))\n",
    "cb1 = fig.colorbar(p, ax=ax,\n",
    "                      ticks=np.arange(0,7,1),\n",
    "                      format='%1.2f',\n",
    "                      orientation='vertical',\n",
    "                      pad=0.01)\n",
    "cb1.ax.tick_params(labelsize=20)"
   ]
  },
  {
   "cell_type": "code",
   "execution_count": null,
   "metadata": {
    "collapsed": true
   },
   "outputs": [],
   "source": [
    "# references"
   ]
  }
 ],
 "metadata": {
  "kernelspec": {
   "display_name": "Python 3",
   "language": "python",
   "name": "python3"
  },
  "language_info": {
   "codemirror_mode": {
    "name": "ipython",
    "version": 3
   },
   "file_extension": ".py",
   "mimetype": "text/x-python",
   "name": "python",
   "nbconvert_exporter": "python",
   "pygments_lexer": "ipython3",
   "version": "3.5.1"
  }
 },
 "nbformat": 4,
 "nbformat_minor": 0
}
