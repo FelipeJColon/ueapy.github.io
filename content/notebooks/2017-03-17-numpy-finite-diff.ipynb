{
 "cells": [
  {
   "cell_type": "code",
   "execution_count": 1,
   "metadata": {
    "collapsed": true
   },
   "outputs": [],
   "source": [
    "name = '2017-03-17-numpy-finite-diff'\n",
    "title = 'Some examples on numerical differentiation in Python'\n",
    "tags = 'numpy'\n",
    "author = 'Denis Sergeev'"
   ]
  },
  {
   "cell_type": "code",
   "execution_count": 2,
   "metadata": {
    "collapsed": true
   },
   "outputs": [],
   "source": [
    "from nb_tools import connect_notebook_to_post\n",
    "from IPython.core.display import HTML, Image\n",
    "\n",
    "html = connect_notebook_to_post(name, title, tags, author)"
   ]
  },
  {
   "cell_type": "markdown",
   "metadata": {},
   "source": [
    "Going through Mark's [Ocean World climate model code](https://github.com/multilingualtricker/CretinousCode), one of the improvements that we discussed this Friday was moving from nested `for`-loops to array-wide operations. Sometimes this is called *vectorisation*, even though operations are performed not only on 1D-vectors, but on N-dimensional arrays."
   ]
  },
  {
   "cell_type": "markdown",
   "metadata": {},
   "source": [
    "The most interesting part was to apply this concept to the finite differences, specifically to the horizontal diffusion, which is the mechanism of transporting heat in the ocean and the atmosphere in Mark's model (there is no advection)."
   ]
  },
  {
   "cell_type": "markdown",
   "metadata": {},
   "source": [
    "Changes that we made can be viewed on GitHub:\n",
    "* [First introduction of vectorised finite differences (using `numpy.roll()` function)](https://github.com/multilingualtricker/CretinousCode/commit/d89e35cf77ba699b13146c92bb3d9b5a487e3094)\n",
    "* [Cleaner version with a diffusion subroutine](https://github.com/multilingualtricker/CretinousCode/commit/ab4011f6b5c93b22bbc49f6ccca8486d39a10557)"
   ]
  },
  {
   "cell_type": "markdown",
   "metadata": {},
   "source": [
    "In this notebook you can go through simpler examples of diffusion problem and see for yourself why NumPy is great."
   ]
  },
  {
   "cell_type": "markdown",
   "metadata": {},
   "source": [
    "**Examples in this notebook are taken from the book [\"High Performance Python\"](http://shop.oreilly.com/product/0636920028963.do).**"
   ]
  },
  {
   "cell_type": "markdown",
   "metadata": {
    "deletable": true,
    "editable": true
   },
   "source": [
    "## Pure Python\n",
    "\n",
    "* Python doesn’t *natively* support vectorization. \n",
    "* There are two reasons for this:\n",
    "    - Python lists store pointers to the actual data,\n",
    "    - Python bytecode is not optimized for vectorization, so for loops cannot predict when using vectorization would be beneficial.\n"
   ]
  },
  {
   "cell_type": "code",
   "execution_count": 3,
   "metadata": {
    "collapsed": true,
    "deletable": true,
    "editable": true
   },
   "outputs": [],
   "source": [
    "# import time module to get execution time\n",
    "import time\n",
    "# plotting\n",
    "import matplotlib.pyplot as plt\n",
    "%matplotlib inline"
   ]
  },
  {
   "cell_type": "markdown",
   "metadata": {
    "deletable": true,
    "editable": true
   },
   "source": [
    "### Diffusion problem"
   ]
  },
  {
   "cell_type": "markdown",
   "metadata": {},
   "source": [
    "Let's use a square grid."
   ]
  },
  {
   "cell_type": "code",
   "execution_count": 4,
   "metadata": {
    "collapsed": true,
    "deletable": true,
    "editable": true
   },
   "outputs": [],
   "source": [
    "grid_shape = (1024, 1024)"
   ]
  },
  {
   "cell_type": "code",
   "execution_count": 5,
   "metadata": {
    "collapsed": true,
    "deletable": true,
    "editable": true
   },
   "outputs": [],
   "source": [
    "def evolve(grid, dt, out, D=1.0):\n",
    "    xmax, ymax = grid_shape\n",
    "    for i in range(xmax):\n",
    "        for j in range(ymax):\n",
    "            grid_xx = grid[(i+1) % xmax][j] + grid[(i-1) % xmax][j] - 2.0 * grid[i][j]\n",
    "            grid_yy = grid[i][(j+1) % ymax] + grid[i][(j-1) % ymax] - 2.0 * grid[i][j]\n",
    "            out[i][j] = grid[i][j] + D * (grid_xx + grid_yy) * dt"
   ]
  },
  {
   "cell_type": "markdown",
   "metadata": {},
   "source": [
    "Note that `evolve()` function does not return anything, because lists are mutable objects and their elements can be modified in place."
   ]
  },
  {
   "cell_type": "code",
   "execution_count": 6,
   "metadata": {
    "collapsed": true,
    "deletable": true,
    "editable": true
   },
   "outputs": [],
   "source": [
    "def run_experiment(num_iterations):\n",
    "    xmax, ymax = grid_shape\n",
    "    \n",
    "    # Allocate lists of lists to use as 2d arrays\n",
    "    next_grid = [[0.0,] * ymax for x in range(xmax)]\n",
    "    grid = [[0.0,] * ymax for x in range(xmax)]\n",
    "    \n",
    "    # Set up initial conditions\n",
    "    block_low = int(grid_shape[0] * .4)\n",
    "    block_high = int(grid_shape[0] * .5)\n",
    "    for i in range(block_low, block_high):\n",
    "        for j in range(block_low, block_high):\n",
    "            grid[i][j] = 0.005\n",
    "    \n",
    "    # Start of integration\n",
    "    start = time.time()\n",
    "    for i in range(num_iterations):\n",
    "        evolve(grid, 0.1, next_grid)\n",
    "        grid, next_grid = next_grid, grid\n",
    "    return time.time() - start"
   ]
  },
  {
   "cell_type": "code",
   "execution_count": 7,
   "metadata": {
    "collapsed": false,
    "deletable": true,
    "editable": true
   },
   "outputs": [
    {
     "name": "stdout",
     "output_type": "stream",
     "text": [
      "Execution time of 10 iterations: 9.47 s\n"
     ]
    }
   ],
   "source": [
    "exec_time = run_experiment(10)\n",
    "print('Execution time of 10 iterations: {:.2f} s'.format(exec_time))"
   ]
  },
  {
   "cell_type": "markdown",
   "metadata": {},
   "source": [
    "Pretty slow!"
   ]
  },
  {
   "cell_type": "markdown",
   "metadata": {
    "deletable": true,
    "editable": true
   },
   "source": [
    "## NumPy"
   ]
  },
  {
   "cell_type": "markdown",
   "metadata": {
    "deletable": true,
    "editable": true
   },
   "source": [
    "* Luckily, numpy has all of the features we need - it stores data in **contiguous chunks of memory**\n",
    "* It supports vectorized operations on its data\n",
    "* As a result, any arithmetic we do on numpy arrays happens in chunks without us having to explicitly loop over each element"
   ]
  },
  {
   "cell_type": "markdown",
   "metadata": {
    "deletable": true,
    "editable": true
   },
   "source": [
    "## Example to calculate vector norm"
   ]
  },
  {
   "cell_type": "markdown",
   "metadata": {},
   "source": [
    "Fake data:"
   ]
  },
  {
   "cell_type": "code",
   "execution_count": 8,
   "metadata": {
    "collapsed": false,
    "deletable": true,
    "editable": true
   },
   "outputs": [],
   "source": [
    "vector = list(range(1000000))"
   ]
  },
  {
   "cell_type": "markdown",
   "metadata": {
    "deletable": true,
    "editable": true
   },
   "source": [
    "#### pure python"
   ]
  },
  {
   "cell_type": "code",
   "execution_count": 9,
   "metadata": {
    "collapsed": true,
    "deletable": true,
    "editable": true
   },
   "outputs": [],
   "source": [
    "def norm_square_list(vector):\n",
    "    norm = 0\n",
    "    for v in vector:\n",
    "        norm += v * v\n",
    "    return norm"
   ]
  },
  {
   "cell_type": "code",
   "execution_count": 10,
   "metadata": {
    "collapsed": false,
    "deletable": true,
    "editable": true,
    "scrolled": true
   },
   "outputs": [
    {
     "name": "stdout",
     "output_type": "stream",
     "text": [
      "10 loops, best of 3: 71.8 ms per loop\n"
     ]
    }
   ],
   "source": [
    "%timeit norm_square_list(vector)"
   ]
  },
  {
   "cell_type": "code",
   "execution_count": 11,
   "metadata": {
    "collapsed": true,
    "deletable": true,
    "editable": true
   },
   "outputs": [],
   "source": [
    "def norm_square_list_comprehension(vector):\n",
    "    return sum([v*v for v in vector])"
   ]
  },
  {
   "cell_type": "code",
   "execution_count": 12,
   "metadata": {
    "collapsed": false,
    "deletable": true,
    "editable": true,
    "scrolled": true
   },
   "outputs": [
    {
     "name": "stdout",
     "output_type": "stream",
     "text": [
      "10 loops, best of 3: 80.7 ms per loop\n"
     ]
    }
   ],
   "source": [
    "%timeit norm_square_list_comprehension(vector)"
   ]
  },
  {
   "cell_type": "code",
   "execution_count": 13,
   "metadata": {
    "collapsed": true,
    "deletable": true,
    "editable": true
   },
   "outputs": [],
   "source": [
    "def norm_squared_generator_comprehension(vector):\n",
    "    return sum(v*v for v in vector)"
   ]
  },
  {
   "cell_type": "code",
   "execution_count": 14,
   "metadata": {
    "collapsed": false,
    "deletable": true,
    "editable": true,
    "scrolled": true
   },
   "outputs": [
    {
     "name": "stdout",
     "output_type": "stream",
     "text": [
      "10 loops, best of 3: 81.8 ms per loop\n"
     ]
    }
   ],
   "source": [
    "%timeit norm_squared_generator_comprehension(vector)"
   ]
  },
  {
   "cell_type": "markdown",
   "metadata": {
    "deletable": true,
    "editable": true
   },
   "source": [
    "#### the same, but with numpy"
   ]
  },
  {
   "cell_type": "code",
   "execution_count": 15,
   "metadata": {
    "collapsed": false,
    "deletable": true,
    "editable": true
   },
   "outputs": [],
   "source": [
    "import numpy as np"
   ]
  },
  {
   "cell_type": "code",
   "execution_count": 16,
   "metadata": {
    "collapsed": true,
    "deletable": true,
    "editable": true
   },
   "outputs": [],
   "source": [
    "vector = np.arange(1000000)"
   ]
  },
  {
   "cell_type": "code",
   "execution_count": 17,
   "metadata": {
    "collapsed": true,
    "deletable": true,
    "editable": true
   },
   "outputs": [],
   "source": [
    "def norm_square_numpy(vector):\n",
    "    return np.sum(vector * vector)"
   ]
  },
  {
   "cell_type": "code",
   "execution_count": 18,
   "metadata": {
    "collapsed": false,
    "deletable": true,
    "editable": true,
    "scrolled": true
   },
   "outputs": [
    {
     "name": "stdout",
     "output_type": "stream",
     "text": [
      "100 loops, best of 3: 3.06 ms per loop\n"
     ]
    }
   ],
   "source": [
    "%timeit norm_square_numpy(vector)"
   ]
  },
  {
   "cell_type": "code",
   "execution_count": 19,
   "metadata": {
    "collapsed": true,
    "deletable": true,
    "editable": true
   },
   "outputs": [],
   "source": [
    "def norm_square_numpy_dot(vector):\n",
    "    return np.dot(vector, vector) "
   ]
  },
  {
   "cell_type": "code",
   "execution_count": 20,
   "metadata": {
    "collapsed": false,
    "deletable": true,
    "editable": true
   },
   "outputs": [
    {
     "name": "stdout",
     "output_type": "stream",
     "text": [
      "1000 loops, best of 3: 935 µs per loop\n"
     ]
    }
   ],
   "source": [
    "%timeit norm_square_numpy_dot(vector)"
   ]
  },
  {
   "cell_type": "markdown",
   "metadata": {
    "deletable": true,
    "editable": true
   },
   "source": [
    "## Applying numpy to finite differences"
   ]
  },
  {
   "cell_type": "markdown",
   "metadata": {
    "deletable": true,
    "editable": true
   },
   "source": [
    "Generic differences"
   ]
  },
  {
   "cell_type": "markdown",
   "metadata": {
    "deletable": true,
    "editable": true
   },
   "source": [
    "* `numpy.gradient()`"
   ]
  },
  {
   "cell_type": "markdown",
   "metadata": {
    "deletable": true,
    "editable": true
   },
   "source": [
    "* `numpy.diff()`"
   ]
  },
  {
   "cell_type": "code",
   "execution_count": 21,
   "metadata": {
    "collapsed": false,
    "deletable": true,
    "editable": true
   },
   "outputs": [
    {
     "data": {
      "text/plain": [
       "array([10, 12, 14, 16, 18])"
      ]
     },
     "execution_count": 21,
     "metadata": {},
     "output_type": "execute_result"
    }
   ],
   "source": [
    "a = np.arange(10, 20, 2)\n",
    "a"
   ]
  },
  {
   "cell_type": "code",
   "execution_count": 22,
   "metadata": {
    "collapsed": false,
    "deletable": true,
    "editable": true
   },
   "outputs": [
    {
     "data": {
      "text/plain": [
       "array([2, 2, 2, 2])"
      ]
     },
     "execution_count": 22,
     "metadata": {},
     "output_type": "execute_result"
    }
   ],
   "source": [
    "np.diff(a)"
   ]
  },
  {
   "cell_type": "code",
   "execution_count": 23,
   "metadata": {
    "collapsed": false,
    "deletable": true,
    "editable": true
   },
   "outputs": [
    {
     "data": {
      "text/plain": [
       "array([2, 2, 2, 2])"
      ]
     },
     "execution_count": 23,
     "metadata": {},
     "output_type": "execute_result"
    }
   ],
   "source": [
    "a[1:] - a[:-1]"
   ]
  },
  {
   "cell_type": "markdown",
   "metadata": {
    "deletable": true,
    "editable": true
   },
   "source": [
    "### Diffusion Problem"
   ]
  },
  {
   "cell_type": "markdown",
   "metadata": {},
   "source": [
    "To compare to the pure Python we use the same grid and same initial conditions."
   ]
  },
  {
   "cell_type": "code",
   "execution_count": 24,
   "metadata": {
    "collapsed": true,
    "deletable": true,
    "editable": true
   },
   "outputs": [],
   "source": [
    "grid_shape = (1024, 1024)"
   ]
  },
  {
   "cell_type": "code",
   "execution_count": 25,
   "metadata": {
    "collapsed": true,
    "deletable": true,
    "editable": true
   },
   "outputs": [],
   "source": [
    "def laplacian(grid):\n",
    "    return (np.roll(grid, +1, 0) + np.roll(grid, -1, 0) +\n",
    "            np.roll(grid, +1, 1) + np.roll(grid, -1, 1) - 4 * grid)"
   ]
  },
  {
   "cell_type": "code",
   "execution_count": 26,
   "metadata": {
    "collapsed": true,
    "deletable": true,
    "editable": true
   },
   "outputs": [],
   "source": [
    "def evolve(grid, dt, D=1):\n",
    "    return grid + dt * D * laplacian(grid)"
   ]
  },
  {
   "cell_type": "code",
   "execution_count": 27,
   "metadata": {
    "collapsed": true,
    "deletable": true,
    "editable": true
   },
   "outputs": [],
   "source": [
    "def run_experiment_numpy(num_iterations):\n",
    "    # Allocate 2d array\n",
    "    grid = np.zeros(grid_shape)\n",
    "    \n",
    "    # Initial conditions\n",
    "    block_low = int(grid_shape[0] * .4)\n",
    "    block_high = int(grid_shape[0] * .5)\n",
    "    grid[block_low:block_high, block_low:block_high] = 0.005\n",
    "    \n",
    "    # Save the initial conditions to use in the plotting section\n",
    "    grid0 = grid.copy()\n",
    "    \n",
    "    # Integrate in time\n",
    "    start = time.time()\n",
    "    for i in range(num_iterations):\n",
    "        grid = evolve(grid, 0.1)\n",
    "    return grid0, grid, time.time() - start"
   ]
  },
  {
   "cell_type": "code",
   "execution_count": 28,
   "metadata": {
    "collapsed": false,
    "deletable": true,
    "editable": true
   },
   "outputs": [],
   "source": [
    "n = 1000\n",
    "g0, g, exec_time = run_experiment_numpy(n)"
   ]
  },
  {
   "cell_type": "code",
   "execution_count": 29,
   "metadata": {
    "collapsed": false
   },
   "outputs": [
    {
     "name": "stdout",
     "output_type": "stream",
     "text": [
      "Execution time of 10 iterations: 0.52 s\n"
     ]
    }
   ],
   "source": [
    "print('Execution time of 10 iterations: {:.2f} s'.format(exec_time / (n / 10)))"
   ]
  },
  {
   "cell_type": "markdown",
   "metadata": {},
   "source": [
    "We can see that even for this simple example using `numpy` improves performance by at least 1-2 orders of magnitude. The code also is cleaner and shorter than in native-Python implementation."
   ]
  },
  {
   "cell_type": "code",
   "execution_count": 30,
   "metadata": {
    "collapsed": false,
    "deletable": true,
    "editable": true
   },
   "outputs": [
    {
     "data": {
      "text/plain": [
       "<matplotlib.text.Text at 0x7f2190258710>"
      ]
     },
     "execution_count": 30,
     "metadata": {},
     "output_type": "execute_result"
    },
    {
     "data": {
      "image/png": "[encoded data removed]",
      "text/plain": [
       "<matplotlib.figure.Figure at 0x7f2193337d30>"
      ]
     },
     "metadata": {},
     "output_type": "display_data"
    }
   ],
   "source": [
    "fig, (ax0, ax1) = plt.subplots(ncols=2, figsize=(16, 6))\n",
    "\n",
    "h = ax0.pcolormesh(g0)\n",
    "fig.colorbar(h, ax=ax0)\n",
    "ax0.set_title('Initial conditions')\n",
    "\n",
    "h = ax1.pcolormesh(g)\n",
    "fig.colorbar(h, ax=ax1)\n",
    "ax1.set_title('After {n} iterations'.format(n=n))"
   ]
  },
  {
   "cell_type": "markdown",
   "metadata": {},
   "source": [
    "## References\n",
    "M. Gorelick, I. Ozsvald, 2014. *High Performance Python*. O'Reilly Media."
   ]
  },
  {
   "cell_type": "code",
   "execution_count": 31,
   "metadata": {
    "collapsed": false
   },
   "outputs": [
    {
     "data": {
      "text/html": [
       "\n",
       "    <small>\n",
       "    <p> This post was written as an IPython (Jupyter) notebook. You can view or download it using\n",
       "    <a href=\"http://nbviewer.ipython.org/github/ueapy/ueapy.github.io/blob/src/content/notebooks/2017-03-17-numpy-finite-diff.ipynb\">nbviewer</a>.</p>\n",
       "    "
      ],
      "text/plain": [
       "<IPython.core.display.HTML object>"
      ]
     },
     "execution_count": 31,
     "metadata": {},
     "output_type": "execute_result"
    }
   ],
   "source": [
    "HTML(html)"
   ]
  }
 ],
 "metadata": {
  "kernelspec": {
   "display_name": "Python [conda env:phd]",
   "language": "python",
   "name": "conda-env-phd-py"
  },
  "language_info": {
   "codemirror_mode": {
    "name": "ipython",
    "version": 3
   },
   "file_extension": ".py",
   "mimetype": "text/x-python",
   "name": "python",
   "nbconvert_exporter": "python",
   "pygments_lexer": "ipython3",
   "version": "3.6.0"
  }
 },
 "nbformat": 4,
 "nbformat_minor": 0
}
