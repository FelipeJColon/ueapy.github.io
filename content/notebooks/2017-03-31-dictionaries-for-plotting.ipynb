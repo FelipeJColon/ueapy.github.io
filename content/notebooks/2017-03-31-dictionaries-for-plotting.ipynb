{
 "cells": [
  {
   "cell_type": "code",
   "execution_count": 1,
   "metadata": {
    "collapsed": true
   },
   "outputs": [],
   "source": [
    "name = '2017-03-31-dictionaries-for-plotting'\n",
    "title = 'An example of using dictionaries with plotting functions'\n",
    "tags = 'basics, matplotlib'\n",
    "author = 'Alex Baker'"
   ]
  },
  {
   "cell_type": "code",
   "execution_count": 2,
   "metadata": {
    "collapsed": true
   },
   "outputs": [],
   "source": [
    "from nb_tools import connect_notebook_to_post\n",
    "from IPython.core.display import HTML, Image\n",
    "\n",
    "html = connect_notebook_to_post(name, title, tags, author)"
   ]
  },
  {
   "cell_type": "markdown",
   "metadata": {},
   "source": [
    "Today Alex showed how data analysis code can be made convenient with the use of dictionaries. The idea is to store key plotting parameters and switches in a single dictionary and pass it to a plotting function. One of the advantages is to reduce the number of function arguments and clearly separate (within a function call) the actual data from the plot \"style\"."
   ]
  },
  {
   "cell_type": "markdown",
   "metadata": {},
   "source": [
    "A code snippet with relevant concepts is shown below. Any comments and suggestions are welcome."
   ]
  },
  {
   "cell_type": "markdown",
   "metadata": {},
   "source": [
    "```python\n",
    "from mpl_toolkits.basemap import Basemap\n",
    "from matplotlib.gridspec import GridSpec\n",
    "import matplotlib.pyplot as plt\n",
    "import numpy as np\n",
    "\n",
    "<...>\n",
    "\n",
    "def main():\n",
    "# The rest of the main program\n",
    "<...>\n",
    "\n",
    "    # Plot data on a map\n",
    "    if maps:\n",
    "        print('\\nPlotting {:d} sample location maps'.format(tot_maps))\n",
    "        # plot maps for MI and derived parameters\n",
    "        if (majorions) :\n",
    "            tot_maps += MI_maps\n",
    "            for analyte in range(MI_maps) :\n",
    "                map_data = {'param' : measurements_MI[MI_map_list[analyte]],\n",
    "                            'lats' : samp_info_MI['Lat_St'],\n",
    "                            'lons' : samp_info_MI['Lon_St'],\n",
    "                            'projection' : 'globe-cyl',\n",
    "                            'plot_lim' : [0.,0.,0.,0.],\n",
    "                            'fig_size' : gl_cyl_map_size,\n",
    "                            'file_form' : picformat}\n",
    "\n",
    "                plot_data(map_data, MI_map_list[analyte], MI_title_list[analyte])\n",
    "\n",
    "\n",
    "#===============================================================================\n",
    "def plot_data(map_data, figname, title):\n",
    "    \"\"\"\n",
    "    Create sample position maps for each of the measured parameters\n",
    "    \n",
    "    Arguments\n",
    "    ---------\n",
    "    map_data : dict\n",
    "        dictionary with plot parameters\n",
    "    figname : string\n",
    "        Name of the saved figure\n",
    "    title : string\n",
    "        Figure title\n",
    "    \"\"\"\n",
    "    datain = map_data['param']\n",
    "    plats = map_data['lats']\n",
    "    plons = map_data['lons']\n",
    "    proj = map_data['projection']\n",
    "    box = map_data['plot_lim']\n",
    "    psize = map_data['fig_size']\n",
    "    picformat = map_data['file_form']\n",
    "    \n",
    "    idx = ~np.isnan(datain)\n",
    "    longitudes = plons[idx]\n",
    "    latitudes = plats[idx]\n",
    "\n",
    "    fig = plt.figure(figsize=psize, dpi=300)\n",
    "    if proj == 'orthographic':\n",
    "        gs = GridSpec(100, 100, bottom=0.05, top=0.95, left=0.10, right=0.90)\n",
    "        ax = fig.add_subplot(gs[20:99,0:99])\n",
    "    else :\n",
    "        gs = GridSpec(100, 100, bottom=0.05, top=0.95, left=0.10, right=0.95)\n",
    "        ax = fig.add_subplot(gs[10:99,0:99])\n",
    "\n",
    "    if proj == 'globe-cyl':\n",
    "        s_map = Basemap(projection='cyl', lat_0=0, lon_0=0, resolution = 'l')\n",
    "    elif proj == 'cylinder':\n",
    "        s_map = Basemap(projection='cyl', llcrnrlat=box[0], urcrnrlat=box[1],\n",
    "                        llcrnrlon=box[2], urcrnrlon=box[3], resolution = 'i')\n",
    "    elif (proj == 'orthographic'):\n",
    "        s_map = Basemap(projection='ortho', lat_0 = box[0], lon_0 = box[1],\n",
    "                        resolution = 'l', ax=ax)\n",
    "    s_map.drawcoastlines()\n",
    "    s_map.fillcontinents('lightgreen')\n",
    "    if proj == 'globe-cyl':\n",
    "        s_map.drawparallels(np.arange(-90., 91., 30.), labels=[1,0,0,0])\n",
    "        s_map.drawmeridians(np.arange(-180., 181., 60.), labels=[0,0,0,1])\n",
    "    elif proj == 'cylinder' :\n",
    "        s_map.drawparallels(np.arange(box[0], box[1]+1, 20.), labels=[1,0,0,0])\n",
    "        s_map.drawmeridians(np.arange(box[2], box[3]+1, 20.), labels=[0,0,0,1])\n",
    "    elif proj == 'orthographic':\n",
    "        s_map.drawparallels(np.arange(-90., 91., 30.))\n",
    "        s_map.drawmeridians(np.arange(-180., 181., 30.))\n",
    "\n",
    "    s_map.plot(plons, plats, 'yo', ms=2, latlon='True')\n",
    "    s_map.plot(longitudes, latitudes, 'ro', ms=6, latlon='True')\n",
    "    ttl = 'Places where {title} was measured \\n(n = {count:g})\\n'\n",
    "    ax.set_title(ttl.format(title=title,\n",
    "                            count=np.count_nonzero(~np.isnan(longitudes))))\n",
    "     \n",
    "    name = '{}.{}'.format(figname, picformat)\n",
    "    fig.savefig(name)\n",
    "    plt.close(fig)\n",
    "    \n",
    "#===============================================================================\n",
    "# Make sure the main program is executed\n",
    "#===============================================================================\n",
    "if __name__ == '__main__':\n",
    "    main()\n",
    "```"
   ]
  },
  {
   "cell_type": "code",
   "execution_count": 10,
   "metadata": {},
   "outputs": [
    {
     "data": {
      "text/html": [
       "\n",
       "    <small>\n",
       "    <p> This post was written as an IPython (Jupyter) notebook. You can view or download it using\n",
       "    <a href=\"http://nbviewer.ipython.org/github/ueapy/ueapy.github.io/blob/src/content/notebooks/2017-03-31-dictionaries-for-plotting.ipynb\">nbviewer</a>.</p>\n",
       "    "
      ],
      "text/plain": [
       "<IPython.core.display.HTML object>"
      ]
     },
     "execution_count": 10,
     "metadata": {},
     "output_type": "execute_result"
    }
   ],
   "source": [
    "HTML(html)"
   ]
  }
 ],
 "metadata": {
  "kernelspec": {
   "display_name": "Python [conda root]",
   "language": "python",
   "name": "conda-root-py"
  },
  "language_info": {
   "codemirror_mode": {
    "name": "ipython",
    "version": 3
   },
   "file_extension": ".py",
   "mimetype": "text/x-python",
   "name": "python",
   "nbconvert_exporter": "python",
   "pygments_lexer": "ipython3",
   "version": "3.6.1"
  }
 },
 "nbformat": 4,
 "nbformat_minor": 2
}
