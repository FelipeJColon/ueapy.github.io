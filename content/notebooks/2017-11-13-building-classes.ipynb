{
 "cells": [
  {
   "cell_type": "code",
   "execution_count": 1,
   "metadata": {},
   "outputs": [],
   "source": [
    "name = '2017-11-13-building-classes'\n",
    "title = 'Building classes'\n",
    "tags = 'basics, oop'\n",
    "author = 'Denis Sergeev'"
   ]
  },
  {
   "cell_type": "code",
   "execution_count": 2,
   "metadata": {},
   "outputs": [],
   "source": [
    "from nb_tools import connect_notebook_to_post\n",
    "from IPython.core.display import HTML\n",
    "\n",
    "html = connect_notebook_to_post(name, title, tags, author)"
   ]
  },
  {
   "cell_type": "markdown",
   "metadata": {},
   "source": [
    "First, let's refresh the terminology of object-oriented programming."
   ]
  },
  {
   "cell_type": "markdown",
   "metadata": {},
   "source": [
    "###### class\n",
    "Tell Python to make a new type of thing.\n",
    "###### object\n",
    "Two meanings: the most basic type of thing, and\n",
    "any instance of some thing.\n",
    "###### instance\n",
    "What you get when you tell Python to create a class.\n",
    "###### def\n",
    "How you define a method of a class.\n",
    "###### self\n",
    "Inside the methods in a class, self is a variable for\n",
    "the instance/object being accessed.\n",
    "###### inheritance\n",
    "The concept that one class can inherit traits from\n",
    "another class, much like you and your parents.\n",
    "###### attribute\n",
    "A property that classes have that are from composition\n",
    "and are usually variables.\n",
    "###### is-a\n",
    "A phrase to say that something inherits from another, as in\n",
    "a \"salmon\" is-a \"fish.\""
   ]
  },
  {
   "cell_type": "markdown",
   "metadata": {},
   "source": [
    "## What am I really missing out on by not writing classes?"
   ]
  },
  {
   "cell_type": "markdown",
   "metadata": {},
   "source": [
    "### 1. More convenient collections of fields"
   ]
  },
  {
   "cell_type": "markdown",
   "metadata": {},
   "source": [
    "You might end up with lots of `list`s or `dict`s that share the same keys to access different kinds of data associated with a single logical (geographical) object:\n",
    "```python\n",
    "obs_temperature[42] = 20  # Temperature at the observational point No. 23\n",
    "obs_humidity[42] = 75  # Humidity at the observational point No. 23\n",
    "obs_name[42] = 'research_vessel'  # Name of the obs. point No. 23\n",
    "```"
   ]
  },
  {
   "cell_type": "markdown",
   "metadata": {},
   "source": [
    "By switching to classes you could have a single list of objects, each of which has several named fields on it to address the associated data:\n",
    "```python\n",
    "# Everyting at the point No. 42\n",
    "obs[42].temperature = 20\n",
    "obs[42].humidity = 75\n",
    "obs[42].name = 'research_vessel'\n",
    "```\n",
    "Now you can keep all of the fields under one roof, which makes accessing and passing these objects around much more convenient.\n",
    "\n",
    "It's also easier to pass around big tuples of stuff from function to function.\n",
    "\n",
    "*Note: we will have a look at Python's `namedtuples` in a future session.*"
   ]
  },
  {
   "cell_type": "markdown",
   "metadata": {},
   "source": [
    "### 2. The ability to chain objects together and let them interact in an expressive way"
   ]
  },
  {
   "cell_type": "markdown",
   "metadata": {},
   "source": [
    "The OOP version:"
   ]
  },
  {
   "cell_type": "markdown",
   "metadata": {},
   "source": [
    "```python\n",
    "if not garage.is_full:\n",
    "    garage.add(my_car)\n",
    "    my_car.turn_off()\n",
    "    garage.close()\n",
    "```"
   ]
  },
  {
   "cell_type": "markdown",
   "metadata": {},
   "source": [
    "vs the non-OOP / procedural version:"
   ]
  },
  {
   "cell_type": "markdown",
   "metadata": {},
   "source": [
    "```python\n",
    "if not is_garage_full(garage):\n",
    "    add_car_to_garage(my_car, garage)\n",
    "    turn_off_car(my_car)\n",
    "    close_garage(garage)\n",
    "```"
   ]
  },
  {
   "cell_type": "markdown",
   "metadata": {},
   "source": [
    "### 3.  Code written using OOP is less prone to error.\n",
    "* OOP enables you to mostly eliminate lengthy argument lists\n",
    "* It is much more difficult for a function to accidentally process data it should not process. "
   ]
  },
  {
   "cell_type": "markdown",
   "metadata": {},
   "source": [
    "### 4. Programs written using OOP are more easily extended\n",
    "* New cases are easily added by creating new classes that have the interface methods defined for them\n",
    "* Functionality is also easily added by just adding new methods/attributes\n",
    "* Any changes to class definitions automatically propagate to all instances of the class."
   ]
  },
  {
   "cell_type": "markdown",
   "metadata": {},
   "source": [
    "### 5. Domain-specific models"
   ]
  },
  {
   "cell_type": "markdown",
   "metadata": {},
   "source": [
    "E.g. GUI applications"
   ]
  },
  {
   "cell_type": "markdown",
   "metadata": {},
   "source": [
    "### 6. Custom Exceptions"
   ]
  },
  {
   "cell_type": "code",
   "execution_count": 3,
   "metadata": {},
   "outputs": [],
   "source": [
    "class MyDescriptiveError(Exception):\n",
    "    pass"
   ]
  },
  {
   "cell_type": "markdown",
   "metadata": {},
   "source": [
    "## Special methods (aka Magic methods)"
   ]
  },
  {
   "cell_type": "markdown",
   "metadata": {},
   "source": [
    "* A class can implement certain operations that are invoked by special syntax (such as arithmetic operations or subscripting and slicing) by defining methods with special names. This is Python's approach to operator overloading, allowing classes to define their own behavior with respect to language operators.\n",
    "* For instance, if a class defines a method named `__getitem__()`, and `x` is an instance of this class, then `x[i]` is roughly equivalent to `type(x).__getitem__(x, i)`.\n",
    "* Except where mentioned, attempts to execute an operation raise an exception when no appropriate method is defined (typically `AttributeError` or `TypeError`)."
   ]
  },
  {
   "cell_type": "markdown",
   "metadata": {},
   "source": [
    "** Note: dunder-methods vs private attributes **"
   ]
  },
  {
   "cell_type": "markdown",
   "metadata": {},
   "source": [
    "## Let's build a class!"
   ]
  },
  {
   "cell_type": "markdown",
   "metadata": {},
   "source": [
    "### Exercise 1: create a custom class with `__init__` method\n",
    "* the class will describe an observational point, e.g. a weather station\n",
    "* the class constructor should take **temperature** and **pressure** as input arguments\n",
    "* example of usage:\n",
    "```python\n",
    ">>> OP = ObsPoint(temperature=20, pressure=1013)\n",
    ">>> OP.temperature\n",
    "20\n",
    "```"
   ]
  },
  {
   "cell_type": "code",
   "execution_count": 4,
   "metadata": {},
   "outputs": [],
   "source": [
    "class ObsPoint:\n",
    "    \"\"\"\n",
    "    Observational Point\n",
    "    \n",
    "    Attributes\n",
    "    ----------\n",
    "    temperature: float\n",
    "        Air temperature (K)\n",
    "    pressure: float\n",
    "        Air pressure (Pa)\n",
    "    \"\"\"\n",
    "    def __init__(self, temperature, pressure):\n",
    "        \"\"\"\n",
    "        \"\"\"\n",
    "        self.temperature = temperature\n",
    "        self.pressure = pressure"
   ]
  },
  {
   "cell_type": "code",
   "execution_count": 5,
   "metadata": {},
   "outputs": [],
   "source": [
    "OP = ObsPoint(temperature=20, pressure=1013)"
   ]
  },
  {
   "cell_type": "markdown",
   "metadata": {},
   "source": [
    "### How can this class be useful?"
   ]
  },
  {
   "cell_type": "markdown",
   "metadata": {},
   "source": [
    "* Inheritance!\n",
    "* Can be used as a base class for a range of different observing platforms\n",
    "* For example:\n",
    "```python\n",
    "class WeatherBuoy(ObsPoint):\n",
    "    # ... other code ...\n",
    "    \n",
    "    def calculate_wave_height(self):\n",
    "        # ...\n",
    "```"
   ]
  },
  {
   "cell_type": "markdown",
   "metadata": {},
   "source": [
    "### Exercise 2: add a method to calculate atmospheric density"
   ]
  },
  {
   "cell_type": "code",
   "execution_count": 6,
   "metadata": {},
   "outputs": [],
   "source": [
    "class ObsPoint:\n",
    "    def __init__(self, temperature, pressure):\n",
    "        \"\"\"\n",
    "        \"\"\"\n",
    "        self.temperature = temperature\n",
    "        self.pressure = pressure"
   ]
  },
  {
   "cell_type": "markdown",
   "metadata": {},
   "source": [
    "* Use ideal gas law equation $p = \\rho R T$\n",
    "* Name it `calc_density` or `calc_rho`\n",
    "* Make specific gas constant $R$ an optional argument with the default value being $R=287~J~kg^{-1}~K^{-1}$\n",
    "* Initialise a new instance of `ObsPoint` with $T=25^{\\circ}C$ and $p=1020~hPa$. CHECK THE UNITS!\n",
    "* Calculate the density using the new method and check your answer."
   ]
  },
  {
   "cell_type": "code",
   "execution_count": 7,
   "metadata": {},
   "outputs": [],
   "source": [
    "class ObsPoint:\n",
    "    def __init__(self, temperature, pressure):\n",
    "        self.temperature = temperature\n",
    "        self.pressure = pressure\n",
    "        \n",
    "#         self.density = self.pressure / (self.temperature * Rd)\n",
    "    def calc_density(self, Rd=287):\n",
    "        return self.pressure / (self.temperature * Rd)"
   ]
  },
  {
   "cell_type": "code",
   "execution_count": 8,
   "metadata": {},
   "outputs": [],
   "source": [
    "OP = ObsPoint(pressure=102000, temperature=298)"
   ]
  },
  {
   "cell_type": "markdown",
   "metadata": {},
   "source": [
    "Result:"
   ]
  },
  {
   "cell_type": "code",
   "execution_count": 9,
   "metadata": {
    "scrolled": false
   },
   "outputs": [
    {
     "data": {
      "text/plain": [
       "<bound method ObsPoint.calc_density of <__main__.ObsPoint object at 0x7fefd4274710>>"
      ]
     },
     "execution_count": 9,
     "metadata": {},
     "output_type": "execute_result"
    }
   ],
   "source": [
    "OP.calc_density"
   ]
  },
  {
   "cell_type": "code",
   "execution_count": 10,
   "metadata": {},
   "outputs": [
    {
     "data": {
      "text/plain": [
       "1.1926197881346023"
      ]
     },
     "execution_count": 10,
     "metadata": {},
     "output_type": "execute_result"
    }
   ],
   "source": [
    "OP.calc_density()"
   ]
  },
  {
   "cell_type": "markdown",
   "metadata": {},
   "source": [
    "A possible improvement: store the result as an attribute"
   ]
  },
  {
   "cell_type": "code",
   "execution_count": 11,
   "metadata": {},
   "outputs": [],
   "source": [
    "class ObsPoint:\n",
    "    def __init__(self, temperature, pressure):\n",
    "        self.temperature = temperature\n",
    "        self.pressure = pressure\n",
    "        \n",
    "    def calc_density(self, Rd=287):\n",
    "        self.density = self.pressure / (self.temperature * Rd)  # store the result as an attribute\n",
    "        return self.density"
   ]
  },
  {
   "cell_type": "code",
   "execution_count": 12,
   "metadata": {},
   "outputs": [],
   "source": [
    "OP = ObsPoint(pressure=102000, temperature=298)"
   ]
  },
  {
   "cell_type": "code",
   "execution_count": 13,
   "metadata": {},
   "outputs": [],
   "source": [
    "d = OP.calc_density()"
   ]
  },
  {
   "cell_type": "code",
   "execution_count": 14,
   "metadata": {},
   "outputs": [
    {
     "data": {
      "text/plain": [
       "1.1926197881346023"
      ]
     },
     "execution_count": 14,
     "metadata": {},
     "output_type": "execute_result"
    }
   ],
   "source": [
    "OP.density"
   ]
  },
  {
   "cell_type": "markdown",
   "metadata": {},
   "source": [
    "<hr>"
   ]
  },
  {
   "cell_type": "markdown",
   "metadata": {},
   "source": [
    "### Exercise 3: Add a title/name/location attribute to `ObsPoint` and change object representation"
   ]
  },
  {
   "cell_type": "code",
   "execution_count": 15,
   "metadata": {},
   "outputs": [
    {
     "name": "stdout",
     "output_type": "stream",
     "text": [
      "<__main__.ObsPoint object at 0x7fefd42b9d68>\n"
     ]
    }
   ],
   "source": [
    "print(OP)"
   ]
  },
  {
   "cell_type": "markdown",
   "metadata": {},
   "source": [
    "### `__str__` vs `__repr__`"
   ]
  },
  {
   "cell_type": "markdown",
   "metadata": {},
   "source": [
    "* You can control to-string conversion in your own classes using the `__str__` and `__repr__` \"dunder\" methods.\n",
    "Writing your own Java-esque \"tostring\" methods is considered unpythonic.\n",
    "* The result of the `__str__` method should be readable. The result of  `__repr__` should be unambiguous.\n",
    "* You should always add a `__repr__` to your classes. The default implementation for `__str__` just calls `__repr__` internally, so by implementing `repr` support you'll get the biggest benefit."
   ]
  },
  {
   "cell_type": "code",
   "execution_count": 16,
   "metadata": {},
   "outputs": [],
   "source": [
    "class ObsPoint:\n",
    "    def __init__(self, temperature, pressure, title='Unknown Observational Point'):\n",
    "        self.temperature = temperature\n",
    "        self.pressure = pressure\n",
    "        self.title = title\n",
    "        \n",
    "    def calc_density(self, Rd=287):\n",
    "        self.density = self.pressure / (self.temperature * Rd)  # store the result as an attribute\n",
    "        return self.density\n",
    "    \n",
    "    def __str__(self):\n",
    "        return '{self.title}\\nwith:\\ntemperature = {self.temperature:4.2f} K\\npressure = {self.pressure:4.1f} Pa'.format(self=self)\n",
    "    \n",
    "    def __repr__(self):\n",
    "        return 'ObsPoint(temperature={self.temperature!r}, pressure={self.pressure!r})'.format(self=self)"
   ]
  },
  {
   "cell_type": "code",
   "execution_count": 17,
   "metadata": {},
   "outputs": [],
   "source": [
    "OP = ObsPoint(pressure=102000, temperature=298)"
   ]
  },
  {
   "cell_type": "code",
   "execution_count": 18,
   "metadata": {},
   "outputs": [
    {
     "name": "stdout",
     "output_type": "stream",
     "text": [
      "Unknown Observational Point\n",
      "with:\n",
      "temperature = 298.00 K\n",
      "pressure = 102000.0 Pa\n"
     ]
    }
   ],
   "source": [
    "print(OP)"
   ]
  },
  {
   "cell_type": "code",
   "execution_count": 19,
   "metadata": {},
   "outputs": [
    {
     "data": {
      "text/plain": [
       "'ObsPoint(temperature=298, pressure=102000)'"
      ]
     },
     "execution_count": 19,
     "metadata": {},
     "output_type": "execute_result"
    }
   ],
   "source": [
    "repr(OP)"
   ]
  },
  {
   "cell_type": "markdown",
   "metadata": {},
   "source": [
    "Or if you're lazy, at least add `__repr__`:"
   ]
  },
  {
   "cell_type": "code",
   "execution_count": 20,
   "metadata": {},
   "outputs": [],
   "source": [
    "class ObsStation:\n",
    "    def __init__(self, temperature, pressure, title='Unknown Observational Point'):\n",
    "        self.temperature = temperature\n",
    "        self.pressure = pressure\n",
    "        self.title = title\n",
    "        \n",
    "    def calc_density(self, Rd=287):\n",
    "        self.density = self.pressure / (self.temperature * Rd)  # store the result as an attribute\n",
    "        return self.density\n",
    "    \n",
    "    def __repr__(self):\n",
    "        # __str__ falls back to __repr__\n",
    "        return '{self.__class__.__name__}(title={self.title!r}, temperature={self.temperature!r}, pressure={self.pressure!r})'.format(self=self)"
   ]
  },
  {
   "cell_type": "code",
   "execution_count": 21,
   "metadata": {},
   "outputs": [],
   "source": [
    "OP = ObsStation(title='UEA automatic weather station', pressure=102000, temperature=298)"
   ]
  },
  {
   "cell_type": "code",
   "execution_count": 22,
   "metadata": {},
   "outputs": [
    {
     "name": "stdout",
     "output_type": "stream",
     "text": [
      "ObsStation(title='UEA automatic weather station', temperature=298, pressure=102000)\n"
     ]
    }
   ],
   "source": [
    "print(OP)"
   ]
  },
  {
   "cell_type": "code",
   "execution_count": 23,
   "metadata": {},
   "outputs": [
    {
     "data": {
      "text/plain": [
       "'ObsStation'"
      ]
     },
     "execution_count": 23,
     "metadata": {},
     "output_type": "execute_result"
    }
   ],
   "source": [
    "OP.__class__.__name__"
   ]
  },
  {
   "cell_type": "markdown",
   "metadata": {},
   "source": [
    "#### Useful trick to avoid repetition\n",
    "* use the object's `__class__.__name__` attribute, which will always reflect the class' name as a string."
   ]
  },
  {
   "cell_type": "markdown",
   "metadata": {},
   "source": [
    "```python\n",
    "def __repr__(self):\n",
    "    return (f'{self.__class__.__name__}('\n",
    "            f'{self.pressure!r}, {self.temperature!r})')\n",
    "```"
   ]
  },
  {
   "cell_type": "markdown",
   "metadata": {},
   "source": [
    "<hr>"
   ]
  },
  {
   "cell_type": "markdown",
   "metadata": {},
   "source": [
    "### Exercise 4: make the class *callable*"
   ]
  },
  {
   "cell_type": "markdown",
   "metadata": {},
   "source": [
    "* Use `__call__` method"
   ]
  },
  {
   "cell_type": "code",
   "execution_count": 24,
   "metadata": {},
   "outputs": [],
   "source": [
    "class ObsPoint:\n",
    "    def __init__(self, temperature, pressure, title='Unknown Observational Point'):\n",
    "        self.temperature = temperature\n",
    "        self.pressure = pressure\n",
    "        self.title = title\n",
    "        \n",
    "    def calc_density(self, Rd=287):\n",
    "        self.density = self.pressure / (self.temperature * Rd)  # store the result as an attribute\n",
    "        return self.density\n",
    "    \n",
    "    def __repr__(self):\n",
    "        # __str__ falls back to __repr__\n",
    "        return 'ObsPoint(title={self.title!r}, temperature={self.temperature!r}, pressure={self.pressure!r})'.format(self=self)\n",
    "    \n",
    "    def __call__(self, value):\n",
    "        \"\"\" Print summary \"\"\"\n",
    "        self.some_value = value\n",
    "        print('Very-very-very long summary'*10)"
   ]
  },
  {
   "cell_type": "code",
   "execution_count": 25,
   "metadata": {},
   "outputs": [],
   "source": [
    "OP = ObsPoint(pressure=102000, temperature=298)"
   ]
  },
  {
   "cell_type": "code",
   "execution_count": 26,
   "metadata": {},
   "outputs": [
    {
     "data": {
      "text/plain": [
       "ObsPoint(title='Unknown Observational Point', temperature=298, pressure=102000)"
      ]
     },
     "execution_count": 26,
     "metadata": {},
     "output_type": "execute_result"
    }
   ],
   "source": [
    "OP"
   ]
  },
  {
   "cell_type": "markdown",
   "metadata": {},
   "source": [
    "Now call this instance:"
   ]
  },
  {
   "cell_type": "code",
   "execution_count": 27,
   "metadata": {},
   "outputs": [
    {
     "name": "stdout",
     "output_type": "stream",
     "text": [
      "Very-very-very long summaryVery-very-very long summaryVery-very-very long summaryVery-very-very long summaryVery-very-very long summaryVery-very-very long summaryVery-very-very long summaryVery-very-very long summaryVery-very-very long summaryVery-very-very long summary\n"
     ]
    }
   ],
   "source": [
    "OP(123)"
   ]
  },
  {
   "cell_type": "markdown",
   "metadata": {},
   "source": [
    "## References\n",
    "* [6 things you’re missing out on by never using classes in your Python code](https://dbader.org/blog/6-things-youre-missing-out-on-by-never-using-classes-in-your-python-code)\n",
    "* [Python String Conversion 101: Why Every Class Needs a \"repr\"](https://dbader.org/blog/python-repr-vs-str)\n",
    "* [Enriching Your Python Classes With Dunder (Magic, Special) Methods](https://dbader.org/blog/python-dunder-methods)\n",
    "* [The Python Language Reference](https://docs.python.org/3.6/reference/datamodel.html)\n",
    "* [NCAS Python course](http://www.ceda.ac.uk/static/media/uploads/ncas-reading-2015/20_ceda-oop.pdf)\n",
    "* [A Hands-On Introduction to Using Python in the Atmospheric and Oceanic Sciences. Chapter 7.](http://www.johnny-lin.com/pyintro/ed01/free_pdfs/ch07.pdf)\n",
    "* [A Hands-On Introduction to Using Python in the Atmospheric and Oceanic Sciences. Chapter 8.](http://www.johnny-lin.com/pyintro/ed01/free_pdfs/ch08.pdf)"
   ]
  },
  {
   "cell_type": "code",
   "execution_count": 28,
   "metadata": {},
   "outputs": [
    {
     "data": {
      "text/html": [
       "\n",
       "    <small>\n",
       "    <p> This post was written as an IPython (Jupyter) notebook. You can view or download it using\n",
       "    <a href=\"http://nbviewer.ipython.org/github/ueapy/ueapy.github.io/blob/src/content/notebooks/2017-11-13-building-classes.ipynb\">nbviewer</a>.</p>\n",
       "    "
      ],
      "text/plain": [
       "<IPython.core.display.HTML object>"
      ]
     },
     "execution_count": 28,
     "metadata": {},
     "output_type": "execute_result"
    }
   ],
   "source": [
    "HTML(html)"
   ]
  }
 ],
 "metadata": {
  "kernelspec": {
   "display_name": "Python [default]",
   "language": "python",
   "name": "python3"
  },
  "language_info": {
   "codemirror_mode": {
    "name": "ipython",
    "version": 3
   },
   "file_extension": ".py",
   "mimetype": "text/x-python",
   "name": "python",
   "nbconvert_exporter": "python",
   "pygments_lexer": "ipython3",
   "version": "3.6.3"
  },
  "varInspector": {
   "cols": {
    "lenName": 16,
    "lenType": 16,
    "lenVar": 40
   },
   "kernels_config": {
    "python": {
     "delete_cmd_postfix": "",
     "delete_cmd_prefix": "del ",
     "library": "var_list.py",
     "varRefreshCmd": "print(var_dic_list())"
    },
    "r": {
     "delete_cmd_postfix": ") ",
     "delete_cmd_prefix": "rm(",
     "library": "var_list.r",
     "varRefreshCmd": "cat(var_dic_list()) "
    }
   },
   "types_to_exclude": [
    "module",
    "function",
    "builtin_function_or_method",
    "instance",
    "_Feature"
   ],
   "window_display": false
  }
 },
 "nbformat": 4,
 "nbformat_minor": 2
}
