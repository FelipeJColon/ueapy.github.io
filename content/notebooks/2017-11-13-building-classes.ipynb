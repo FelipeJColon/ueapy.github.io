{
 "cells": [
  {
   "cell_type": "markdown",
   "metadata": {},
   "source": [
    "# Building Classes"
   ]
  },
  {
   "cell_type": "markdown",
   "metadata": {},
   "source": [
    "## Terminology"
   ]
  },
  {
   "cell_type": "markdown",
   "metadata": {},
   "source": [
    "###### class\n",
    "Tell Python to make a new type of thing.\n",
    "###### object\n",
    "Two meanings: the most basic type of thing, and\n",
    "any instance of some thing.\n",
    "###### instance\n",
    "What you get when you tell Python to create a class.\n",
    "###### def\n",
    "How you define a method of a class.\n",
    "###### self\n",
    "Inside the methods in a class, self is a variable for\n",
    "the instance/object being accessed.\n",
    "###### inheritance\n",
    "The concept that one class can inherit traits from\n",
    "another class, much like you and your parents.\n",
    "###### attribute\n",
    "A property that classes have that are from composition\n",
    "and are usually variables.\n",
    "###### is-a\n",
    "A phrase to say that something inherits from another, as in\n",
    "a \"salmon\" is-a \"fish.\""
   ]
  },
  {
   "cell_type": "markdown",
   "metadata": {},
   "source": [
    "## What am I really missing out on by not writing classes?"
   ]
  },
  {
   "cell_type": "markdown",
   "metadata": {},
   "source": [
    "### 1. More convenient collections of fields"
   ]
  },
  {
   "cell_type": "markdown",
   "metadata": {},
   "source": [
    "You might end up with lots of `list`s or `dict`s that share the same keys to access different kinds of data associated with a single logical (geographical) object:\n",
    "```python\n",
    "obs_temperature[42] = 20  # Temperature at the observational point No. 23\n",
    "obs_humidity[42] = 75  # Humidity at the observational point No. 23\n",
    "obs_name[42] = 'research_vessel'  # Name of the obs. point No. 23\n",
    "```"
   ]
  },
  {
   "cell_type": "markdown",
   "metadata": {},
   "source": [
    "By switching to classes you could have a single list of objects, each of which has several named fields on it to address the associated data:\n",
    "```python\n",
    "# Everyting at the point No. 42\n",
    "obs[42].temperature = 20\n",
    "obs[42].humidity = 75\n",
    "obs[42].name = 'research_vessel'\n",
    "```\n",
    "Now you can keep all of the fields under one roof, which makes accessing and passing these objects around much more convenient.\n",
    "\n",
    "It's also easier to pass around big tuples of stuff from function to function.\n",
    "\n",
    "*Note: we will have a look at Python's `namedtuples` in a future session.*"
   ]
  },
  {
   "cell_type": "markdown",
   "metadata": {},
   "source": [
    "### 2. The ability to chain objects together and let them interact in an expressive way"
   ]
  },
  {
   "cell_type": "markdown",
   "metadata": {},
   "source": [
    "### 3. Domain-specific models"
   ]
  },
  {
   "cell_type": "markdown",
   "metadata": {},
   "source": [
    "### 4. Custom Exceptions"
   ]
  },
  {
   "cell_type": "markdown",
   "metadata": {},
   "source": [
    "## Special methods (aka Magic methods)"
   ]
  },
  {
   "cell_type": "markdown",
   "metadata": {},
   "source": [
    "* A class can implement certain operations that are invoked by special syntax (such as arithmetic operations or subscripting and slicing) by defining methods with special names. This is Python's approach to operator overloading, allowing classes to define their own behavior with respect to language operators.\n",
    "* For instance, if a class defines a method named `__getitem__()`, and `x` is an instance of this class, then `x[i]` is roughly equivalent to `type(x).__getitem__(x, i)`.\n",
    "* Except where mentioned, attempts to execute an operation raise an exception when no appropriate method is defined (typically `AttributeError` or `TypeError`)."
   ]
  },
  {
   "cell_type": "markdown",
   "metadata": {},
   "source": [
    "### Note dunder-methods vs private attributes"
   ]
  },
  {
   "cell_type": "code",
   "execution_count": null,
   "metadata": {},
   "outputs": [],
   "source": [
    "class Car:\n",
    "    def __init__(self, name, color):\n",
    "        self.name = name\n",
    "        self.__color = color\n",
    "        self.__blah__ = name.upper()\n",
    "        \n",
    "#     @property\n",
    "#     def color(self):\n",
    "#         return self.__color"
   ]
  },
  {
   "cell_type": "code",
   "execution_count": null,
   "metadata": {},
   "outputs": [],
   "source": [
    "a = Car('aaa', 'bbb')"
   ]
  },
  {
   "cell_type": "markdown",
   "metadata": {},
   "source": [
    "examples: Lagranto, aospy, HPC python book..."
   ]
  },
  {
   "cell_type": "code",
   "execution_count": null,
   "metadata": {},
   "outputs": [],
   "source": []
  },
  {
   "cell_type": "markdown",
   "metadata": {},
   "source": [
    "### `__str__` vs `__repr__`"
   ]
  },
  {
   "cell_type": "markdown",
   "metadata": {},
   "source": [
    "* You can control to-string conversion in your own classes using the `__str__` and `__repr__` \"dunder\" methods.\n",
    "Writing your own Java-esque \"tostring\" methods is considered unpythonic.\n",
    "* The result of the `__str__` method should be readable. The result of  `__repr__` should be unambiguous.\n",
    "* You should always add a `__repr__` to your classes. The default implementation for `__str__` just calls `__repr__` internally, so by implementing `repr` support you'll get the biggest benefit."
   ]
  },
  {
   "cell_type": "markdown",
   "metadata": {},
   "source": [
    "#### Useful trick to avoid repetition\n",
    "* use the object's `__class__.__name__` attribute, which will always reflect the class' name as a string."
   ]
  },
  {
   "cell_type": "markdown",
   "metadata": {},
   "source": [
    "```python\n",
    "def __repr__(self):\n",
    "    return (f'{self.__class__.__name__}('\n",
    "            f'{self.color!r}, {self.mileage!r})')\n",
    "```"
   ]
  },
  {
   "cell_type": "code",
   "execution_count": null,
   "metadata": {},
   "outputs": [],
   "source": []
  },
  {
   "cell_type": "code",
   "execution_count": null,
   "metadata": {},
   "outputs": [],
   "source": []
  },
  {
   "cell_type": "code",
   "execution_count": null,
   "metadata": {},
   "outputs": [],
   "source": []
  },
  {
   "cell_type": "markdown",
   "metadata": {},
   "source": [
    "## References\n",
    "* https://dbader.org/blog/6-things-youre-missing-out-on-by-never-using-classes-in-your-python-code\n",
    "* https://dbader.org/blog/python-repr-vs-str\n",
    "* https://dbader.org/blog/python-dunder-methods\n",
    "* https://docs.python.org/3.6/reference/datamodel.html\n",
    "* http://www.ceda.ac.uk/static/media/uploads/ncas-reading-2015/20_ceda-oop.pdf"
   ]
  }
 ],
 "metadata": {
  "kernelspec": {
   "display_name": "Python [default]",
   "language": "python",
   "name": "python3"
  },
  "language_info": {
   "codemirror_mode": {
    "name": "ipython",
    "version": 3
   },
   "file_extension": ".py",
   "mimetype": "text/x-python",
   "name": "python",
   "nbconvert_exporter": "python",
   "pygments_lexer": "ipython3",
   "version": "3.6.3"
  }
 },
 "nbformat": 4,
 "nbformat_minor": 2
}
