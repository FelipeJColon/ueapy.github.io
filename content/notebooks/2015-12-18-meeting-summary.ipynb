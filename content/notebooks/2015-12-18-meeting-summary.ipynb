{
 "cells": [
  {
   "cell_type": "code",
   "execution_count": 1,
   "metadata": {
    "collapsed": true
   },
   "outputs": [],
   "source": [
    "name = '2015-12-18-meeting-summary'\n",
    "title = 'Running Jupyter Notebook with remote kernels'\n",
    "tags = 'jupyter, hpc, anaconda'\n",
    "author = 'Denis Sergeev'"
   ]
  },
  {
   "cell_type": "code",
   "execution_count": 2,
   "metadata": {
    "collapsed": true
   },
   "outputs": [],
   "source": [
    "from nb_tools import connect_notebook_to_post\n",
    "from IPython.core.display import HTML\n",
    "\n",
    "html = connect_notebook_to_post(name, title, tags, author)"
   ]
  },
  {
   "cell_type": "markdown",
   "metadata": {},
   "source": [
    "This week one of the group's members asked how to use Jupyter on our UEA's supercomputer cluster [Grace](http://rscs.uea.ac.uk/high-performance-computing). So today we tried to walk through that. We also discussed other Jupyter capabilities and advantages."
   ]
  },
  {
   "cell_type": "markdown",
   "metadata": {},
   "source": [
    "Those who are still sceptical or have no idea what is Jupyter, go and [try it on their official server](https://try.jupyter.org/)."
   ]
  },
  {
   "cell_type": "markdown",
   "metadata": {},
   "source": [
    "Contents"
   ]
  },
  {
   "cell_type": "markdown",
   "metadata": {},
   "source": [
    "## Jupyter Kernels"
   ]
  },
  {
   "cell_type": "markdown",
   "metadata": {},
   "source": [
    "One of the greatest advantages of Jupyter project is its modular ecosystem: it has a user interface that you see in a browser, but all computations are done by a kernel of your choice. Although initially Jupyter was made for Python (IPython kernel), it has recently become language-agnostic, and you can use a kernel that calls R or Julia or Matlab. In fact, here is a [full list](https://github.com/ipython/ipython/wiki/IPython-kernels-for-other-languages) of languages that you can use with Jupyter.\n",
    "\n",
    "As Jupyter documentation [states](https://jupyter.readthedocs.org/en/latest/subprojects.html#kernels), kernels are programming language specific processes that run independently and interact with the Jupyter Applications and their user interfaces."
   ]
  },
  {
   "cell_type": "markdown",
   "metadata": {},
   "source": [
    "But what is even more important for us here is that Jupyter and a kernel do not have to be on the same machine. Say, for example, you have a large dataset on a remote server and you don't want to transfer it all to a local PC. The solution here is to use a remote kernel."
   ]
  },
  {
   "cell_type": "markdown",
   "metadata": {},
   "source": [
    "In this post we will look at the simplest case of connecting Jupyter interface to a **Python 2.7** kernel on **Grace** via **ssh**. <span style=\"color:red\">The following instruction has worked only for Linux, but other OS solutions would be similar. Note that all the necessary packages are installed using Anaconda.</span>"
   ]
  },
  {
   "cell_type": "markdown",
   "metadata": {},
   "source": [
    "## Anaconda environment on Grace"
   ]
  },
  {
   "cell_type": "markdown",
   "metadata": {},
   "source": [
    "Make sure you have a working Python distribution on Grace. Luckily, Grace has Anaconda module, and so you can load it and create a local environment following the instruction [here](http://ueapy.github.io/13-november-meeting-summary.html#Launching-Python-on-Grace-using-Anaconda)."
   ]
  },
  {
   "cell_type": "markdown",
   "metadata": {},
   "source": [
    "To make sure that you use the correct Python environment every time you enter Grace, here's what you can do. Create a bash script that looks like that:"
   ]
  },
  {
   "cell_type": "markdown",
   "metadata": {},
   "source": [
    "```\n",
    "#!/bin/bash\n",
    "module load python/anaconda/2.3.0\n",
    "env_name=~/.conda/envs/myenv\n",
    ". $env_name/bin/activate myenv\n",
    "unset PYTHONHOME\n",
    "```"
   ]
  },
  {
   "cell_type": "markdown",
   "metadata": {},
   "source": [
    "Call it `load_anaconda_env.sh` for example. Then add this line to your `~/.bashrc` file (before `export LOGIN_INVOKE=0`):"
   ]
  },
  {
   "cell_type": "markdown",
   "metadata": {},
   "source": [
    "`. load_anaconda_env.sh`"
   ]
  },
  {
   "cell_type": "markdown",
   "metadata": {},
   "source": [
    "The next time you ssh to Grace, you'll get the output similar to:"
   ]
  },
  {
   "cell_type": "markdown",
   "metadata": {},
   "source": [
    "```\n",
    "discarding /gpfs/grace/anaconda/2.3.0/bin from PATH\n",
    "prepending /gpfs/home/abc12xyz/.conda/envs/myenv/bin to PATH`\n",
    "(myenv)[abc12xyz@login00 ~]$\n",
    "```"
   ]
  },
  {
   "cell_type": "markdown",
   "metadata": {},
   "source": [
    "## Install the utility to manage remote kernels"
   ]
  },
  {
   "cell_type": "markdown",
   "metadata": {},
   "source": [
    "We will use one of the simplest add-ons for managing Jupyter kernels: [rk](https://github.com/korniichuk/rk)."
   ]
  },
  {
   "cell_type": "markdown",
   "metadata": {},
   "source": [
    "The GitHub page has already a very clear instruction and even a short YouTube demonstration. One thing that can be unclear for an unexperienced pythonista is how to use the utility without root access. So if you are on a university PC with Linux and no admin rights, follow my steps."
   ]
  },
  {
   "cell_type": "markdown",
   "metadata": {},
   "source": [
    "### Install the latest rk version"
   ]
  },
  {
   "cell_type": "markdown",
   "metadata": {},
   "source": [
    "`pip install git+git://github.com/korniichuk/rk#egg=rk`"
   ]
  },
  {
   "cell_type": "markdown",
   "metadata": {},
   "source": [
    "### Check that rk is installed in your anaconda folder and edit the config file"
   ]
  },
  {
   "cell_type": "markdown",
   "metadata": {},
   "source": [
    "`ls ~/anaconda/lib/python2.7/site-packages/rk`"
   ]
  },
  {
   "cell_type": "markdown",
   "metadata": {},
   "source": [
    "Its contents should look like this:"
   ]
  },
  {
   "cell_type": "code",
   "execution_count": 3,
   "metadata": {
    "collapsed": false
   },
   "outputs": [
    {
     "name": "stdout",
     "output_type": "stream",
     "text": [
      "config_argparse_rel_path = \"config/argparse.txt\"\r\n",
      "config_kernels_rel_path = \"config/kernels.json\"\r\n",
      "config_messages_rel_path = \"config/messages.txt\"\r\n",
      "connection_file = \"{connection_file}\"\r\n",
      "display_name = \"Template\"\r\n",
      "img_location = \"resources/img\"\r\n",
      "interpreter = \"python\"\r\n",
      "kernel_name = \"template\"\r\n",
      "kernels_location = \"/usr/local/share/jupyter/kernels\"\r\n",
      "language = \"python\"\r\n",
      "logo_name_srt = \"logo-{0}x{0}.png\"\r\n",
      "remote_host = \"remote_username@remote_host\"\r\n",
      "rk_log_location = \"/tmp/rk/log\"\r\n",
      "script = \"rkscript\"\r\n"
     ]
    }
   ],
   "source": [
    "!cat ~/anaconda/lib/python2.7/site-packages/rk/config/rk.ini"
   ]
  },
  {
   "cell_type": "markdown",
   "metadata": {
    "collapsed": true
   },
   "source": [
    "You have to change the default `kernels_location` to "
   ]
  },
  {
   "cell_type": "markdown",
   "metadata": {},
   "source": [
    "`kernels_location = \"~/.ipython/kernels\"`"
   ]
  },
  {
   "cell_type": "markdown",
   "metadata": {},
   "source": [
    "## Passwordless login to Grace"
   ]
  },
  {
   "cell_type": "markdown",
   "metadata": {
    "collapsed": true
   },
   "source": [
    "Make sure that you can login to Grace without entering password. How? On a local machine run `ssh-keygen` and then `ssh-copy-id abc12xyz@grace.uea.ac.uk`.\n",
    "\n",
    "Just follow these 2 simple steps: http://www.thegeekstuff.com/2008/11/3-steps-to-perform-ssh-login-without-password-using-ssh-keygen-ssh-copy-id/"
   ]
  },
  {
   "cell_type": "markdown",
   "metadata": {
    "collapsed": true
   },
   "source": [
    "You have to be able to run this command (with your login obviously) without entering a password:"
   ]
  },
  {
   "cell_type": "markdown",
   "metadata": {},
   "source": [
    "`ssh abc12xyz@grace.uea.ac.uk`"
   ]
  },
  {
   "cell_type": "markdown",
   "metadata": {
    "collapsed": true
   },
   "source": [
    "## Create a Jupyter kernel template"
   ]
  },
  {
   "cell_type": "markdown",
   "metadata": {
    "collapsed": true
   },
   "source": [
    "To install a template of a remote jupyter kernel to kernels location run this command:"
   ]
  },
  {
   "cell_type": "markdown",
   "metadata": {},
   "source": [
    "`rk install-template`"
   ]
  },
  {
   "cell_type": "markdown",
   "metadata": {},
   "source": [
    "Check that Jupyter sees your kernels:"
   ]
  },
  {
   "cell_type": "code",
   "execution_count": null,
   "metadata": {
    "collapsed": false,
    "scrolled": false
   },
   "outputs": [],
   "source": [
    "!jupyter kernelspec list"
   ]
  },
  {
   "cell_type": "markdown",
   "metadata": {},
   "source": [
    "```\n",
    "Available kernels:\n",
    "  template    /local/abc12xyz/.ipython/kernels/template\n",
    "  python2     /local/abc12xyz/anaconda/lib/python2.7/site-packages/ipykernel/resources\n",
    "```"
   ]
  },
  {
   "cell_type": "markdown",
   "metadata": {
    "collapsed": true
   },
   "source": [
    "The latter is the default kernel, while the new kernel is installed in a `template` directory."
   ]
  },
  {
   "cell_type": "markdown",
   "metadata": {},
   "source": [
    "## Edit the template"
   ]
  },
  {
   "cell_type": "markdown",
   "metadata": {
    "collapsed": true
   },
   "source": [
    "`gedit /local/abc12xyz/.ipython/kernels/template/kernel.json`"
   ]
  },
  {
   "cell_type": "markdown",
   "metadata": {},
   "source": [
    "The .json file should look like this:"
   ]
  },
  {
   "cell_type": "markdown",
   "metadata": {
    "collapsed": true
   },
   "source": [
    "```\n",
    "{\n",
    " \"argv\": [\n",
    "  \"rkscript\", \n",
    "  \"python\", \n",
    "  \"{connection_file}\", \n",
    "  \"abc12xyz@grace.uea.ac.uk\"\n",
    " ],  \n",
    " \"display_name\": \"Python 2 on Grace\", \n",
    " \"language\": \"python\"\n",
    "}\n",
    "```"
   ]
  },
  {
   "cell_type": "markdown",
   "metadata": {
    "collapsed": true
   },
   "source": [
    "Note that I replaced the host&login line with my details and renamed the kernel `display_name`."
   ]
  },
  {
   "cell_type": "markdown",
   "metadata": {
    "collapsed": true
   },
   "source": [
    "## Launch Jupyter notebook and open the new kernel"
   ]
  },
  {
   "cell_type": "markdown",
   "metadata": {
    "collapsed": true
   },
   "source": [
    "On your local PC, in your command line (or however you launch Jupyter) run"
   ]
  },
  {
   "cell_type": "markdown",
   "metadata": {
    "collapsed": true
   },
   "source": [
    "`jupyter notebook`"
   ]
  },
  {
   "cell_type": "markdown",
   "metadata": {},
   "source": [
    "And then select the new kernel in the drop-down menu:"
   ]
  },
  {
   "cell_type": "markdown",
   "metadata": {
    "collapsed": true
   },
   "source": [
    "![Select the new kernel](../figures/select_jupyter_kernel.png)"
   ]
  },
  {
   "cell_type": "markdown",
   "metadata": {
    "collapsed": true
   },
   "source": [
    "Wait for couple of seconds and then once it says that kernel is connected (little blue box in the upper right corner), you can execute cells."
   ]
  },
  {
   "cell_type": "markdown",
   "metadata": {
    "collapsed": true
   },
   "source": [
    "![Select the new kernel](../figures/jupyter_grace.png)"
   ]
  },
  {
   "cell_type": "markdown",
   "metadata": {},
   "source": [
    "Check the command line from where you run Jupyter for any disconnection errors. You might have to refresh the page or restart Jupyter if this does not work."
   ]
  },
  {
   "cell_type": "code",
   "execution_count": 4,
   "metadata": {
    "collapsed": false
   },
   "outputs": [
    {
     "data": {
      "text/html": [
       "\n",
       "    <small>\n",
       "    <p> This post was written as an IPython (Jupyter) notebook. You can view or download it using\n",
       "    <a href=\"http://nbviewer.ipython.org/github/ueapy/ueapy.github.io/blob/src/content/notebooks/2015-12-18-meeting-summary.ipynb\">nbviewer</a>.</p>\n",
       "    "
      ],
      "text/plain": [
       "<IPython.core.display.HTML object>"
      ]
     },
     "execution_count": 4,
     "metadata": {},
     "output_type": "execute_result"
    }
   ],
   "source": [
    "HTML(html)"
   ]
  }
 ],
 "metadata": {
  "kernelspec": {
   "display_name": "Python 2",
   "language": "python",
   "name": "python2"
  },
  "language_info": {
   "codemirror_mode": {
    "name": "ipython",
    "version": 2
   },
   "file_extension": ".py",
   "mimetype": "text/x-python",
   "name": "python",
   "nbconvert_exporter": "python",
   "pygments_lexer": "ipython2",
   "version": "2.7.11"
  }
 },
 "nbformat": 4,
 "nbformat_minor": 0
}
