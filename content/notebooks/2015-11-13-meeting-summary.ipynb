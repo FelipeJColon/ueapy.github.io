{
 "cells": [
  {
   "cell_type": "code",
   "execution_count": 1,
   "metadata": {
    "collapsed": true
   },
   "outputs": [],
   "source": [
    "name = '2015-11-13-meeting-summary'\n",
    "title = '13 November Meeting Summary'\n",
    "tags = 'anaconda, hpc, netcdf, xray'\n",
    "author = 'Denis Sergeev'"
   ]
  },
  {
   "cell_type": "code",
   "execution_count": 3,
   "metadata": {
    "collapsed": true
   },
   "outputs": [],
   "source": [
    "from nb_tools import connect_notebook_to_post\n",
    "from IPython.core.display import HTML\n",
    "\n",
    "html = connect_notebook_to_post(name, title, tags, author)"
   ]
  },
  {
   "cell_type": "markdown",
   "metadata": {},
   "source": [
    "Today was quite an informal meeting and since all the attendants were beginners to Python, we talked about basics."
   ]
  },
  {
   "cell_type": "markdown",
   "metadata": {},
   "source": [
    "1. [Launching Python on Grace using Anaconda](#Launching-Python-on-Grace-using-Anaconda)\n",
    "    * [Login to Grace and load Anaconda module](#Login-to-Grace-and-load-Anaconda-module)\n",
    "    * [Create your environment](#Create-your-environment)\n",
    "    * [Switch to your newly created environment](#Switch-to-your-newly-created-environment)\n",
    "2. [Python basics: getting familiar with numpy, scipy](#Python-basics:-getting-familiar-with-numpy,-scipy)\n",
    "3. [Opening a NetCDF file](#Opening-a-NetCDF-file)\n",
    "    * [netcdf4](#netcdf4)\n",
    "    * [xray](#xray)\n",
    "4. [Question about interpolation](#Question-about-interpolation)"
   ]
  },
  {
   "cell_type": "markdown",
   "metadata": {},
   "source": [
    "## Launching Python on Grace using Anaconda"
   ]
  },
  {
   "cell_type": "markdown",
   "metadata": {},
   "source": [
    "About a half of people that completed the survey use Python on a remote server and today there were questions about it too. Below is the essential set of commands to create your own Python ecosystem on [Grace](http://rscs.uea.ac.uk/high-performance-computing) using [Anaconda](https://www.continuum.io/why-anaconda) software."
   ]
  },
  {
   "cell_type": "markdown",
   "metadata": {},
   "source": [
    "<div class=\"alert alert-warning\", style=\"font-size: 120%\">\n",
    "The instructions below have been summarised in a script which is available here: <a href=https://github.com/ueapy/grace-python#option-a-anaconda-python-environment-on-grace>grace-python</a>.\n",
    "</div>"
   ]
  },
  {
   "cell_type": "markdown",
   "metadata": {},
   "source": [
    "### Login to Grace and load Anaconda module"
   ]
  },
  {
   "cell_type": "markdown",
   "metadata": {},
   "source": [
    "After you log in to Grace, you should load the Anaconda module by typing the following command:"
   ]
  },
  {
   "cell_type": "markdown",
   "metadata": {},
   "source": [
    "`module load python/anaconda/2.3.0`"
   ]
  },
  {
   "cell_type": "markdown",
   "metadata": {},
   "source": [
    "Note that I'm using Python 2 here, but Anaconda with Python 3 is also available on Grace (you can find that module using the command `module avail`)"
   ]
  },
  {
   "cell_type": "markdown",
   "metadata": {},
   "source": [
    "### Create your environment"
   ]
  },
  {
   "cell_type": "markdown",
   "metadata": {},
   "source": [
    "To be able to manage your Python distribution without calling IT, it's better to create an [Anaconda environment](http://conda.pydata.org/docs/using/envs.html) in your home directory:"
   ]
  },
  {
   "cell_type": "markdown",
   "metadata": {},
   "source": [
    "`conda create -n myenv python anaconda`"
   ]
  },
  {
   "cell_type": "markdown",
   "metadata": {},
   "source": [
    "where `myenv` is just a name of the environment (could be anything, such as `my_awesome_environment`).\n",
    "Now, typing\n",
    "\n",
    "`conda list`\n",
    "\n",
    "will print out the environments available to you. In my case the result was\n",
    "\n",
    "`myenv                    /gpfs/home/abc12xyz/.conda/envs/myenv`\n",
    "\n",
    "`root                  *  /gpfs/grace/anaconda/2.3.0`"
   ]
  },
  {
   "cell_type": "markdown",
   "metadata": {},
   "source": [
    "### Switch to your newly created environment"
   ]
  },
  {
   "cell_type": "markdown",
   "metadata": {},
   "source": [
    "`source activate myenv`"
   ]
  },
  {
   "cell_type": "markdown",
   "metadata": {},
   "source": [
    "This command appended the correct path to the system path. \n",
    "\n",
    "**(!)** One thing that you should do is to clear standard environment variables:\n",
    "\n",
    "`unset PYTHONHOME PYTHONPATH`\n",
    "\n",
    "If you decided to stick with Anaconda, put the previous line in your `.bashrc` file."
   ]
  },
  {
   "cell_type": "markdown",
   "metadata": {},
   "source": [
    "**Your Anaconda ecosystem is ready to use. Among many cool commands you can use `conda install package_name` to install a package.**"
   ]
  },
  {
   "cell_type": "markdown",
   "metadata": {},
   "source": [
    "#### Example"
   ]
  },
  {
   "cell_type": "markdown",
   "metadata": {},
   "source": [
    "To install [xray](http://xray.readthedocs.org/): `conda install xray`"
   ]
  },
  {
   "cell_type": "markdown",
   "metadata": {},
   "source": [
    "To install [iris](http://scitools.org.uk/iris/) from SciTools channel (because `iris` is not in the default conda channel): `conda install -c scitools iris`"
   ]
  },
  {
   "cell_type": "markdown",
   "metadata": {},
   "source": [
    "To test it, launch python (or better, ipython) and type `import package_name`."
   ]
  },
  {
   "cell_type": "markdown",
   "metadata": {},
   "source": [
    "## Python basics: getting familiar with numpy, scipy"
   ]
  },
  {
   "cell_type": "markdown",
   "metadata": {},
   "source": [
    "* [Scipy Lectures](http://scipy-lectures.org) - a short and very good tutorial with many useful examples\n",
    "* Matlab users can find a lot of useful tips here: [Numpy for Matlab users](https://docs.scipy.org/doc/numpy-dev/user/numpy-for-matlab-users.html)\n",
    "* Stick to standard aliases for imported modules and sub-modules, such as:"
   ]
  },
  {
   "cell_type": "code",
   "execution_count": 3,
   "metadata": {
    "collapsed": true
   },
   "outputs": [],
   "source": [
    "import matplotlib.pyplot as plt\n",
    "import numpy as np"
   ]
  },
  {
   "cell_type": "markdown",
   "metadata": {},
   "source": [
    "## Opening a NetCDF file"
   ]
  },
  {
   "cell_type": "markdown",
   "metadata": {},
   "source": [
    "We had a brief look at two packages that are widely used to work with data in NetCDF format: `netcdf4` and `xray`."
   ]
  },
  {
   "cell_type": "markdown",
   "metadata": {},
   "source": [
    "### netcdf4"
   ]
  },
  {
   "cell_type": "markdown",
   "metadata": {},
   "source": [
    "Import the module (note the upper case)"
   ]
  },
  {
   "cell_type": "code",
   "execution_count": 4,
   "metadata": {
    "collapsed": true
   },
   "outputs": [],
   "source": [
    "import netCDF4 as nc"
   ]
  },
  {
   "cell_type": "markdown",
   "metadata": {},
   "source": [
    "Open the file as a `Dataset`:"
   ]
  },
  {
   "cell_type": "code",
   "execution_count": 5,
   "metadata": {
    "collapsed": false
   },
   "outputs": [],
   "source": [
    "ds = nc.Dataset('../data/data.nc')"
   ]
  },
  {
   "cell_type": "markdown",
   "metadata": {},
   "source": [
    "Print all variables:"
   ]
  },
  {
   "cell_type": "code",
   "execution_count": 6,
   "metadata": {
    "collapsed": false
   },
   "outputs": [
    {
     "data": {
      "text/plain": [
       "[u'longitude', u'latitude', u'level', u'time', u'w', u'vo', u'd', u'u', u'v']"
      ]
     },
     "execution_count": 6,
     "metadata": {},
     "output_type": "execute_result"
    }
   ],
   "source": [
    "ds.variables.keys()"
   ]
  },
  {
   "cell_type": "markdown",
   "metadata": {},
   "source": [
    "Interrogate the dimensions of the dataset:"
   ]
  },
  {
   "cell_type": "code",
   "execution_count": 7,
   "metadata": {
    "collapsed": false
   },
   "outputs": [
    {
     "data": {
      "text/plain": [
       "[u'longitude', u'latitude', u'level', u'time']"
      ]
     },
     "execution_count": 7,
     "metadata": {},
     "output_type": "execute_result"
    }
   ],
   "source": [
    "ds.dimensions.keys()"
   ]
  },
  {
   "cell_type": "markdown",
   "metadata": {},
   "source": [
    "Get values of `u` variable:"
   ]
  },
  {
   "cell_type": "code",
   "execution_count": 8,
   "metadata": {
    "collapsed": false
   },
   "outputs": [
    {
     "name": "stdout",
     "output_type": "stream",
     "text": [
      "Name of u: U component of wind\n",
      "Units of u: m s**-1\n",
      "Shape of u: (2, 4, 241, 480)\n",
      "First element of u array: 12.1834030015\n"
     ]
    }
   ],
   "source": [
    "u = ds.variables['u']\n",
    "print('Name of u: {}'.format(u.long_name))\n",
    "print('Units of u: {}'.format(u.units))\n",
    "print('Shape of u: {}'.format(u.shape))\n",
    "print('First element of u array: {}'.format(u[0,0,0,0]))"
   ]
  },
  {
   "cell_type": "markdown",
   "metadata": {},
   "source": [
    "### xray"
   ]
  },
  {
   "cell_type": "code",
   "execution_count": 9,
   "metadata": {
    "collapsed": true
   },
   "outputs": [],
   "source": [
    "import xray"
   ]
  },
  {
   "cell_type": "markdown",
   "metadata": {},
   "source": [
    "Open the same file as a xray `Dataset`:"
   ]
  },
  {
   "cell_type": "code",
   "execution_count": 10,
   "metadata": {
    "collapsed": false
   },
   "outputs": [],
   "source": [
    "xds = xray.open_dataset('../data/data.nc')"
   ]
  },
  {
   "cell_type": "markdown",
   "metadata": {},
   "source": [
    "Neatly print out all the dataset info:"
   ]
  },
  {
   "cell_type": "code",
   "execution_count": 11,
   "metadata": {
    "collapsed": false
   },
   "outputs": [
    {
     "name": "stdout",
     "output_type": "stream",
     "text": [
      "<xray.Dataset>\n",
      "Dimensions:    (latitude: 241, level: 4, longitude: 480, time: 2)\n",
      "Coordinates:\n",
      "  * longitude  (longitude) float32 0.0 0.75 1.5 2.25 3.0 3.75 4.5 5.25 6.0 ...\n",
      "  * latitude   (latitude) float32 90.0 89.25 88.5 87.75 87.0 86.25 85.5 ...\n",
      "  * level      (level) int32 700 800 900 1000\n",
      "  * time       (time) datetime64[ns] 2015-01-31 2015-01-31T12:00:00\n",
      "Data variables:\n",
      "    w          (time, level, latitude, longitude) float64 -0.0713 -0.0713 ...\n",
      "    vo         (time, level, latitude, longitude) float64 -6.332e-06 ...\n",
      "    d          (time, level, latitude, longitude) float64 -4.835e-06 ...\n",
      "    u          (time, level, latitude, longitude) float64 12.18 12.23 12.27 ...\n",
      "    v          (time, level, latitude, longitude) float64 3.379 3.219 3.059 ...\n",
      "Attributes:\n",
      "    Conventions: CF-1.0\n",
      "    history: 2015-04-26 19:20:07 GMT by grib_to_netcdf-1.13.1: grib_to_netcdf /data/data04/scratch/netcdf-atls03-a562cefde8a29a7288fa0b8b7f9413f7-Msj0Ul.target -o /data/data04/scratch/netcdf-atls03-a562cefde8a29a7288fa0b8b7f9413f7-V6ScBM.nc -utime\n"
     ]
    }
   ],
   "source": [
    "print(xds)"
   ]
  },
  {
   "cell_type": "markdown",
   "metadata": {},
   "source": [
    "Select a variable and get its metadata:"
   ]
  },
  {
   "cell_type": "code",
   "execution_count": 12,
   "metadata": {
    "collapsed": false
   },
   "outputs": [
    {
     "name": "stdout",
     "output_type": "stream",
     "text": [
      "<xray.DataArray 'u' (time: 2, level: 4, latitude: 241, longitude: 480)>\n",
      "[925440 values with dtype=float64]\n",
      "Coordinates:\n",
      "  * latitude   (latitude) float32 90.0 89.25 88.5 87.75 87.0 86.25 85.5 ...\n",
      "  * time       (time) datetime64[ns] 2015-01-31 2015-01-31T12:00:00\n",
      "  * longitude  (longitude) float32 0.0 0.75 1.5 2.25 3.0 3.75 4.5 5.25 6.0 ...\n",
      "  * level      (level) int32 700 800 900 1000\n",
      "Attributes:\n",
      "    units: m s**-1\n",
      "    long_name: U component of wind\n",
      "    standard_name: eastward_wind\n"
     ]
    }
   ],
   "source": [
    "u = xds.u\n",
    "print(u)"
   ]
  },
  {
   "cell_type": "markdown",
   "metadata": {},
   "source": [
    "## Question about interpolation"
   ]
  },
  {
   "cell_type": "markdown",
   "metadata": {},
   "source": [
    "During today's meeting a question was asked about interpolating gridded data (2D) to a finer grid. Luckily, there is a scipy function with a simple example:\n",
    "\n",
    "[scipy.interpolate.interp2d](http://docs.scipy.org/doc/scipy-0.14.0/reference/generated/scipy.interpolate.interp2d.html)"
   ]
  },
  {
   "cell_type": "code",
   "execution_count": 13,
   "metadata": {
    "collapsed": false
   },
   "outputs": [
    {
     "data": {
      "text/html": [
       "\n",
       "    <small>\n",
       "    <p> This post was written as an IPython (Jupyter) notebook. You can view or download it using\n",
       "    <a href=\"http://nbviewer.ipython.org/github/ueapy/ueapy.github.io/blob/src/content/notebooks/2015-11-13-meeting-summary.ipynb\">nbviewer</a>.</p>\n",
       "    "
      ],
      "text/plain": [
       "<IPython.core.display.HTML object>"
      ]
     },
     "execution_count": 13,
     "metadata": {},
     "output_type": "execute_result"
    }
   ],
   "source": [
    "HTML(html)"
   ]
  }
 ],
 "metadata": {
  "kernelspec": {
   "display_name": "Python 3",
   "language": "python",
   "name": "python3"
  },
  "language_info": {
   "codemirror_mode": {
    "name": "ipython",
    "version": 3
   },
   "file_extension": ".py",
   "mimetype": "text/x-python",
   "name": "python",
   "nbconvert_exporter": "python",
   "pygments_lexer": "ipython3",
   "version": "3.5.1"
  }
 },
 "nbformat": 4,
 "nbformat_minor": 0
}
