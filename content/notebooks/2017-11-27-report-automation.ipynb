{
 "cells": [
  {
   "cell_type": "code",
   "execution_count": 1,
   "metadata": {},
   "outputs": [],
   "source": [
    "name = '2017-11-27-report-automation'\n",
    "title = 'Report Automation with pandas and PyLaTeX'\n",
    "tags = 'pandas, pdf, latex'\n",
    "author = 'Benjamin Young-Longstaff'"
   ]
  },
  {
   "cell_type": "code",
   "execution_count": 2,
   "metadata": {},
   "outputs": [],
   "source": [
    "from nb_tools import connect_notebook_to_post\n",
    "from IPython.core.display import HTML\n",
    "\n",
    "html = connect_notebook_to_post(name, title, tags, author)"
   ]
  },
  {
   "cell_type": "markdown",
   "metadata": {},
   "source": [
    "Today we had a short demo on producing automatic reports in PDF using the PyLaTeX library. This approach was tested during an internship at [Liftshare](https://liftshare.com/uk/community/uea). Besides PyLaTeX, we briefly looked at the pandas library, and its functions to process Excel spreadheets, which is an essential part of automatic report generation."
   ]
  },
  {
   "cell_type": "markdown",
   "metadata": {},
   "source": [
    "Below are the links to get started with pandas and PyLaTeX, as well as to some of the other packages that were mentioned in the demo:"
   ]
  },
  {
   "cell_type": "markdown",
   "metadata": {},
   "source": [
    "Pandas - 10 minute guide: \n",
    "https://pandas.pydata.org/pandas-docs/stable/10min.html\n",
    "\n",
    "Pylatex Examples: https://jeltef.github.io/PyLaTeX/latest/examples.html\n",
    "\n",
    "Pylatex guide: \n",
    "http://www.jaggedverge.com/2015/12/using-latex-for-fast-document-generation/\n",
    "\n",
    "Google Map Plotter: https://pypi.python.org/pypi/gmplot/1.0.5\n",
    "\n",
    "Seaborn Examples: https://seaborn.pydata.org/examples/index.html\n",
    "\n",
    "Cohort Analysis with Seaborn: \n",
    "http://www.gregreda.com/2015/08/23/cohort-analysis-with-python/\n",
    "\n",
    "An alternative to pylatex: http://pbpython.com/pdf-reports.html"
   ]
  },
  {
   "cell_type": "code",
   "execution_count": 3,
   "metadata": {},
   "outputs": [
    {
     "data": {
      "text/html": [
       "\n",
       "    <small>\n",
       "    <p> This post was written as an IPython (Jupyter) notebook. You can view or download it using\n",
       "    <a href=\"http://nbviewer.ipython.org/github/ueapy/ueapy.github.io/blob/src/content/notebooks/2017-11-27-report-automation.ipynb\">nbviewer</a>.</p>\n",
       "    "
      ],
      "text/plain": [
       "<IPython.core.display.HTML object>"
      ]
     },
     "execution_count": 3,
     "metadata": {},
     "output_type": "execute_result"
    }
   ],
   "source": [
    "HTML(html)"
   ]
  }
 ],
 "metadata": {
  "kernelspec": {
   "display_name": "Python [default]",
   "language": "python",
   "name": "python3"
  },
  "language_info": {
   "codemirror_mode": {
    "name": "ipython",
    "version": 3
   },
   "file_extension": ".py",
   "mimetype": "text/x-python",
   "name": "python",
   "nbconvert_exporter": "python",
   "pygments_lexer": "ipython3",
   "version": "3.6.3"
  },
  "varInspector": {
   "cols": {
    "lenName": 16,
    "lenType": 16,
    "lenVar": 40
   },
   "kernels_config": {
    "python": {
     "delete_cmd_postfix": "",
     "delete_cmd_prefix": "del ",
     "library": "var_list.py",
     "varRefreshCmd": "print(var_dic_list())"
    },
    "r": {
     "delete_cmd_postfix": ") ",
     "delete_cmd_prefix": "rm(",
     "library": "var_list.r",
     "varRefreshCmd": "cat(var_dic_list()) "
    }
   },
   "types_to_exclude": [
    "module",
    "function",
    "builtin_function_or_method",
    "instance",
    "_Feature"
   ],
   "window_display": false
  }
 },
 "nbformat": 4,
 "nbformat_minor": 2
}
