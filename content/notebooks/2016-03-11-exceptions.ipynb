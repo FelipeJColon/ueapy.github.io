{
 "cells": [
  {
   "cell_type": "code",
   "execution_count": 1,
   "metadata": {
    "collapsed": true
   },
   "outputs": [],
   "source": [
    "name = '2016-03-11-exceptions'\n",
    "title = 'Dealing with exceptions and errors in Python'\n",
    "tags = 'basics'\n",
    "author = 'Denis Sergeev'"
   ]
  },
  {
   "cell_type": "code",
   "execution_count": 2,
   "metadata": {
    "collapsed": true
   },
   "outputs": [],
   "source": [
    "from nb_tools import connect_notebook_to_post\n",
    "from IPython.core.display import HTML\n",
    "\n",
    "html = connect_notebook_to_post(name, title, tags, author)"
   ]
  },
  {
   "cell_type": "markdown",
   "metadata": {},
   "source": [
    "Today was an *exceptional* meeting. Why? Because we talked about such thing as *exceptions* in Python."
   ]
  },
  {
   "cell_type": "markdown",
   "metadata": {},
   "source": [
    "### Introduction"
   ]
  },
  {
   "cell_type": "markdown",
   "metadata": {},
   "source": [
    "Exceptions are errors detected during execution of Python program. By default, these errors result in program interruption, but Python offers you to handle them. This essentially means that you can make your program sturdier and more flexible: it will be able to catch an error and then act accordingly, even without stopping the execution process."
   ]
  },
  {
   "cell_type": "markdown",
   "metadata": {},
   "source": [
    "How can you catch an exception? Use the `try/except` expression. For example:"
   ]
  },
  {
   "cell_type": "code",
   "execution_count": 3,
   "metadata": {
    "collapsed": false
   },
   "outputs": [
    {
     "name": "stdout",
     "output_type": "stream",
     "text": [
      "an error occured\n"
     ]
    }
   ],
   "source": [
    "try:\n",
    "    # try executing this piece of code\n",
    "    x = '2' + 3 # this will throw an error, because you can't add integer and string \n",
    "except:\n",
    "    # if there is any error above, go here\n",
    "    print('an error occured')"
   ]
  },
  {
   "cell_type": "markdown",
   "metadata": {},
   "source": [
    "As you can see, there was an exception due to the incorrect operation of addition. The program, however, wasn't interrupted, but instead caught the exception and printed out a custom message."
   ]
  },
  {
   "cell_type": "markdown",
   "metadata": {},
   "source": [
    "The construction above actually handles any exception. But you can specify what error type to handle after the `except` clause."
   ]
  },
  {
   "cell_type": "code",
   "execution_count": 4,
   "metadata": {
    "collapsed": false
   },
   "outputs": [
    {
     "name": "stdout",
     "output_type": "stream",
     "text": [
      "TypeError was caught\n"
     ]
    }
   ],
   "source": [
    "try:\n",
    "    # try executing this piece of code\n",
    "    x = '2' + 3 # this will throw an error, because you can't add integer and string \n",
    "except TypeError:\n",
    "    # Only if there is TypeError above, go here\n",
    "    print('TypeError was caught')\n",
    "except:\n",
    "    # all other exceptions\n",
    "    print('I did not expect that')"
   ]
  },
  {
   "cell_type": "markdown",
   "metadata": {},
   "source": [
    "Now the code will print the first message only if a `TypeError` exception occurred, while any other exceptions will give you the second print message."
   ]
  },
  {
   "cell_type": "markdown",
   "metadata": {},
   "source": [
    "You can add as many except cases as you wish. Or you can also combine them, e.g. by writing `except (RuntimeError, TypeError, NameError):`."
   ]
  },
  {
   "cell_type": "markdown",
   "metadata": {},
   "source": [
    "Another useful feature allows you to store the exception information as a context variable. This might be useful if you want to modify or suppress the error message. Or you can use it so that the program can proceed according to an error code (e.g. HTTP errors). For example:"
   ]
  },
  {
   "cell_type": "code",
   "execution_count": 5,
   "metadata": {
    "collapsed": false
   },
   "outputs": [
    {
     "name": "stdout",
     "output_type": "stream",
     "text": [
      "Some OS error occured. The message is [Errno 2] No such file or directory: 'myfile.txt'\n"
     ]
    }
   ],
   "source": [
    "try:\n",
    "    with open('myfile.txt') as f:\n",
    "        text = f.read()\n",
    "except OSError as e:\n",
    "    print('Some OS error occured. The message is {0}'.format(e))"
   ]
  },
  {
   "cell_type": "markdown",
   "metadata": {},
   "source": [
    "Note that `except Exception as e:` syntax is correct in Python 3. If you still use Python 2, you should use a comma: `except Exception, e:`. [And stop using Python 2](https://twitter.com/randal_olson/status/707575847142690816)."
   ]
  },
  {
   "cell_type": "markdown",
   "metadata": {},
   "source": [
    "### Raising Exceptions"
   ]
  },
  {
   "cell_type": "markdown",
   "metadata": {},
   "source": [
    "You can also invoke errors yourself. The `raise` statement is used for that."
   ]
  },
  {
   "cell_type": "markdown",
   "metadata": {},
   "source": [
    "```\n",
    ">>> raise ValueError('some meaningful message...')\n",
    "```"
   ]
  },
  {
   "cell_type": "markdown",
   "metadata": {},
   "source": [
    "### Creating your own Exceptions"
   ]
  },
  {
   "cell_type": "markdown",
   "metadata": {},
   "source": [
    "There is a lot of built-in exceptions in Python: https://docs.python.org/3.5/library/exceptions.html#bltin-exceptions"
   ]
  },
  {
   "cell_type": "markdown",
   "metadata": {},
   "source": [
    "If you are familiar with `Classes` in Python, you might find easy and useful to customise your code with user-defined exceptions. They are usually derived from the basic `Exception` class:"
   ]
  },
  {
   "cell_type": "code",
   "execution_count": 6,
   "metadata": {
    "collapsed": true
   },
   "outputs": [],
   "source": [
    "class OhMyUnexpectedError(Exception):\n",
    "    def __init__(self, value):\n",
    "        self.value = value\n",
    "    def __str__(self):\n",
    "        return repr(self.value)"
   ]
  },
  {
   "cell_type": "code",
   "execution_count": 7,
   "metadata": {
    "collapsed": false
   },
   "outputs": [
    {
     "name": "stdout",
     "output_type": "stream",
     "text": [
      "My custom exception occurred with value:  123\n"
     ]
    }
   ],
   "source": [
    "try:\n",
    "    raise OhMyUnexpectedError(123)\n",
    "except OhMyUnexpectedError as e:\n",
    "    print('My custom exception occurred with value: ', e)"
   ]
  },
  {
   "cell_type": "markdown",
   "metadata": {},
   "source": [
    "Let's add some fun:"
   ]
  },
  {
   "cell_type": "code",
   "execution_count": 8,
   "metadata": {
    "collapsed": true
   },
   "outputs": [],
   "source": [
    "from IPython.display import HTML, display\n",
    "class OhMyUnexpectedError(Exception):\n",
    "    def __init__(self, value):\n",
    "        self.value = value\n",
    "    def fun(self):\n",
    "        display(HTML(\"<img src='https://33.media.tumblr.com/6c933edb44b7ffb4e54bd7cf00ef04d8/tumblr_mvg6t2ov7l1siloiwo1_250.gif', width=300, height=200>\"))"
   ]
  },
  {
   "cell_type": "markdown",
   "metadata": {},
   "source": [
    "And try it out:"
   ]
  },
  {
   "cell_type": "code",
   "execution_count": 9,
   "metadata": {
    "collapsed": false
   },
   "outputs": [
    {
     "name": "stdout",
     "output_type": "stream",
     "text": [
      "My custom exception occurred with value:  123\n"
     ]
    },
    {
     "data": {
      "text/html": [
       "<img src='https://33.media.tumblr.com/6c933edb44b7ffb4e54bd7cf00ef04d8/tumblr_mvg6t2ov7l1siloiwo1_250.gif', width=300, height=200>"
      ],
      "text/plain": [
       "<IPython.core.display.HTML object>"
      ]
     },
     "metadata": {},
     "output_type": "display_data"
    }
   ],
   "source": [
    "try:\n",
    "    raise OhMyUnexpectedError(123)\n",
    "except OhMyUnexpectedError as e:\n",
    "    print('My custom exception occurred with value: ', e)\n",
    "    e.fun()"
   ]
  },
  {
   "cell_type": "markdown",
   "metadata": {},
   "source": [
    "## Ultimate exception handler"
   ]
  },
  {
   "cell_type": "markdown",
   "metadata": {},
   "source": [
    "Check out this [silly exception handler](http://dennissergeev.github.io/ultimate-exception-handler.html)."
   ]
  },
  {
   "cell_type": "markdown",
   "metadata": {},
   "source": [
    "## Follow-up"
   ]
  },
  {
   "cell_type": "markdown",
   "metadata": {},
   "source": [
    "**This post is just a very brief introduction to exceptions. What you really have to read is [Python docs on this topic](https://docs.python.org/3.5/tutorial/errors.html).**"
   ]
  },
  {
   "cell_type": "code",
   "execution_count": 10,
   "metadata": {
    "collapsed": false
   },
   "outputs": [
    {
     "data": {
      "text/html": [
       "\n",
       "    <small>\n",
       "    <p> This post was written as an IPython (Jupyter) notebook. You can view or download it using\n",
       "    <a href=\"http://nbviewer.ipython.org/github/ueapy/ueapy.github.io/blob/src/content/notebooks/2016-03-11-exceptions.ipynb\">nbviewer</a>.</p>\n",
       "    "
      ],
      "text/plain": [
       "<IPython.core.display.HTML object>"
      ]
     },
     "execution_count": 10,
     "metadata": {},
     "output_type": "execute_result"
    }
   ],
   "source": [
    "HTML(html)"
   ]
  }
 ],
 "metadata": {
  "kernelspec": {
   "display_name": "Python 3",
   "language": "python",
   "name": "python3"
  },
  "language_info": {
   "codemirror_mode": {
    "name": "ipython",
    "version": 3
   },
   "file_extension": ".py",
   "mimetype": "text/x-python",
   "name": "python",
   "nbconvert_exporter": "python",
   "pygments_lexer": "ipython3",
   "version": "3.5.1"
  }
 },
 "nbformat": 4,
 "nbformat_minor": 0
}
