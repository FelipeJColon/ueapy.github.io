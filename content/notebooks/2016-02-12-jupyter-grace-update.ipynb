{
 "cells": [
  {
   "cell_type": "code",
   "execution_count": 1,
   "metadata": {
    "collapsed": true
   },
   "outputs": [],
   "source": [
    "name = '2016-02-12-jupyter-grace-update'\n",
    "title = 'Update on using Jupyter Notebook on Grace'\n",
    "tags = 'jupyter, hpc, anaconda'\n",
    "author = 'Denis Sergeev'"
   ]
  },
  {
   "cell_type": "code",
   "execution_count": 2,
   "metadata": {
    "collapsed": true
   },
   "outputs": [],
   "source": [
    "from nb_tools import connect_notebook_to_post\n",
    "from IPython.core.display import HTML\n",
    "\n",
    "html = connect_notebook_to_post(name, title, tags, author)"
   ]
  },
  {
   "cell_type": "markdown",
   "metadata": {},
   "source": [
    "Today's meeting was a walk-through of how to create Python environment using Anaconda on [Grace](http://rscs.uea.ac.uk/high-performance-computing) and how to spawn a remote Python kernel from Jupyter."
   ]
  },
  {
   "cell_type": "markdown",
   "metadata": {},
   "source": [
    "As a result, here is an update of the [old post](http://ueapy.github.io/running-jupyter-notebook-with-remote-kernels.html). The update is about:\n",
    "\n",
    "* Using [remote_ikernel](https://bitbucket.org/tdaff/remote_ikernel) utility instead of rk (the latter is only available on Linux and lacks some options required by Grace)\n",
    "\n",
    "* Using Grace's interactive queue instead of login nodes (which are not for computations!)\n",
    "\n",
    "* Packing all the necessary set-up commands into a bunch of scripts"
   ]
  },
  {
   "cell_type": "markdown",
   "metadata": {},
   "source": [
    "<div class=\"alert alert-warning\", style=\"font-size: 120%\">\n",
    "remote_ikernel is still not fully compatible with Windows! Update to follow.\n",
    "</div>"
   ]
  },
  {
   "cell_type": "markdown",
   "metadata": {},
   "source": [
    "**To cut a long story short, the instructions are available in our GitHub repository: [grace-python](https://github.com/ueapy/grace-python).**\n",
    "\n",
    "You have to download the scripts or git-clone the repo. The README.md will get you started."
   ]
  },
  {
   "cell_type": "markdown",
   "metadata": {},
   "source": [
    "Any comments/complaints/suggestions are welcomed."
   ]
  },
  {
   "cell_type": "code",
   "execution_count": 3,
   "metadata": {
    "collapsed": false
   },
   "outputs": [
    {
     "data": {
      "text/html": [
       "\n",
       "    <small>\n",
       "    <p> This post was written as an IPython (Jupyter) notebook. You can view or download it using\n",
       "    <a href=\"http://nbviewer.ipython.org/github/ueapy/ueapy.github.io/blob/src/content/notebooks/2016-02-12-jupyter-grace-update.ipynb\">nbviewer</a>.</p>\n",
       "    "
      ],
      "text/plain": [
       "<IPython.core.display.HTML object>"
      ]
     },
     "execution_count": 3,
     "metadata": {},
     "output_type": "execute_result"
    }
   ],
   "source": [
    "HTML(html)"
   ]
  }
 ],
 "metadata": {
  "kernelspec": {
   "display_name": "Python 3",
   "language": "python",
   "name": "python3"
  },
  "language_info": {
   "codemirror_mode": {
    "name": "ipython",
    "version": 3
   },
   "file_extension": ".py",
   "mimetype": "text/x-python",
   "name": "python",
   "nbconvert_exporter": "python",
   "pygments_lexer": "ipython3",
   "version": "3.5.1"
  }
 },
 "nbformat": 4,
 "nbformat_minor": 0
}
