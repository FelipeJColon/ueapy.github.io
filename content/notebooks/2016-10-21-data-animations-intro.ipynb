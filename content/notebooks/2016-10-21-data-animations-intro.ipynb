{
 "cells": [
  {
   "cell_type": "code",
   "execution_count": 1,
   "metadata": {
    "collapsed": true
   },
   "outputs": [],
   "source": [
    "name = '2016-10-21-data-animations-intro'\n",
    "title = 'Introduction to data animations'\n",
    "tags = 'matplotlib, animation'\n",
    "author = 'Matthew Bone'"
   ]
  },
  {
   "cell_type": "code",
   "execution_count": 2,
   "metadata": {
    "collapsed": true
   },
   "outputs": [],
   "source": [
    "from nb_tools import connect_notebook_to_post\n",
    "from IPython.core.display import HTML, Image\n",
    "\n",
    "html = connect_notebook_to_post(name, title, tags, author)"
   ]
  },
  {
   "cell_type": "markdown",
   "metadata": {},
   "source": [
    "Today we discussed the basics of 2D data animation in matplotlib."
   ]
  },
  {
   "cell_type": "markdown",
   "metadata": {},
   "source": [
    "#### `matplotlib.animation`"
   ]
  },
  {
   "cell_type": "markdown",
   "metadata": {},
   "source": [
    "We mostly jsut went through the examples available in the `matplotlib.animation`'s [gallery](http://matplotlib.org/1.5.3/examples/animation/index.html) and [API documentation](http://matplotlib.org/api/animation_api.html)."
   ]
  },
  {
   "cell_type": "markdown",
   "metadata": {},
   "source": [
    "A very good introduction to animation basics is provided in Jake Vanderplas's blog, [Pythonic Perambulations](https://jakevdp.github.io/blog/2012/08/18/matplotlib-animation-tutorial/)"
   ]
  },
  {
   "cell_type": "markdown",
   "metadata": {},
   "source": [
    "#### `moviepy`"
   ]
  },
  {
   "cell_type": "markdown",
   "metadata": {},
   "source": [
    "In the second half of the session we looked at [MoviePy](http://zulko.github.io/moviepy/) - a very cool Python library designed for video editing. It can be used for basic operations (like cuts, concatenations, title insertions), video compositing, video processing, or to create advanced effects. It can read and write the most common video formats, including GIF."
   ]
  },
  {
   "cell_type": "markdown",
   "metadata": {},
   "source": [
    "It is a generic video editing module, but can be easily plugged in to your script to write out matplotlib animations. As a nice bonus, the resulting video files are of better quality and much lighter. MoviePy is also about twice as faster than matplotlib. For more information on this issue, look [here](https://github.com/Zulko/moviepy_matplotlib)."
   ]
  },
  {
   "cell_type": "markdown",
   "metadata": {},
   "source": [
    "On how to use MoviePy for data animations, see this awesome blog post: [Data Animations With Python and MoviePy](http://zulko.github.io/blog/2014/11/29/data-animations-with-python-and-moviepy/)."
   ]
  },
  {
   "cell_type": "code",
   "execution_count": 3,
   "metadata": {
    "collapsed": false
   },
   "outputs": [
    {
     "data": {
      "text/html": [
       "\n",
       "    <small>\n",
       "    <p> This post was written as an IPython (Jupyter) notebook. You can view or download it using\n",
       "    <a href=\"http://nbviewer.ipython.org/github/ueapy/ueapy.github.io/blob/src/content/notebooks/2016-10-21-data-animations-intro.ipynb\">nbviewer</a>.</p>\n",
       "    "
      ],
      "text/plain": [
       "<IPython.core.display.HTML object>"
      ]
     },
     "execution_count": 3,
     "metadata": {},
     "output_type": "execute_result"
    }
   ],
   "source": [
    "HTML(html)"
   ]
  }
 ],
 "metadata": {
  "kernelspec": {
   "display_name": "Python 3",
   "language": "python",
   "name": "python3"
  },
  "language_info": {
   "codemirror_mode": {
    "name": "ipython",
    "version": 3
   },
   "file_extension": ".py",
   "mimetype": "text/x-python",
   "name": "python",
   "nbconvert_exporter": "python",
   "pygments_lexer": "ipython3",
   "version": "3.5.2"
  }
 },
 "nbformat": 4,
 "nbformat_minor": 1
}
