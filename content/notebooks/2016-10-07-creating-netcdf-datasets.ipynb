{
 "cells": [
  {
   "cell_type": "code",
   "execution_count": 1,
   "metadata": {
    "collapsed": true
   },
   "outputs": [],
   "source": [
    "name = '2016-10-07-creating-netcdf-datasets'\n",
    "title = 'Creating NetCDF datasets'\n",
    "tags = 'netcdf, io'\n",
    "author = 'Denis Sergeev'"
   ]
  },
  {
   "cell_type": "code",
   "execution_count": 2,
   "metadata": {
    "collapsed": false
   },
   "outputs": [],
   "source": [
    "from nb_tools import connect_notebook_to_post\n",
    "from IPython.core.display import HTML, Image\n",
    "\n",
    "html = connect_notebook_to_post(name, title, tags, author)"
   ]
  },
  {
   "cell_type": "markdown",
   "metadata": {},
   "source": [
    "### What is NetCDF?"
   ]
  },
  {
   "cell_type": "markdown",
   "metadata": {
    "collapsed": false
   },
   "source": [
    "<img src='http://www.unidata.ucar.edu/images/logos/netcdf-50x50.png'>"
   ]
  },
  {
   "cell_type": "markdown",
   "metadata": {},
   "source": [
    "NetCDF (network Common Data Form) is a set of interfaces for array-oriented data access and a freely distributed collection of data access libraries for C, Fortran, C++, Java, and other languages."
   ]
  },
  {
   "cell_type": "markdown",
   "metadata": {},
   "source": [
    "NetCDF data are:"
   ]
  },
  {
   "cell_type": "markdown",
   "metadata": {},
   "source": [
    "* Self-Describing. A netCDF file includes information about the data it contains.\n",
    "* Portable. A netCDF file can be accessed by computers with different ways of storing integers, characters, and floating-point numbers.\n",
    "* Scalable. A small subset of a large dataset may be accessed efficiently.\n",
    "* Appendable. Data may be appended to a properly structured netCDF file without copying the dataset or redefining its structure.\n",
    "* Sharable. One writer and multiple readers may simultaneously access the same netCDF file.\n",
    "* Archivable. Access to all earlier forms of netCDF data will be supported by current and future versions of the software."
   ]
  },
  {
   "cell_type": "markdown",
   "metadata": {},
   "source": [
    "## Opening a file, creating a new Dataset\n",
    "\n",
    "Let's create an empty NetCDF file named `'../data/new.nc'`, opened for *writing*. Note, opening a file with 'w' will clobber any existing data (unless `clobber=False` is used, in which case an exception is raised if the file already exists)."
   ]
  },
  {
   "cell_type": "code",
   "execution_count": 3,
   "metadata": {
    "collapsed": true
   },
   "outputs": [],
   "source": [
    "import os\n",
    "\n",
    "path_to_file = os.path.join(os.pardir, 'data', 'new.nc')"
   ]
  },
  {
   "cell_type": "markdown",
   "metadata": {},
   "source": [
    "- `mode='r'` is the default.\n",
    "- `mode='a'` opens an existing file and allows for appending (does not clobber existing data)\n",
    "- `format` can be one of\n",
    "    - `NETCDF3_CLASSIC`\n",
    "    - `NETCDF3_64BIT`\n",
    "    - `NETCDF4_CLASSIC`\n",
    "    - `NETCDF4` (default).\n",
    "\n",
    "`NETCDF4_CLASSIC` uses HDF5 for the underlying storage layer (as does `NETCDF4`) but enforces the classic netCDF 3 data model so data can be read with older clients.  "
   ]
  },
  {
   "cell_type": "markdown",
   "metadata": {},
   "source": [
    "### Load essential modules"
   ]
  },
  {
   "cell_type": "code",
   "execution_count": 4,
   "metadata": {
    "collapsed": false
   },
   "outputs": [
    {
     "name": "stdout",
     "output_type": "stream",
     "text": [
      "NetCDF package version: 1.2.4\n"
     ]
    }
   ],
   "source": [
    "from __future__ import division, print_function  # py2to3 compatibility\n",
    "import netCDF4 as nc\n",
    "import numpy as np\n",
    "print('NetCDF package version: {}'.format(nc.__version__))"
   ]
  },
  {
   "cell_type": "markdown",
   "metadata": {},
   "source": [
    "Just to be safe, make sure dataset is not already open"
   ]
  },
  {
   "cell_type": "code",
   "execution_count": 5,
   "metadata": {
    "collapsed": false
   },
   "outputs": [
    {
     "name": "stdout",
     "output_type": "stream",
     "text": [
      "<class 'netCDF4._netCDF4.Dataset'>\n",
      "root group (NETCDF4_CLASSIC data model, file format HDF5):\n",
      "    dimensions(sizes): \n",
      "    variables(dimensions): \n",
      "    groups: \n",
      "\n"
     ]
    }
   ],
   "source": [
    "try:\n",
    "    ncfile.close()\n",
    "except:\n",
    "    pass\n",
    "\n",
    "# another way of checking this:\n",
    "# if ncfile.isopen():\n",
    "#     ncfile.close()\n",
    "\n",
    "ncfile = nc.Dataset(path_to_file, mode='w',\n",
    "                    format='NETCDF4_CLASSIC') \n",
    "print(ncfile)"
   ]
  },
  {
   "cell_type": "markdown",
   "metadata": {},
   "source": [
    "### Creating dimensions\n",
    "\n",
    "The **ncfile** object we created is a container for _dimensions_, _variables_, and _attributes_.   First, let's create some dimensions using the [`createDimension`](http://unidata.github.io/netcdf4-python/netCDF4.Dataset-class.html#createDimension) method.  \n",
    "\n",
    "- Every dimension has a name and a length.  \n",
    "- The name is a string that is used to specify the dimension to be used when creating a variable, and as a key to access the dimension object in the `ncfile.dimensions` dictionary.\n",
    "\n",
    "Setting the dimension length to `0` or `None` makes it unlimited, so it can grow. \n",
    "\n",
    "- For `NETCDF4` files, any variable's dimension can be unlimited.  \n",
    "- For `NETCDF4_CLASSIC` and `NETCDF3*` files, only one per variable can be unlimited, and it must be the leftmost (slowest varying) dimension."
   ]
  },
  {
   "cell_type": "markdown",
   "metadata": {},
   "source": [
    "#### Decide what dimensions our data will have"
   ]
  },
  {
   "cell_type": "code",
   "execution_count": 6,
   "metadata": {
    "collapsed": true
   },
   "outputs": [],
   "source": [
    "nlat = 73\n",
    "nlon = 144"
   ]
  },
  {
   "cell_type": "code",
   "execution_count": 7,
   "metadata": {
    "collapsed": false
   },
   "outputs": [
    {
     "name": "stdout",
     "output_type": "stream",
     "text": [
      "('lat', <class 'netCDF4._netCDF4.Dimension'>: name = 'lat', size = 73\n",
      ")\n",
      "('lon', <class 'netCDF4._netCDF4.Dimension'>: name = 'lon', size = 144\n",
      ")\n",
      "('time', <class 'netCDF4._netCDF4.Dimension'> (unlimited): name = 'time', size = 0\n",
      ")\n"
     ]
    }
   ],
   "source": [
    "lat_dim = ncfile.createDimension('lat', nlat)  # latitude axis\n",
    "lon_dim = ncfile.createDimension('lon', nlon)  # longitude axis\n",
    "time_dim = ncfile.createDimension('time', None)  # unlimited axis\n",
    "for dim in ncfile.dimensions.items():\n",
    "    print(dim)"
   ]
  },
  {
   "cell_type": "markdown",
   "metadata": {},
   "source": [
    "#### Creating attributes\n",
    "\n",
    "netCDF attributes can be created just like you would for any python object. \n",
    "\n",
    "- Best to adhere to established conventions (like the [CF](http://cfconventions.org/) conventions)\n",
    "- We won't try to adhere to any specific convention here though."
   ]
  },
  {
   "cell_type": "code",
   "execution_count": 8,
   "metadata": {
    "collapsed": false
   },
   "outputs": [
    {
     "name": "stdout",
     "output_type": "stream",
     "text": [
      "<class 'netCDF4._netCDF4.Dataset'>\n",
      "root group (NETCDF4_CLASSIC data model, file format HDF5):\n",
      "    author: UEA Python Group\n",
      "    title: My model data\n",
      "    dimensions(sizes): lat(73), lon(144), time(0)\n",
      "    variables(dimensions): \n",
      "    groups: \n",
      "\n"
     ]
    }
   ],
   "source": [
    "ncfile.author = 'UEA Python Group'\n",
    "ncfile.title='My model data'\n",
    "print(ncfile)"
   ]
  },
  {
   "cell_type": "markdown",
   "metadata": {},
   "source": [
    "You can also easily delete a netCDF attribute of a Dataset by using `delncattr` method:"
   ]
  },
  {
   "cell_type": "code",
   "execution_count": 9,
   "metadata": {
    "collapsed": false
   },
   "outputs": [],
   "source": [
    "ncfile.some_unnecessary_attribute = '123456'\n",
    "ncfile.delncattr('some_unnecessary_attribute')"
   ]
  },
  {
   "cell_type": "markdown",
   "metadata": {},
   "source": [
    "## Creating variables\n",
    "\n",
    "Now let's add some variables and store some data in them.  \n",
    "\n",
    "- A variable has a name, a type, a shape, and some data values.  \n",
    "- The shape of a variable is specified by a tuple of dimension names.  \n",
    "- A variable should also have some named attributes, such as 'units', that describe the data.\n",
    "\n",
    "The [`createVariable`](http://unidata.github.io/netcdf4-python/netCDF4.Dataset-class.html#createVariable) method takes 3 mandatory args.\n",
    "\n",
    "- the 1st argument is the variable name (a string). This is used as the key to access the variable object from the `variables` dictionary.\n",
    "- the 2nd argument is the datatype (most numpy datatypes supported).  \n",
    "- the third argument is a tuple containing the dimension names (the dimensions must be created first).  Unless this is a `NETCDF4` file, any unlimited dimension must be the leftmost one.\n",
    "- there are lots of optional arguments (many of which are only relevant when `format='NETCDF4'`) to control compression, chunking, fill_value, etc."
   ]
  },
  {
   "cell_type": "code",
   "execution_count": 10,
   "metadata": {
    "collapsed": true
   },
   "outputs": [],
   "source": [
    "# Define two variables with the same names as dimensions,\n",
    "# a conventional way to define \"coordinate variables\".\n",
    "lat = ncfile.createVariable('lat', np.float32, ('lat',))\n",
    "lat.units = 'degrees_north'\n",
    "lat.long_name = 'latitude'\n",
    "#\n",
    "lon = ncfile.createVariable('lon', np.float32, ('lon',))\n",
    "lon.units = 'degrees_east'\n",
    "lon.long_name = 'longitude'\n",
    "#\n",
    "time = ncfile.createVariable('time', np.float64, ('time',))\n",
    "time.units = 'hours since 1800-01-01'\n",
    "time.long_name = 'time'"
   ]
  },
  {
   "cell_type": "markdown",
   "metadata": {},
   "source": [
    "#### Define a 3D variable to hold the data"
   ]
  },
  {
   "cell_type": "code",
   "execution_count": 11,
   "metadata": {
    "collapsed": false
   },
   "outputs": [
    {
     "name": "stdout",
     "output_type": "stream",
     "text": [
      "<class 'netCDF4._netCDF4.Variable'>\n",
      "float64 temp(time, lat, lon)\n",
      "    units: K\n",
      "    standard_name: air_temperature\n",
      "unlimited dimensions: time\n",
      "current shape = (0, 73, 144)\n",
      "filling on, default _FillValue of 9.969209968386869e+36 used\n",
      "\n"
     ]
    }
   ],
   "source": [
    "temp = ncfile.createVariable('temp', np.float64,\n",
    "                             ('time', 'lat', 'lon'))  # note: unlimited dimension is leftmost\n",
    "temp.units = 'K'  # degrees Kelvin\n",
    "temp.standard_name = 'air_temperature'  # this is a CF standard name\n",
    "print(temp)"
   ]
  },
  {
   "cell_type": "markdown",
   "metadata": {},
   "source": [
    "#### Pre-defined variable attributes (read only)\n",
    "\n",
    "The netCDF4 module provides some useful pre-defined Python attributes for netCDF variables, such as dimensions, shape, dtype, ndim. \n",
    "\n",
    "Note: since no data has been written yet, the length of the 'time' dimension is 0."
   ]
  },
  {
   "cell_type": "code",
   "execution_count": 12,
   "metadata": {
    "collapsed": false
   },
   "outputs": [
    {
     "name": "stdout",
     "output_type": "stream",
     "text": [
      "Some pre-defined attributes for variable temp:\n",
      "\n",
      "temp.dimensions: ('time', 'lat', 'lon')\n",
      "temp.shape: (0, 73, 144)\n",
      "temp.dtype: float64\n",
      "temp.ndim: 3\n"
     ]
    }
   ],
   "source": [
    "print(\"Some pre-defined attributes for variable temp:\\n\")\n",
    "print(\"temp.dimensions:\", temp.dimensions)\n",
    "print(\"temp.shape:\", temp.shape)\n",
    "print(\"temp.dtype:\", temp.dtype)\n",
    "print(\"temp.ndim:\", temp.ndim)"
   ]
  },
  {
   "cell_type": "markdown",
   "metadata": {},
   "source": [
    "## Writing data\n",
    "\n",
    "To write data a netCDF variable object, just treat it like a numpy array and assign values to a slice."
   ]
  },
  {
   "cell_type": "code",
   "execution_count": 13,
   "metadata": {
    "collapsed": true
   },
   "outputs": [],
   "source": [
    "# Write latitudes, longitudes.\n",
    "# Note: the \":\" is necessary in these \"write\" statements\n",
    "lat[:] = -90. + (180 / nlat) * np.arange(nlat) # south pole to north pole\n",
    "lon[:] = (180 / nlat) * np.arange(nlon) # Greenwich meridian eastward"
   ]
  },
  {
   "cell_type": "code",
   "execution_count": 14,
   "metadata": {
    "collapsed": true
   },
   "outputs": [],
   "source": [
    "ntimes = 5  # 5 Time slices to begin with"
   ]
  },
  {
   "cell_type": "code",
   "execution_count": 15,
   "metadata": {
    "collapsed": false
   },
   "outputs": [],
   "source": [
    "# create a 3D array of random numbers\n",
    "data_arr = np.random.uniform(low=280, high=330, size=(ntimes, nlat, nlon))\n",
    "# Write the data. This writes the whole 3D netCDF variable all at once.\n",
    "temp[:] = data_arr  # Appends data along unlimited dimension"
   ]
  },
  {
   "cell_type": "markdown",
   "metadata": {},
   "source": [
    "- You can just treat a netCDF Variable object like a numpy array and assign values to it.\n",
    "- However, unlike numpy arrays, variables automatically grow along unlimited dimensions\n",
    "- The above writes the whole 3D variable all at once, but you can write it a slice at a time instead.\n",
    "\n",
    "Let's add another time slice...."
   ]
  },
  {
   "cell_type": "code",
   "execution_count": 16,
   "metadata": {
    "collapsed": false
   },
   "outputs": [
    {
     "name": "stdout",
     "output_type": "stream",
     "text": [
      " Wrote more data, temp.shape is now  (6, 73, 144)\n"
     ]
    }
   ],
   "source": [
    "# create a 2D array of random numbers\n",
    "data_slice = np.random.uniform(low=270, high=290, size=(nlat, nlon))\n",
    "temp[5, :, :] = data_slice  # Appends the 6th time slice\n",
    "print(\" Wrote more data, temp.shape is now \", temp.shape)"
   ]
  },
  {
   "cell_type": "markdown",
   "metadata": {},
   "source": [
    "Note that we have not yet written any data to the time variable.  It automatically grew as we appended data along the time dimension to the variable `temp`, but the data are missing."
   ]
  },
  {
   "cell_type": "code",
   "execution_count": 17,
   "metadata": {
    "collapsed": false
   },
   "outputs": [
    {
     "name": "stdout",
     "output_type": "stream",
     "text": [
      "<class 'netCDF4._netCDF4.Variable'>\n",
      "float64 time(time)\n",
      "    units: hours since 1800-01-01\n",
      "    long_name: time\n",
      "unlimited dimensions: time\n",
      "current shape = (6,)\n",
      "filling on, default _FillValue of 9.969209968386869e+36 used\n",
      "\n",
      "<class 'numpy.ma.core.MaskedArray'> [-- -- -- -- -- --]\n"
     ]
    }
   ],
   "source": [
    "print(time)\n",
    "times_arr = time[:]\n",
    "print(type(times_arr), times_arr)"
   ]
  },
  {
   "cell_type": "markdown",
   "metadata": {},
   "source": [
    "Dashes indicate masked values (where data have not yet been written)."
   ]
  },
  {
   "cell_type": "markdown",
   "metadata": {},
   "source": [
    "Now, to work with time objects we will need some extra imports:"
   ]
  },
  {
   "cell_type": "code",
   "execution_count": 18,
   "metadata": {
    "collapsed": true
   },
   "outputs": [],
   "source": [
    "import datetime as dt\n",
    "from netCDF4 import date2num, num2date"
   ]
  },
  {
   "cell_type": "code",
   "execution_count": 19,
   "metadata": {
    "collapsed": false
   },
   "outputs": [
    {
     "name": "stdout",
     "output_type": "stream",
     "text": [
      "2016-10-01 00:00:00\n",
      "2016-10-02 00:00:00\n",
      "2016-10-03 00:00:00\n",
      "2016-10-04 00:00:00\n",
      "2016-10-05 00:00:00\n",
      "2016-10-06 00:00:00\n"
     ]
    }
   ],
   "source": [
    "# 1st 6 days of October.\n",
    "dates = [dt.datetime(2016, 10, 1, 0),\n",
    "         dt.datetime(2016, 10, 2, 0),\n",
    "         dt.datetime(2016, 10, 3, 0),\n",
    "         dt.datetime(2016, 10, 4, 0),\n",
    "         dt.datetime(2016, 10, 5, 0),\n",
    "         dt.datetime(2016, 10, 6, 0)]\n",
    "print('\\n'.join([str(i) for i in dates]))"
   ]
  },
  {
   "cell_type": "code",
   "execution_count": 20,
   "metadata": {
    "collapsed": false
   },
   "outputs": [
    {
     "name": "stdout",
     "output_type": "stream",
     "text": [
      "[ 1899984.  1900008.  1900032.  1900056.  1900080.  1900104.] hours since 1800-01-01\n",
      "[datetime.datetime(2016, 10, 1, 0, 0) datetime.datetime(2016, 10, 2, 0, 0)\n",
      " datetime.datetime(2016, 10, 3, 0, 0) datetime.datetime(2016, 10, 4, 0, 0)\n",
      " datetime.datetime(2016, 10, 5, 0, 0) datetime.datetime(2016, 10, 6, 0, 0)]\n"
     ]
    }
   ],
   "source": [
    "times = date2num(dates, time.units)\n",
    "print(times, time.units) # numeric values\n",
    "time[:] = times\n",
    "# read time data back, convert to datetime instances, check values.\n",
    "print(num2date(time[:], time.units))"
   ]
  },
  {
   "cell_type": "markdown",
   "metadata": {},
   "source": [
    "## Closing a netCDF file\n",
    "\n",
    "It's **important** to close a netCDF file you opened for writing:\n",
    "\n",
    "- flushes buffers to make sure all data gets written\n",
    "- releases memory resources used by open netCDF files"
   ]
  },
  {
   "cell_type": "code",
   "execution_count": 21,
   "metadata": {
    "collapsed": false
   },
   "outputs": [
    {
     "name": "stdout",
     "output_type": "stream",
     "text": [
      "<class 'netCDF4._netCDF4.Dataset'>\n",
      "root group (NETCDF4_CLASSIC data model, file format HDF5):\n",
      "    author: UEA Python Group\n",
      "    title: My model data\n",
      "    dimensions(sizes): lat(73), lon(144), time(6)\n",
      "    variables(dimensions): float32 \u001b[4mlat\u001b[0m(lat), float32 \u001b[4mlon\u001b[0m(lon), float64 \u001b[4mtime\u001b[0m(time), float64 \u001b[4mtemp\u001b[0m(time,lat,lon)\n",
      "    groups: \n",
      "\n"
     ]
    }
   ],
   "source": [
    "# first print the Dataset object to see what we've got\n",
    "print(ncfile)\n",
    "# close the Dataset.\n",
    "ncfile.close()"
   ]
  },
  {
   "cell_type": "markdown",
   "metadata": {},
   "source": [
    "Check again using ncdump utility"
   ]
  },
  {
   "cell_type": "code",
   "execution_count": 22,
   "metadata": {
    "collapsed": false
   },
   "outputs": [
    {
     "name": "stdout",
     "output_type": "stream",
     "text": [
      "netcdf new {\r\n",
      "dimensions:\r\n",
      "\tlat = 73 ;\r\n",
      "\tlon = 144 ;\r\n",
      "\ttime = UNLIMITED ; // (6 currently)\r\n",
      "variables:\r\n",
      "\tfloat lat(lat) ;\r\n",
      "\t\tlat:units = \"degrees_north\" ;\r\n",
      "\t\tlat:long_name = \"latitude\" ;\r\n",
      "\tfloat lon(lon) ;\r\n",
      "\t\tlon:units = \"degrees_east\" ;\r\n",
      "\t\tlon:long_name = \"longitude\" ;\r\n",
      "\tdouble time(time) ;\r\n",
      "\t\ttime:units = \"hours since 1800-01-01\" ;\r\n",
      "\t\ttime:long_name = \"time\" ;\r\n",
      "\tdouble temp(time, lat, lon) ;\r\n",
      "\t\ttemp:units = \"K\" ;\r\n",
      "\t\ttemp:standard_name = \"air_temperature\" ;\r\n",
      "\r\n",
      "// global attributes:\r\n",
      "\t\t:author = \"UEA Python Group\" ;\r\n",
      "\t\t:title = \"My model data\" ;\r\n",
      "}\r\n"
     ]
    }
   ],
   "source": [
    "!ncdump -h ../data/new.nc"
   ]
  },
  {
   "cell_type": "markdown",
   "metadata": {},
   "source": [
    "-------------------"
   ]
  },
  {
   "cell_type": "markdown",
   "metadata": {},
   "source": [
    "## Appending data to NetCDF dataset"
   ]
  },
  {
   "cell_type": "code",
   "execution_count": 23,
   "metadata": {
    "collapsed": false
   },
   "outputs": [],
   "source": [
    "ncfile = nc.Dataset(path_to_file, 'a')"
   ]
  },
  {
   "cell_type": "code",
   "execution_count": 24,
   "metadata": {
    "collapsed": false
   },
   "outputs": [],
   "source": [
    "temp_ave = ncfile.createVariable('zonal_mean_temp',\n",
    "                                 np.float64, ('time', 'lat'))\n",
    "temp_ave.units = 'K'\n",
    "temp_ave.standard_name = 'zonally_averaged_air_temperature'"
   ]
  },
  {
   "cell_type": "code",
   "execution_count": 25,
   "metadata": {
    "collapsed": false
   },
   "outputs": [
    {
     "name": "stdout",
     "output_type": "stream",
     "text": [
      "<class 'netCDF4._netCDF4.Variable'>\n",
      "float64 zonal_mean_temp(time, lat)\n",
      "    units: K\n",
      "    standard_name: zonally_averaged_air_temperature\n",
      "unlimited dimensions: time\n",
      "current shape = (6, 73)\n",
      "filling on, default _FillValue of 9.969209968386869e+36 used\n",
      "\n"
     ]
    }
   ],
   "source": [
    "print(temp_ave)"
   ]
  },
  {
   "cell_type": "markdown",
   "metadata": {},
   "source": [
    "Create an averaged array using the existing \"air_temperature\" field:"
   ]
  },
  {
   "cell_type": "code",
   "execution_count": 26,
   "metadata": {
    "collapsed": false
   },
   "outputs": [
    {
     "name": "stdout",
     "output_type": "stream",
     "text": [
      "(6, 73, 144)\n",
      "(6, 73)\n"
     ]
    }
   ],
   "source": [
    "temp = ncfile.variables['temp'][:]\n",
    "print(temp.shape)\n",
    "ave_arr = np.mean(temp[:], axis=2)\n",
    "print(ave_arr.shape)"
   ]
  },
  {
   "cell_type": "markdown",
   "metadata": {},
   "source": [
    "Write the data"
   ]
  },
  {
   "cell_type": "code",
   "execution_count": 27,
   "metadata": {
    "collapsed": true
   },
   "outputs": [],
   "source": [
    "temp_ave[:] = ave_arr  # again, note the square brackets!"
   ]
  },
  {
   "cell_type": "code",
   "execution_count": 28,
   "metadata": {
    "collapsed": true
   },
   "outputs": [],
   "source": [
    "ncfile.close()"
   ]
  },
  {
   "cell_type": "markdown",
   "metadata": {},
   "source": [
    "## Open the resulting dataset and plot some data"
   ]
  },
  {
   "cell_type": "code",
   "execution_count": 29,
   "metadata": {
    "collapsed": true
   },
   "outputs": [],
   "source": [
    "import matplotlib.pyplot as plt\n",
    "%matplotlib inline"
   ]
  },
  {
   "cell_type": "markdown",
   "metadata": {},
   "source": [
    "Open the file for *reading*"
   ]
  },
  {
   "cell_type": "code",
   "execution_count": 30,
   "metadata": {
    "collapsed": false
   },
   "outputs": [],
   "source": [
    "ncfile = nc.Dataset(path_to_file, 'r')"
   ]
  },
  {
   "cell_type": "markdown",
   "metadata": {},
   "source": [
    "First, try this handy methods of extracting variables: [`get_variables_by_attributes`](http://unidata.github.io/netcdf4-python/#netCDF4.Dataset.get_variables_by_attributes). Note: it's available in netCDF4>1.2.0."
   ]
  },
  {
   "cell_type": "code",
   "execution_count": 31,
   "metadata": {
    "collapsed": false,
    "scrolled": true
   },
   "outputs": [],
   "source": [
    "try:\n",
    "    ncfile.get_variables_by_attributes(units='K')\n",
    "    ncfile.get_variables_by_attributes(ndim=1)\n",
    "except:\n",
    "    pass"
   ]
  },
  {
   "cell_type": "code",
   "execution_count": 32,
   "metadata": {
    "collapsed": false
   },
   "outputs": [],
   "source": [
    "t = ncfile.variables['zonal_mean_temp']\n",
    "lats = ncfile.variables['lat']\n",
    "times = ncfile.variables['time']\n",
    "dt = num2date(times[:], times.units)"
   ]
  },
  {
   "cell_type": "code",
   "execution_count": 33,
   "metadata": {
    "collapsed": false
   },
   "outputs": [
    {
     "name": "stdout",
     "output_type": "stream",
     "text": [
      "Here is the plot\n"
     ]
    },
    {
     "data": {
      "image/png": "[encoded data removed]",
      "text/plain": [
       "<matplotlib.figure.Figure at 0x7f6573179ac8>"
      ]
     },
     "metadata": {},
     "output_type": "display_data"
    }
   ],
   "source": [
    "fig, ax = plt.subplots(figsize=(10, 6))\n",
    "p = ax.contourf(lats[:], dt, t[:], cmap='inferno')\n",
    "cb = fig.colorbar(p, ax=ax)\n",
    "ax.tick_params(labelsize=20)\n",
    "ax.set_xlabel(lats.long_name, fontsize=22)\n",
    "ax.set_ylabel(times.long_name, fontsize=22)\n",
    "ax.set_title('{} ({})'.format(t.standard_name.replace('_', ' '), t.units), fontsize=20)\n",
    "print('Here is the plot')"
   ]
  },
  {
   "cell_type": "markdown",
   "metadata": {},
   "source": [
    "--------------------------"
   ]
  },
  {
   "cell_type": "markdown",
   "metadata": {},
   "source": [
    "# References"
   ]
  },
  {
   "cell_type": "markdown",
   "metadata": {},
   "source": [
    "This notebook is build upon the great materials of the [Unidata Python Workshop](https://unidata.github.io/unidata-python-workshop/):\n",
    "  * https://github.com/Unidata/unidata-python-workshop/blob/master/notebooks/netCDF-Writing.ipynb"
   ]
  },
  {
   "cell_type": "markdown",
   "metadata": {},
   "source": [
    "## Other interesting and useful projects using netcdf4-python\n",
    "\n",
    "- [xarray](http://xarray.pydata.org): N-dimensional variant of the core [pandas](http://pandas.pydata.org) data structure that can operate on netcdf variables.\n",
    "- [Iris](http://scitools.org.uk/iris/): their data model creates a data abstraction layer which isolates analysis and visualisation code from data format specifics.  Can also handle GRIB and PP formats.\n",
    "- [Biggus](https://github.com/SciTools/biggus): Virtual [large](https://www.youtube.com/watch?v=zPGb4STRfKw) arrays (from netcdf variables) with lazy evaluation.\n",
    "- [cf-python](http://cfpython.bitbucket.org/): Implements the [CF](http://cfconventions.org) data model for the reading, writing and processing of data and metadata. "
   ]
  },
  {
   "cell_type": "code",
   "execution_count": 34,
   "metadata": {
    "collapsed": false
   },
   "outputs": [
    {
     "data": {
      "text/html": [
       "\n",
       "    <small>\n",
       "    <p> This post was written as an IPython (Jupyter) notebook. You can view or download it using\n",
       "    <a href=\"http://nbviewer.ipython.org/github/ueapy/ueapy.github.io/blob/src/content/notebooks/2016-10-07-creating-netcdf-datasets.ipynb\">nbviewer</a>.</p>\n",
       "    "
      ],
      "text/plain": [
       "<IPython.core.display.HTML object>"
      ]
     },
     "execution_count": 34,
     "metadata": {},
     "output_type": "execute_result"
    }
   ],
   "source": [
    "HTML(html)"
   ]
  }
 ],
 "metadata": {
  "kernelspec": {
   "display_name": "Python 3",
   "language": "python",
   "name": "python3"
  },
  "language_info": {
   "codemirror_mode": {
    "name": "ipython",
    "version": 3
   },
   "file_extension": ".py",
   "mimetype": "text/x-python",
   "name": "python",
   "nbconvert_exporter": "python",
   "pygments_lexer": "ipython3",
   "version": "3.5.2"
  }
 },
 "nbformat": 4,
 "nbformat_minor": 1
}
